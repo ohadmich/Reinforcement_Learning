{
 "cells": [
  {
   "cell_type": "markdown",
   "metadata": {},
   "source": [
    "# Reinforcement Learning Games"
   ]
  },
  {
   "cell_type": "markdown",
   "metadata": {},
   "source": [
    "Import libraries:"
   ]
  },
  {
   "cell_type": "code",
   "execution_count": 1,
   "metadata": {},
   "outputs": [
    {
     "name": "stderr",
     "output_type": "stream",
     "text": [
      "c:\\python36\\lib\\site-packages\\h5py\\__init__.py:36: FutureWarning: Conversion of the second argument of issubdtype from `float` to `np.floating` is deprecated. In future, it will be treated as `np.float64 == np.dtype(float).type`.\n",
      "  from ._conv import register_converters as _register_converters\n"
     ]
    }
   ],
   "source": [
    "import numpy as np\n",
    "import tensorflow as tf\n",
    "import gym\n",
    "import matplotlib.pyplot as plt\n",
    "% matplotlib notebook"
   ]
  },
  {
   "cell_type": "markdown",
   "metadata": {},
   "source": [
    "First, let's see how a basic game play with random action choice looks like"
   ]
  },
  {
   "cell_type": "code",
   "execution_count": 2,
   "metadata": {},
   "outputs": [],
   "source": [
    "env = gym.make('Pendulum-v0')           # Choose a game to create environment\n",
    "env.reset()                             # Reset game\n",
    "for _ in range(200):\n",
    "    env.render()                        # Render game\n",
    "    env.step(env.action_space.sample()) # Play a step chosen out of action_space\n",
    "    \n",
    "env.close()                             # close envirenment"
   ]
  },
  {
   "cell_type": "markdown",
   "metadata": {},
   "source": [
    "What is kind of actions do we have?"
   ]
  },
  {
   "cell_type": "code",
   "execution_count": 5,
   "metadata": {},
   "outputs": [
    {
     "data": {
      "text/plain": [
       "Box(1,)"
      ]
     },
     "execution_count": 5,
     "metadata": {},
     "output_type": "execute_result"
    }
   ],
   "source": [
    "env.action_space"
   ]
  },
  {
   "cell_type": "markdown",
   "metadata": {},
   "source": [
    "This is a 1D box, i.e. some range of continuous values over 1D axis.\n",
    "What is the range of values available for actions?"
   ]
  },
  {
   "cell_type": "code",
   "execution_count": 8,
   "metadata": {},
   "outputs": [
    {
     "name": "stdout",
     "output_type": "stream",
     "text": [
      "[2.]\n",
      "[-2.]\n"
     ]
    }
   ],
   "source": [
    "print(env.action_space.high)\n",
    "print(env.action_space.low)"
   ]
  },
  {
   "cell_type": "markdown",
   "metadata": {},
   "source": [
    "We can do the same for observations:"
   ]
  },
  {
   "cell_type": "code",
   "execution_count": 10,
   "metadata": {},
   "outputs": [
    {
     "name": "stdout",
     "output_type": "stream",
     "text": [
      "Box(3,)\n",
      "[1. 1. 8.]\n",
      "[-1. -1. -8.]\n"
     ]
    }
   ],
   "source": [
    "print(env.observation_space)\n",
    "print(env.observation_space.high)\n",
    "print(env.observation_space.low)"
   ]
  },
  {
   "cell_type": "markdown",
   "metadata": {},
   "source": [
    "Now we can run a few episodes and also save information about the observation and reward in each step:"
   ]
  },
  {
   "cell_type": "code",
   "execution_count": 11,
   "metadata": {},
   "outputs": [
    {
     "name": "stdout",
     "output_type": "stream",
     "text": [
      "Episode ended after 22 steps\n",
      "Episode ended after 12 steps\n",
      "Episode ended after 16 steps\n",
      "Episode ended after 18 steps\n",
      "Episode ended after 24 steps\n",
      "Episode ended after 13 steps\n",
      "Episode ended after 25 steps\n",
      "Episode ended after 28 steps\n",
      "Episode ended after 25 steps\n",
      "Episode ended after 30 steps\n",
      "Episode ended after 17 steps\n",
      "Episode ended after 42 steps\n",
      "Episode ended after 15 steps\n",
      "Episode ended after 14 steps\n",
      "Episode ended after 28 steps\n",
      "Episode ended after 17 steps\n",
      "Episode ended after 19 steps\n",
      "Episode ended after 26 steps\n",
      "Episode ended after 21 steps\n",
      "Episode ended after 18 steps\n"
     ]
    }
   ],
   "source": [
    "num_steps = 200                  # Number steps to run\n",
    "num_episodes = 20                # Number of game episodes to run\n",
    "\n",
    "env = gym.make('CartPole-v0')    # Choose a game to create environment\n",
    "temp = env.reset()                                        # Reset game and save first observation\n",
    "obs = np.zeros((num_episodes, num_steps, len(temp)))      # allocate space for observations\n",
    "reward = np.zeros((num_episodes, num_steps))              # allocate space for rewars\n",
    "\n",
    "''' Run episodes '''\n",
    "for ep in range(num_episodes): \n",
    "    obs[ep,0,:] = temp = env.reset() # Reset and save first observation\n",
    "    \n",
    "    ''' Run steps '''\n",
    "    for t in range(1,num_steps):\n",
    "        env.render()\n",
    "        action = env.action_space.sample()   # Sample an action\n",
    "        obs[ep,t], reward[ep,t], done, info = env.step(action)  # Take action and save observation, reward and done boolean\n",
    "        if done: \n",
    "            print(\"Episode ended after {} steps\".format(t+1))\n",
    "            break\n",
    "\n",
    "env.close()"
   ]
  },
  {
   "cell_type": "markdown",
   "metadata": {},
   "source": [
    "For CartPole, the action space is Descrete, and has a size of 2 which means an action is either 0 or 1"
   ]
  },
  {
   "cell_type": "code",
   "execution_count": 20,
   "metadata": {},
   "outputs": [
    {
     "name": "stdout",
     "output_type": "stream",
     "text": [
      "Discrete(2)\n",
      "2\n"
     ]
    }
   ],
   "source": [
    "print(env.action_space)\n",
    "print(env.action_space.n)"
   ]
  },
  {
   "cell_type": "markdown",
   "metadata": {},
   "source": [
    "Here is a nice way to figure out what action 1 does:"
   ]
  },
  {
   "cell_type": "code",
   "execution_count": 21,
   "metadata": {},
   "outputs": [
    {
     "name": "stdout",
     "output_type": "stream",
     "text": [
      "\u001b[33mWARN: You are calling 'step()' even though this environment has already returned done = True. You should always call 'reset()' once you receive 'done = True' -- any further steps are undefined behavior.\u001b[0m\n"
     ]
    }
   ],
   "source": [
    "env.reset()\n",
    "for _ in range(60):\n",
    "    env.render()\n",
    "    env.step(1)\n",
    "    \n",
    "env.close()"
   ]
  },
  {
   "cell_type": "markdown",
   "metadata": {},
   "source": [
    "So, this moves the cart to the right. Obviously, 0 moves the cart to the left..."
   ]
  },
  {
   "cell_type": "code",
   "execution_count": 29,
   "metadata": {},
   "outputs": [
    {
     "data": {
      "text/plain": [
       "dict_values([EnvSpec(Copy-v0), EnvSpec(RepeatCopy-v0), EnvSpec(ReversedAddition-v0), EnvSpec(ReversedAddition3-v0), EnvSpec(DuplicatedInput-v0), EnvSpec(Reverse-v0), EnvSpec(CartPole-v0), EnvSpec(CartPole-v1), EnvSpec(MountainCar-v0), EnvSpec(MountainCarContinuous-v0), EnvSpec(Pendulum-v0), EnvSpec(Acrobot-v1), EnvSpec(LunarLander-v2), EnvSpec(LunarLanderContinuous-v2), EnvSpec(BipedalWalker-v2), EnvSpec(BipedalWalkerHardcore-v2), EnvSpec(CarRacing-v0), EnvSpec(Blackjack-v0), EnvSpec(KellyCoinflip-v0), EnvSpec(KellyCoinflipGeneralized-v0), EnvSpec(FrozenLake-v0), EnvSpec(FrozenLake8x8-v0), EnvSpec(CliffWalking-v0), EnvSpec(NChain-v0), EnvSpec(Roulette-v0), EnvSpec(Taxi-v2), EnvSpec(GuessingGame-v0), EnvSpec(HotterColder-v0), EnvSpec(Reacher-v2), EnvSpec(Pusher-v2), EnvSpec(Thrower-v2), EnvSpec(Striker-v2), EnvSpec(InvertedPendulum-v2), EnvSpec(InvertedDoublePendulum-v2), EnvSpec(HalfCheetah-v2), EnvSpec(Hopper-v2), EnvSpec(Swimmer-v2), EnvSpec(Walker2d-v2), EnvSpec(Ant-v2), EnvSpec(Humanoid-v2), EnvSpec(HumanoidStandup-v2), EnvSpec(FetchSlide-v1), EnvSpec(FetchPickAndPlace-v1), EnvSpec(FetchReach-v1), EnvSpec(FetchPush-v1), EnvSpec(HandReach-v0), EnvSpec(HandManipulateBlockRotateZ-v0), EnvSpec(HandManipulateBlockRotateParallel-v0), EnvSpec(HandManipulateBlockRotateXYZ-v0), EnvSpec(HandManipulateBlockFull-v0), EnvSpec(HandManipulateBlock-v0), EnvSpec(HandManipulateEggRotate-v0), EnvSpec(HandManipulateEggFull-v0), EnvSpec(HandManipulateEgg-v0), EnvSpec(HandManipulatePenRotate-v0), EnvSpec(HandManipulatePenFull-v0), EnvSpec(HandManipulatePen-v0), EnvSpec(FetchSlideDense-v1), EnvSpec(FetchPickAndPlaceDense-v1), EnvSpec(FetchReachDense-v1), EnvSpec(FetchPushDense-v1), EnvSpec(HandReachDense-v0), EnvSpec(HandManipulateBlockRotateZDense-v0), EnvSpec(HandManipulateBlockRotateParallelDense-v0), EnvSpec(HandManipulateBlockRotateXYZDense-v0), EnvSpec(HandManipulateBlockFullDense-v0), EnvSpec(HandManipulateBlockDense-v0), EnvSpec(HandManipulateEggRotateDense-v0), EnvSpec(HandManipulateEggFullDense-v0), EnvSpec(HandManipulateEggDense-v0), EnvSpec(HandManipulatePenRotateDense-v0), EnvSpec(HandManipulatePenFullDense-v0), EnvSpec(HandManipulatePenDense-v0), EnvSpec(AirRaid-v0), EnvSpec(AirRaid-v4), EnvSpec(AirRaidDeterministic-v0), EnvSpec(AirRaidDeterministic-v4), EnvSpec(AirRaidNoFrameskip-v0), EnvSpec(AirRaidNoFrameskip-v4), EnvSpec(AirRaid-ram-v0), EnvSpec(AirRaid-ram-v4), EnvSpec(AirRaid-ramDeterministic-v0), EnvSpec(AirRaid-ramDeterministic-v4), EnvSpec(AirRaid-ramNoFrameskip-v0), EnvSpec(AirRaid-ramNoFrameskip-v4), EnvSpec(Alien-v0), EnvSpec(Alien-v4), EnvSpec(AlienDeterministic-v0), EnvSpec(AlienDeterministic-v4), EnvSpec(AlienNoFrameskip-v0), EnvSpec(AlienNoFrameskip-v4), EnvSpec(Alien-ram-v0), EnvSpec(Alien-ram-v4), EnvSpec(Alien-ramDeterministic-v0), EnvSpec(Alien-ramDeterministic-v4), EnvSpec(Alien-ramNoFrameskip-v0), EnvSpec(Alien-ramNoFrameskip-v4), EnvSpec(Amidar-v0), EnvSpec(Amidar-v4), EnvSpec(AmidarDeterministic-v0), EnvSpec(AmidarDeterministic-v4), EnvSpec(AmidarNoFrameskip-v0), EnvSpec(AmidarNoFrameskip-v4), EnvSpec(Amidar-ram-v0), EnvSpec(Amidar-ram-v4), EnvSpec(Amidar-ramDeterministic-v0), EnvSpec(Amidar-ramDeterministic-v4), EnvSpec(Amidar-ramNoFrameskip-v0), EnvSpec(Amidar-ramNoFrameskip-v4), EnvSpec(Assault-v0), EnvSpec(Assault-v4), EnvSpec(AssaultDeterministic-v0), EnvSpec(AssaultDeterministic-v4), EnvSpec(AssaultNoFrameskip-v0), EnvSpec(AssaultNoFrameskip-v4), EnvSpec(Assault-ram-v0), EnvSpec(Assault-ram-v4), EnvSpec(Assault-ramDeterministic-v0), EnvSpec(Assault-ramDeterministic-v4), EnvSpec(Assault-ramNoFrameskip-v0), EnvSpec(Assault-ramNoFrameskip-v4), EnvSpec(Asterix-v0), EnvSpec(Asterix-v4), EnvSpec(AsterixDeterministic-v0), EnvSpec(AsterixDeterministic-v4), EnvSpec(AsterixNoFrameskip-v0), EnvSpec(AsterixNoFrameskip-v4), EnvSpec(Asterix-ram-v0), EnvSpec(Asterix-ram-v4), EnvSpec(Asterix-ramDeterministic-v0), EnvSpec(Asterix-ramDeterministic-v4), EnvSpec(Asterix-ramNoFrameskip-v0), EnvSpec(Asterix-ramNoFrameskip-v4), EnvSpec(Asteroids-v0), EnvSpec(Asteroids-v4), EnvSpec(AsteroidsDeterministic-v0), EnvSpec(AsteroidsDeterministic-v4), EnvSpec(AsteroidsNoFrameskip-v0), EnvSpec(AsteroidsNoFrameskip-v4), EnvSpec(Asteroids-ram-v0), EnvSpec(Asteroids-ram-v4), EnvSpec(Asteroids-ramDeterministic-v0), EnvSpec(Asteroids-ramDeterministic-v4), EnvSpec(Asteroids-ramNoFrameskip-v0), EnvSpec(Asteroids-ramNoFrameskip-v4), EnvSpec(Atlantis-v0), EnvSpec(Atlantis-v4), EnvSpec(AtlantisDeterministic-v0), EnvSpec(AtlantisDeterministic-v4), EnvSpec(AtlantisNoFrameskip-v0), EnvSpec(AtlantisNoFrameskip-v4), EnvSpec(Atlantis-ram-v0), EnvSpec(Atlantis-ram-v4), EnvSpec(Atlantis-ramDeterministic-v0), EnvSpec(Atlantis-ramDeterministic-v4), EnvSpec(Atlantis-ramNoFrameskip-v0), EnvSpec(Atlantis-ramNoFrameskip-v4), EnvSpec(BankHeist-v0), EnvSpec(BankHeist-v4), EnvSpec(BankHeistDeterministic-v0), EnvSpec(BankHeistDeterministic-v4), EnvSpec(BankHeistNoFrameskip-v0), EnvSpec(BankHeistNoFrameskip-v4), EnvSpec(BankHeist-ram-v0), EnvSpec(BankHeist-ram-v4), EnvSpec(BankHeist-ramDeterministic-v0), EnvSpec(BankHeist-ramDeterministic-v4), EnvSpec(BankHeist-ramNoFrameskip-v0), EnvSpec(BankHeist-ramNoFrameskip-v4), EnvSpec(BattleZone-v0), EnvSpec(BattleZone-v4), EnvSpec(BattleZoneDeterministic-v0), EnvSpec(BattleZoneDeterministic-v4), EnvSpec(BattleZoneNoFrameskip-v0), EnvSpec(BattleZoneNoFrameskip-v4), EnvSpec(BattleZone-ram-v0), EnvSpec(BattleZone-ram-v4), EnvSpec(BattleZone-ramDeterministic-v0), EnvSpec(BattleZone-ramDeterministic-v4), EnvSpec(BattleZone-ramNoFrameskip-v0), EnvSpec(BattleZone-ramNoFrameskip-v4), EnvSpec(BeamRider-v0), EnvSpec(BeamRider-v4), EnvSpec(BeamRiderDeterministic-v0), EnvSpec(BeamRiderDeterministic-v4), EnvSpec(BeamRiderNoFrameskip-v0), EnvSpec(BeamRiderNoFrameskip-v4), EnvSpec(BeamRider-ram-v0), EnvSpec(BeamRider-ram-v4), EnvSpec(BeamRider-ramDeterministic-v0), EnvSpec(BeamRider-ramDeterministic-v4), EnvSpec(BeamRider-ramNoFrameskip-v0), EnvSpec(BeamRider-ramNoFrameskip-v4), EnvSpec(Berzerk-v0), EnvSpec(Berzerk-v4), EnvSpec(BerzerkDeterministic-v0), EnvSpec(BerzerkDeterministic-v4), EnvSpec(BerzerkNoFrameskip-v0), EnvSpec(BerzerkNoFrameskip-v4), EnvSpec(Berzerk-ram-v0), EnvSpec(Berzerk-ram-v4), EnvSpec(Berzerk-ramDeterministic-v0), EnvSpec(Berzerk-ramDeterministic-v4), EnvSpec(Berzerk-ramNoFrameskip-v0), EnvSpec(Berzerk-ramNoFrameskip-v4), EnvSpec(Bowling-v0), EnvSpec(Bowling-v4), EnvSpec(BowlingDeterministic-v0), EnvSpec(BowlingDeterministic-v4), EnvSpec(BowlingNoFrameskip-v0), EnvSpec(BowlingNoFrameskip-v4), EnvSpec(Bowling-ram-v0), EnvSpec(Bowling-ram-v4), EnvSpec(Bowling-ramDeterministic-v0), EnvSpec(Bowling-ramDeterministic-v4), EnvSpec(Bowling-ramNoFrameskip-v0), EnvSpec(Bowling-ramNoFrameskip-v4), EnvSpec(Boxing-v0), EnvSpec(Boxing-v4), EnvSpec(BoxingDeterministic-v0), EnvSpec(BoxingDeterministic-v4), EnvSpec(BoxingNoFrameskip-v0), EnvSpec(BoxingNoFrameskip-v4), EnvSpec(Boxing-ram-v0), EnvSpec(Boxing-ram-v4), EnvSpec(Boxing-ramDeterministic-v0), EnvSpec(Boxing-ramDeterministic-v4), EnvSpec(Boxing-ramNoFrameskip-v0), EnvSpec(Boxing-ramNoFrameskip-v4), EnvSpec(Breakout-v0), EnvSpec(Breakout-v4), EnvSpec(BreakoutDeterministic-v0), EnvSpec(BreakoutDeterministic-v4), EnvSpec(BreakoutNoFrameskip-v0), EnvSpec(BreakoutNoFrameskip-v4), EnvSpec(Breakout-ram-v0), EnvSpec(Breakout-ram-v4), EnvSpec(Breakout-ramDeterministic-v0), EnvSpec(Breakout-ramDeterministic-v4), EnvSpec(Breakout-ramNoFrameskip-v0), EnvSpec(Breakout-ramNoFrameskip-v4), EnvSpec(Carnival-v0), EnvSpec(Carnival-v4), EnvSpec(CarnivalDeterministic-v0), EnvSpec(CarnivalDeterministic-v4), EnvSpec(CarnivalNoFrameskip-v0), EnvSpec(CarnivalNoFrameskip-v4), EnvSpec(Carnival-ram-v0), EnvSpec(Carnival-ram-v4), EnvSpec(Carnival-ramDeterministic-v0), EnvSpec(Carnival-ramDeterministic-v4), EnvSpec(Carnival-ramNoFrameskip-v0), EnvSpec(Carnival-ramNoFrameskip-v4), EnvSpec(Centipede-v0), EnvSpec(Centipede-v4), EnvSpec(CentipedeDeterministic-v0), EnvSpec(CentipedeDeterministic-v4), EnvSpec(CentipedeNoFrameskip-v0), EnvSpec(CentipedeNoFrameskip-v4), EnvSpec(Centipede-ram-v0), EnvSpec(Centipede-ram-v4), EnvSpec(Centipede-ramDeterministic-v0), EnvSpec(Centipede-ramDeterministic-v4), EnvSpec(Centipede-ramNoFrameskip-v0), EnvSpec(Centipede-ramNoFrameskip-v4), EnvSpec(ChopperCommand-v0), EnvSpec(ChopperCommand-v4), EnvSpec(ChopperCommandDeterministic-v0), EnvSpec(ChopperCommandDeterministic-v4), EnvSpec(ChopperCommandNoFrameskip-v0), EnvSpec(ChopperCommandNoFrameskip-v4), EnvSpec(ChopperCommand-ram-v0), EnvSpec(ChopperCommand-ram-v4), EnvSpec(ChopperCommand-ramDeterministic-v0), EnvSpec(ChopperCommand-ramDeterministic-v4), EnvSpec(ChopperCommand-ramNoFrameskip-v0), EnvSpec(ChopperCommand-ramNoFrameskip-v4), EnvSpec(CrazyClimber-v0), EnvSpec(CrazyClimber-v4), EnvSpec(CrazyClimberDeterministic-v0), EnvSpec(CrazyClimberDeterministic-v4), EnvSpec(CrazyClimberNoFrameskip-v0), EnvSpec(CrazyClimberNoFrameskip-v4), EnvSpec(CrazyClimber-ram-v0), EnvSpec(CrazyClimber-ram-v4), EnvSpec(CrazyClimber-ramDeterministic-v0), EnvSpec(CrazyClimber-ramDeterministic-v4), EnvSpec(CrazyClimber-ramNoFrameskip-v0), EnvSpec(CrazyClimber-ramNoFrameskip-v4), EnvSpec(DemonAttack-v0), EnvSpec(DemonAttack-v4), EnvSpec(DemonAttackDeterministic-v0), EnvSpec(DemonAttackDeterministic-v4), EnvSpec(DemonAttackNoFrameskip-v0), EnvSpec(DemonAttackNoFrameskip-v4), EnvSpec(DemonAttack-ram-v0), EnvSpec(DemonAttack-ram-v4), EnvSpec(DemonAttack-ramDeterministic-v0), EnvSpec(DemonAttack-ramDeterministic-v4), EnvSpec(DemonAttack-ramNoFrameskip-v0), EnvSpec(DemonAttack-ramNoFrameskip-v4), EnvSpec(DoubleDunk-v0), EnvSpec(DoubleDunk-v4), EnvSpec(DoubleDunkDeterministic-v0), EnvSpec(DoubleDunkDeterministic-v4), EnvSpec(DoubleDunkNoFrameskip-v0), EnvSpec(DoubleDunkNoFrameskip-v4), EnvSpec(DoubleDunk-ram-v0), EnvSpec(DoubleDunk-ram-v4), EnvSpec(DoubleDunk-ramDeterministic-v0), EnvSpec(DoubleDunk-ramDeterministic-v4), EnvSpec(DoubleDunk-ramNoFrameskip-v0), EnvSpec(DoubleDunk-ramNoFrameskip-v4), EnvSpec(ElevatorAction-v0), EnvSpec(ElevatorAction-v4), EnvSpec(ElevatorActionDeterministic-v0), EnvSpec(ElevatorActionDeterministic-v4), EnvSpec(ElevatorActionNoFrameskip-v0), EnvSpec(ElevatorActionNoFrameskip-v4), EnvSpec(ElevatorAction-ram-v0), EnvSpec(ElevatorAction-ram-v4), EnvSpec(ElevatorAction-ramDeterministic-v0), EnvSpec(ElevatorAction-ramDeterministic-v4), EnvSpec(ElevatorAction-ramNoFrameskip-v0), EnvSpec(ElevatorAction-ramNoFrameskip-v4), EnvSpec(Enduro-v0), EnvSpec(Enduro-v4), EnvSpec(EnduroDeterministic-v0), EnvSpec(EnduroDeterministic-v4), EnvSpec(EnduroNoFrameskip-v0), EnvSpec(EnduroNoFrameskip-v4), EnvSpec(Enduro-ram-v0), EnvSpec(Enduro-ram-v4), EnvSpec(Enduro-ramDeterministic-v0), EnvSpec(Enduro-ramDeterministic-v4), EnvSpec(Enduro-ramNoFrameskip-v0), EnvSpec(Enduro-ramNoFrameskip-v4), EnvSpec(FishingDerby-v0), EnvSpec(FishingDerby-v4), EnvSpec(FishingDerbyDeterministic-v0), EnvSpec(FishingDerbyDeterministic-v4), EnvSpec(FishingDerbyNoFrameskip-v0), EnvSpec(FishingDerbyNoFrameskip-v4), EnvSpec(FishingDerby-ram-v0), EnvSpec(FishingDerby-ram-v4), EnvSpec(FishingDerby-ramDeterministic-v0), EnvSpec(FishingDerby-ramDeterministic-v4), EnvSpec(FishingDerby-ramNoFrameskip-v0), EnvSpec(FishingDerby-ramNoFrameskip-v4), EnvSpec(Freeway-v0), EnvSpec(Freeway-v4), EnvSpec(FreewayDeterministic-v0), EnvSpec(FreewayDeterministic-v4), EnvSpec(FreewayNoFrameskip-v0), EnvSpec(FreewayNoFrameskip-v4), EnvSpec(Freeway-ram-v0), EnvSpec(Freeway-ram-v4), EnvSpec(Freeway-ramDeterministic-v0), EnvSpec(Freeway-ramDeterministic-v4), EnvSpec(Freeway-ramNoFrameskip-v0), EnvSpec(Freeway-ramNoFrameskip-v4), EnvSpec(Frostbite-v0), EnvSpec(Frostbite-v4), EnvSpec(FrostbiteDeterministic-v0), EnvSpec(FrostbiteDeterministic-v4), EnvSpec(FrostbiteNoFrameskip-v0), EnvSpec(FrostbiteNoFrameskip-v4), EnvSpec(Frostbite-ram-v0), EnvSpec(Frostbite-ram-v4), EnvSpec(Frostbite-ramDeterministic-v0), EnvSpec(Frostbite-ramDeterministic-v4), EnvSpec(Frostbite-ramNoFrameskip-v0), EnvSpec(Frostbite-ramNoFrameskip-v4), EnvSpec(Gopher-v0), EnvSpec(Gopher-v4), EnvSpec(GopherDeterministic-v0), EnvSpec(GopherDeterministic-v4), EnvSpec(GopherNoFrameskip-v0), EnvSpec(GopherNoFrameskip-v4), EnvSpec(Gopher-ram-v0), EnvSpec(Gopher-ram-v4), EnvSpec(Gopher-ramDeterministic-v0), EnvSpec(Gopher-ramDeterministic-v4), EnvSpec(Gopher-ramNoFrameskip-v0), EnvSpec(Gopher-ramNoFrameskip-v4), EnvSpec(Gravitar-v0), EnvSpec(Gravitar-v4), EnvSpec(GravitarDeterministic-v0), EnvSpec(GravitarDeterministic-v4), EnvSpec(GravitarNoFrameskip-v0), EnvSpec(GravitarNoFrameskip-v4), EnvSpec(Gravitar-ram-v0), EnvSpec(Gravitar-ram-v4), EnvSpec(Gravitar-ramDeterministic-v0), EnvSpec(Gravitar-ramDeterministic-v4), EnvSpec(Gravitar-ramNoFrameskip-v0), EnvSpec(Gravitar-ramNoFrameskip-v4), EnvSpec(Hero-v0), EnvSpec(Hero-v4), EnvSpec(HeroDeterministic-v0), EnvSpec(HeroDeterministic-v4), EnvSpec(HeroNoFrameskip-v0), EnvSpec(HeroNoFrameskip-v4), EnvSpec(Hero-ram-v0), EnvSpec(Hero-ram-v4), EnvSpec(Hero-ramDeterministic-v0), EnvSpec(Hero-ramDeterministic-v4), EnvSpec(Hero-ramNoFrameskip-v0), EnvSpec(Hero-ramNoFrameskip-v4), EnvSpec(IceHockey-v0), EnvSpec(IceHockey-v4), EnvSpec(IceHockeyDeterministic-v0), EnvSpec(IceHockeyDeterministic-v4), EnvSpec(IceHockeyNoFrameskip-v0), EnvSpec(IceHockeyNoFrameskip-v4), EnvSpec(IceHockey-ram-v0), EnvSpec(IceHockey-ram-v4), EnvSpec(IceHockey-ramDeterministic-v0), EnvSpec(IceHockey-ramDeterministic-v4), EnvSpec(IceHockey-ramNoFrameskip-v0), EnvSpec(IceHockey-ramNoFrameskip-v4), EnvSpec(Jamesbond-v0), EnvSpec(Jamesbond-v4), EnvSpec(JamesbondDeterministic-v0), EnvSpec(JamesbondDeterministic-v4), EnvSpec(JamesbondNoFrameskip-v0), EnvSpec(JamesbondNoFrameskip-v4), EnvSpec(Jamesbond-ram-v0), EnvSpec(Jamesbond-ram-v4), EnvSpec(Jamesbond-ramDeterministic-v0), EnvSpec(Jamesbond-ramDeterministic-v4), EnvSpec(Jamesbond-ramNoFrameskip-v0), EnvSpec(Jamesbond-ramNoFrameskip-v4), EnvSpec(JourneyEscape-v0), EnvSpec(JourneyEscape-v4), EnvSpec(JourneyEscapeDeterministic-v0), EnvSpec(JourneyEscapeDeterministic-v4), EnvSpec(JourneyEscapeNoFrameskip-v0), EnvSpec(JourneyEscapeNoFrameskip-v4), EnvSpec(JourneyEscape-ram-v0), EnvSpec(JourneyEscape-ram-v4), EnvSpec(JourneyEscape-ramDeterministic-v0), EnvSpec(JourneyEscape-ramDeterministic-v4), EnvSpec(JourneyEscape-ramNoFrameskip-v0), EnvSpec(JourneyEscape-ramNoFrameskip-v4), EnvSpec(Kangaroo-v0), EnvSpec(Kangaroo-v4), EnvSpec(KangarooDeterministic-v0), EnvSpec(KangarooDeterministic-v4), EnvSpec(KangarooNoFrameskip-v0), EnvSpec(KangarooNoFrameskip-v4), EnvSpec(Kangaroo-ram-v0), EnvSpec(Kangaroo-ram-v4), EnvSpec(Kangaroo-ramDeterministic-v0), EnvSpec(Kangaroo-ramDeterministic-v4), EnvSpec(Kangaroo-ramNoFrameskip-v0), EnvSpec(Kangaroo-ramNoFrameskip-v4), EnvSpec(Krull-v0), EnvSpec(Krull-v4), EnvSpec(KrullDeterministic-v0), EnvSpec(KrullDeterministic-v4), EnvSpec(KrullNoFrameskip-v0), EnvSpec(KrullNoFrameskip-v4), EnvSpec(Krull-ram-v0), EnvSpec(Krull-ram-v4), EnvSpec(Krull-ramDeterministic-v0), EnvSpec(Krull-ramDeterministic-v4), EnvSpec(Krull-ramNoFrameskip-v0), EnvSpec(Krull-ramNoFrameskip-v4), EnvSpec(KungFuMaster-v0), EnvSpec(KungFuMaster-v4), EnvSpec(KungFuMasterDeterministic-v0), EnvSpec(KungFuMasterDeterministic-v4), EnvSpec(KungFuMasterNoFrameskip-v0), EnvSpec(KungFuMasterNoFrameskip-v4), EnvSpec(KungFuMaster-ram-v0), EnvSpec(KungFuMaster-ram-v4), EnvSpec(KungFuMaster-ramDeterministic-v0), EnvSpec(KungFuMaster-ramDeterministic-v4), EnvSpec(KungFuMaster-ramNoFrameskip-v0), EnvSpec(KungFuMaster-ramNoFrameskip-v4), EnvSpec(MontezumaRevenge-v0), EnvSpec(MontezumaRevenge-v4), EnvSpec(MontezumaRevengeDeterministic-v0), EnvSpec(MontezumaRevengeDeterministic-v4), EnvSpec(MontezumaRevengeNoFrameskip-v0), EnvSpec(MontezumaRevengeNoFrameskip-v4), EnvSpec(MontezumaRevenge-ram-v0), EnvSpec(MontezumaRevenge-ram-v4), EnvSpec(MontezumaRevenge-ramDeterministic-v0), EnvSpec(MontezumaRevenge-ramDeterministic-v4), EnvSpec(MontezumaRevenge-ramNoFrameskip-v0), EnvSpec(MontezumaRevenge-ramNoFrameskip-v4), EnvSpec(MsPacman-v0), EnvSpec(MsPacman-v4), EnvSpec(MsPacmanDeterministic-v0), EnvSpec(MsPacmanDeterministic-v4), EnvSpec(MsPacmanNoFrameskip-v0), EnvSpec(MsPacmanNoFrameskip-v4), EnvSpec(MsPacman-ram-v0), EnvSpec(MsPacman-ram-v4), EnvSpec(MsPacman-ramDeterministic-v0), EnvSpec(MsPacman-ramDeterministic-v4), EnvSpec(MsPacman-ramNoFrameskip-v0), EnvSpec(MsPacman-ramNoFrameskip-v4), EnvSpec(NameThisGame-v0), EnvSpec(NameThisGame-v4), EnvSpec(NameThisGameDeterministic-v0), EnvSpec(NameThisGameDeterministic-v4), EnvSpec(NameThisGameNoFrameskip-v0), EnvSpec(NameThisGameNoFrameskip-v4), EnvSpec(NameThisGame-ram-v0), EnvSpec(NameThisGame-ram-v4), EnvSpec(NameThisGame-ramDeterministic-v0), EnvSpec(NameThisGame-ramDeterministic-v4), EnvSpec(NameThisGame-ramNoFrameskip-v0), EnvSpec(NameThisGame-ramNoFrameskip-v4), EnvSpec(Phoenix-v0), EnvSpec(Phoenix-v4), EnvSpec(PhoenixDeterministic-v0), EnvSpec(PhoenixDeterministic-v4), EnvSpec(PhoenixNoFrameskip-v0), EnvSpec(PhoenixNoFrameskip-v4), EnvSpec(Phoenix-ram-v0), EnvSpec(Phoenix-ram-v4), EnvSpec(Phoenix-ramDeterministic-v0), EnvSpec(Phoenix-ramDeterministic-v4), EnvSpec(Phoenix-ramNoFrameskip-v0), EnvSpec(Phoenix-ramNoFrameskip-v4), EnvSpec(Pitfall-v0), EnvSpec(Pitfall-v4), EnvSpec(PitfallDeterministic-v0), EnvSpec(PitfallDeterministic-v4), EnvSpec(PitfallNoFrameskip-v0), EnvSpec(PitfallNoFrameskip-v4), EnvSpec(Pitfall-ram-v0), EnvSpec(Pitfall-ram-v4), EnvSpec(Pitfall-ramDeterministic-v0), EnvSpec(Pitfall-ramDeterministic-v4), EnvSpec(Pitfall-ramNoFrameskip-v0), EnvSpec(Pitfall-ramNoFrameskip-v4), EnvSpec(Pong-v0), EnvSpec(Pong-v4), EnvSpec(PongDeterministic-v0), EnvSpec(PongDeterministic-v4), EnvSpec(PongNoFrameskip-v0), EnvSpec(PongNoFrameskip-v4), EnvSpec(Pong-ram-v0), EnvSpec(Pong-ram-v4), EnvSpec(Pong-ramDeterministic-v0), EnvSpec(Pong-ramDeterministic-v4), EnvSpec(Pong-ramNoFrameskip-v0), EnvSpec(Pong-ramNoFrameskip-v4), EnvSpec(Pooyan-v0), EnvSpec(Pooyan-v4), EnvSpec(PooyanDeterministic-v0), EnvSpec(PooyanDeterministic-v4), EnvSpec(PooyanNoFrameskip-v0), EnvSpec(PooyanNoFrameskip-v4), EnvSpec(Pooyan-ram-v0), EnvSpec(Pooyan-ram-v4), EnvSpec(Pooyan-ramDeterministic-v0), EnvSpec(Pooyan-ramDeterministic-v4), EnvSpec(Pooyan-ramNoFrameskip-v0), EnvSpec(Pooyan-ramNoFrameskip-v4), EnvSpec(PrivateEye-v0), EnvSpec(PrivateEye-v4), EnvSpec(PrivateEyeDeterministic-v0), EnvSpec(PrivateEyeDeterministic-v4), EnvSpec(PrivateEyeNoFrameskip-v0), EnvSpec(PrivateEyeNoFrameskip-v4), EnvSpec(PrivateEye-ram-v0), EnvSpec(PrivateEye-ram-v4), EnvSpec(PrivateEye-ramDeterministic-v0), EnvSpec(PrivateEye-ramDeterministic-v4), EnvSpec(PrivateEye-ramNoFrameskip-v0), EnvSpec(PrivateEye-ramNoFrameskip-v4), EnvSpec(Qbert-v0), EnvSpec(Qbert-v4), EnvSpec(QbertDeterministic-v0), EnvSpec(QbertDeterministic-v4), EnvSpec(QbertNoFrameskip-v0), EnvSpec(QbertNoFrameskip-v4), EnvSpec(Qbert-ram-v0), EnvSpec(Qbert-ram-v4), EnvSpec(Qbert-ramDeterministic-v0), EnvSpec(Qbert-ramDeterministic-v4), EnvSpec(Qbert-ramNoFrameskip-v0), EnvSpec(Qbert-ramNoFrameskip-v4), EnvSpec(Riverraid-v0), EnvSpec(Riverraid-v4), EnvSpec(RiverraidDeterministic-v0), EnvSpec(RiverraidDeterministic-v4), EnvSpec(RiverraidNoFrameskip-v0), EnvSpec(RiverraidNoFrameskip-v4), EnvSpec(Riverraid-ram-v0), EnvSpec(Riverraid-ram-v4), EnvSpec(Riverraid-ramDeterministic-v0), EnvSpec(Riverraid-ramDeterministic-v4), EnvSpec(Riverraid-ramNoFrameskip-v0), EnvSpec(Riverraid-ramNoFrameskip-v4), EnvSpec(RoadRunner-v0), EnvSpec(RoadRunner-v4), EnvSpec(RoadRunnerDeterministic-v0), EnvSpec(RoadRunnerDeterministic-v4), EnvSpec(RoadRunnerNoFrameskip-v0), EnvSpec(RoadRunnerNoFrameskip-v4), EnvSpec(RoadRunner-ram-v0), EnvSpec(RoadRunner-ram-v4), EnvSpec(RoadRunner-ramDeterministic-v0), EnvSpec(RoadRunner-ramDeterministic-v4), EnvSpec(RoadRunner-ramNoFrameskip-v0), EnvSpec(RoadRunner-ramNoFrameskip-v4), EnvSpec(Robotank-v0), EnvSpec(Robotank-v4), EnvSpec(RobotankDeterministic-v0), EnvSpec(RobotankDeterministic-v4), EnvSpec(RobotankNoFrameskip-v0), EnvSpec(RobotankNoFrameskip-v4), EnvSpec(Robotank-ram-v0), EnvSpec(Robotank-ram-v4), EnvSpec(Robotank-ramDeterministic-v0), EnvSpec(Robotank-ramDeterministic-v4), EnvSpec(Robotank-ramNoFrameskip-v0), EnvSpec(Robotank-ramNoFrameskip-v4), EnvSpec(Seaquest-v0), EnvSpec(Seaquest-v4), EnvSpec(SeaquestDeterministic-v0), EnvSpec(SeaquestDeterministic-v4), EnvSpec(SeaquestNoFrameskip-v0), EnvSpec(SeaquestNoFrameskip-v4), EnvSpec(Seaquest-ram-v0), EnvSpec(Seaquest-ram-v4), EnvSpec(Seaquest-ramDeterministic-v0), EnvSpec(Seaquest-ramDeterministic-v4), EnvSpec(Seaquest-ramNoFrameskip-v0), EnvSpec(Seaquest-ramNoFrameskip-v4), EnvSpec(Skiing-v0), EnvSpec(Skiing-v4), EnvSpec(SkiingDeterministic-v0), EnvSpec(SkiingDeterministic-v4), EnvSpec(SkiingNoFrameskip-v0), EnvSpec(SkiingNoFrameskip-v4), EnvSpec(Skiing-ram-v0), EnvSpec(Skiing-ram-v4), EnvSpec(Skiing-ramDeterministic-v0), EnvSpec(Skiing-ramDeterministic-v4), EnvSpec(Skiing-ramNoFrameskip-v0), EnvSpec(Skiing-ramNoFrameskip-v4), EnvSpec(Solaris-v0), EnvSpec(Solaris-v4), EnvSpec(SolarisDeterministic-v0), EnvSpec(SolarisDeterministic-v4), EnvSpec(SolarisNoFrameskip-v0), EnvSpec(SolarisNoFrameskip-v4), EnvSpec(Solaris-ram-v0), EnvSpec(Solaris-ram-v4), EnvSpec(Solaris-ramDeterministic-v0), EnvSpec(Solaris-ramDeterministic-v4), EnvSpec(Solaris-ramNoFrameskip-v0), EnvSpec(Solaris-ramNoFrameskip-v4), EnvSpec(SpaceInvaders-v0), EnvSpec(SpaceInvaders-v4), EnvSpec(SpaceInvadersDeterministic-v0), EnvSpec(SpaceInvadersDeterministic-v4), EnvSpec(SpaceInvadersNoFrameskip-v0), EnvSpec(SpaceInvadersNoFrameskip-v4), EnvSpec(SpaceInvaders-ram-v0), EnvSpec(SpaceInvaders-ram-v4), EnvSpec(SpaceInvaders-ramDeterministic-v0), EnvSpec(SpaceInvaders-ramDeterministic-v4), EnvSpec(SpaceInvaders-ramNoFrameskip-v0), EnvSpec(SpaceInvaders-ramNoFrameskip-v4), EnvSpec(StarGunner-v0), EnvSpec(StarGunner-v4), EnvSpec(StarGunnerDeterministic-v0), EnvSpec(StarGunnerDeterministic-v4), EnvSpec(StarGunnerNoFrameskip-v0), EnvSpec(StarGunnerNoFrameskip-v4), EnvSpec(StarGunner-ram-v0), EnvSpec(StarGunner-ram-v4), EnvSpec(StarGunner-ramDeterministic-v0), EnvSpec(StarGunner-ramDeterministic-v4), EnvSpec(StarGunner-ramNoFrameskip-v0), EnvSpec(StarGunner-ramNoFrameskip-v4), EnvSpec(Tennis-v0), EnvSpec(Tennis-v4), EnvSpec(TennisDeterministic-v0), EnvSpec(TennisDeterministic-v4), EnvSpec(TennisNoFrameskip-v0), EnvSpec(TennisNoFrameskip-v4), EnvSpec(Tennis-ram-v0), EnvSpec(Tennis-ram-v4), EnvSpec(Tennis-ramDeterministic-v0), EnvSpec(Tennis-ramDeterministic-v4), EnvSpec(Tennis-ramNoFrameskip-v0), EnvSpec(Tennis-ramNoFrameskip-v4), EnvSpec(TimePilot-v0), EnvSpec(TimePilot-v4), EnvSpec(TimePilotDeterministic-v0), EnvSpec(TimePilotDeterministic-v4), EnvSpec(TimePilotNoFrameskip-v0), EnvSpec(TimePilotNoFrameskip-v4), EnvSpec(TimePilot-ram-v0), EnvSpec(TimePilot-ram-v4), EnvSpec(TimePilot-ramDeterministic-v0), EnvSpec(TimePilot-ramDeterministic-v4), EnvSpec(TimePilot-ramNoFrameskip-v0), EnvSpec(TimePilot-ramNoFrameskip-v4), EnvSpec(Tutankham-v0), EnvSpec(Tutankham-v4), EnvSpec(TutankhamDeterministic-v0), EnvSpec(TutankhamDeterministic-v4), EnvSpec(TutankhamNoFrameskip-v0), EnvSpec(TutankhamNoFrameskip-v4), EnvSpec(Tutankham-ram-v0), EnvSpec(Tutankham-ram-v4), EnvSpec(Tutankham-ramDeterministic-v0), EnvSpec(Tutankham-ramDeterministic-v4), EnvSpec(Tutankham-ramNoFrameskip-v0), EnvSpec(Tutankham-ramNoFrameskip-v4), EnvSpec(UpNDown-v0), EnvSpec(UpNDown-v4), EnvSpec(UpNDownDeterministic-v0), EnvSpec(UpNDownDeterministic-v4), EnvSpec(UpNDownNoFrameskip-v0), EnvSpec(UpNDownNoFrameskip-v4), EnvSpec(UpNDown-ram-v0), EnvSpec(UpNDown-ram-v4), EnvSpec(UpNDown-ramDeterministic-v0), EnvSpec(UpNDown-ramDeterministic-v4), EnvSpec(UpNDown-ramNoFrameskip-v0), EnvSpec(UpNDown-ramNoFrameskip-v4), EnvSpec(Venture-v0), EnvSpec(Venture-v4), EnvSpec(VentureDeterministic-v0), EnvSpec(VentureDeterministic-v4), EnvSpec(VentureNoFrameskip-v0), EnvSpec(VentureNoFrameskip-v4), EnvSpec(Venture-ram-v0), EnvSpec(Venture-ram-v4), EnvSpec(Venture-ramDeterministic-v0), EnvSpec(Venture-ramDeterministic-v4), EnvSpec(Venture-ramNoFrameskip-v0), EnvSpec(Venture-ramNoFrameskip-v4), EnvSpec(VideoPinball-v0), EnvSpec(VideoPinball-v4), EnvSpec(VideoPinballDeterministic-v0), EnvSpec(VideoPinballDeterministic-v4), EnvSpec(VideoPinballNoFrameskip-v0), EnvSpec(VideoPinballNoFrameskip-v4), EnvSpec(VideoPinball-ram-v0), EnvSpec(VideoPinball-ram-v4), EnvSpec(VideoPinball-ramDeterministic-v0), EnvSpec(VideoPinball-ramDeterministic-v4), EnvSpec(VideoPinball-ramNoFrameskip-v0), EnvSpec(VideoPinball-ramNoFrameskip-v4), EnvSpec(WizardOfWor-v0), EnvSpec(WizardOfWor-v4), EnvSpec(WizardOfWorDeterministic-v0), EnvSpec(WizardOfWorDeterministic-v4), EnvSpec(WizardOfWorNoFrameskip-v0), EnvSpec(WizardOfWorNoFrameskip-v4), EnvSpec(WizardOfWor-ram-v0), EnvSpec(WizardOfWor-ram-v4), EnvSpec(WizardOfWor-ramDeterministic-v0), EnvSpec(WizardOfWor-ramDeterministic-v4), EnvSpec(WizardOfWor-ramNoFrameskip-v0), EnvSpec(WizardOfWor-ramNoFrameskip-v4), EnvSpec(YarsRevenge-v0), EnvSpec(YarsRevenge-v4), EnvSpec(YarsRevengeDeterministic-v0), EnvSpec(YarsRevengeDeterministic-v4), EnvSpec(YarsRevengeNoFrameskip-v0), EnvSpec(YarsRevengeNoFrameskip-v4), EnvSpec(YarsRevenge-ram-v0), EnvSpec(YarsRevenge-ram-v4), EnvSpec(YarsRevenge-ramDeterministic-v0), EnvSpec(YarsRevenge-ramDeterministic-v4), EnvSpec(YarsRevenge-ramNoFrameskip-v0), EnvSpec(YarsRevenge-ramNoFrameskip-v4), EnvSpec(Zaxxon-v0), EnvSpec(Zaxxon-v4), EnvSpec(ZaxxonDeterministic-v0), EnvSpec(ZaxxonDeterministic-v4), EnvSpec(ZaxxonNoFrameskip-v0), EnvSpec(ZaxxonNoFrameskip-v4), EnvSpec(Zaxxon-ram-v0), EnvSpec(Zaxxon-ram-v4), EnvSpec(Zaxxon-ramDeterministic-v0), EnvSpec(Zaxxon-ramDeterministic-v4), EnvSpec(Zaxxon-ramNoFrameskip-v0), EnvSpec(Zaxxon-ramNoFrameskip-v4), EnvSpec(CubeCrash-v0), EnvSpec(CubeCrashSparse-v0), EnvSpec(CubeCrashScreenBecomesBlack-v0), EnvSpec(MemorizeDigits-v0)])"
      ]
     },
     "execution_count": 29,
     "metadata": {},
     "output_type": "execute_result"
    }
   ],
   "source": [
    "gym.envs.registry.all()"
   ]
  },
  {
   "cell_type": "code",
   "execution_count": 45,
   "metadata": {},
   "outputs": [
    {
     "name": "stdout",
     "output_type": "stream",
     "text": [
      "Track generation: 1082..1357 -> 275-tiles track\n"
     ]
    }
   ],
   "source": [
    "env = gym.make('CarRacing-v0')           # Choose a game to create environment\n",
    "obs1 = env.reset()                             # Reset game\n",
    "for _ in range(200):\n",
    "    env.render()                        # Render game\n",
    "    r = env.step(env.action_space.sample()) # Play a step chosen out of action_space\n",
    "    \n",
    "env.close()                             # close envirenment"
   ]
  },
  {
   "cell_type": "code",
   "execution_count": 35,
   "metadata": {},
   "outputs": [
    {
     "data": {
      "text/plain": [
       "Box(3,)"
      ]
     },
     "execution_count": 35,
     "metadata": {},
     "output_type": "execute_result"
    }
   ],
   "source": [
    "env.action_space"
   ]
  },
  {
   "cell_type": "code",
   "execution_count": 51,
   "metadata": {
    "scrolled": true
   },
   "outputs": [
    {
     "data": {
      "text/plain": [
       "array([1., 1., 1.], dtype=float32)"
      ]
     },
     "execution_count": 51,
     "metadata": {},
     "output_type": "execute_result"
    }
   ],
   "source": [
    "env.action_space.high"
   ]
  },
  {
   "cell_type": "code",
   "execution_count": 52,
   "metadata": {},
   "outputs": [
    {
     "data": {
      "text/plain": [
       "array([-1.,  0.,  0.], dtype=float32)"
      ]
     },
     "execution_count": 52,
     "metadata": {},
     "output_type": "execute_result"
    }
   ],
   "source": [
    "env.action_space.low"
   ]
  },
  {
   "cell_type": "code",
   "execution_count": 36,
   "metadata": {},
   "outputs": [
    {
     "data": {
      "text/plain": [
       "Box(96, 96, 3)"
      ]
     },
     "execution_count": 36,
     "metadata": {},
     "output_type": "execute_result"
    }
   ],
   "source": [
    "env.observation_space"
   ]
  },
  {
   "cell_type": "code",
   "execution_count": 46,
   "metadata": {},
   "outputs": [],
   "source": [
    "obs1 = r[0]"
   ]
  },
  {
   "cell_type": "code",
   "execution_count": 50,
   "metadata": {},
   "outputs": [
    {
     "data": {
      "application/javascript": [
       "/* Put everything inside the global mpl namespace */\n",
       "window.mpl = {};\n",
       "\n",
       "\n",
       "mpl.get_websocket_type = function() {\n",
       "    if (typeof(WebSocket) !== 'undefined') {\n",
       "        return WebSocket;\n",
       "    } else if (typeof(MozWebSocket) !== 'undefined') {\n",
       "        return MozWebSocket;\n",
       "    } else {\n",
       "        alert('Your browser does not have WebSocket support.' +\n",
       "              'Please try Chrome, Safari or Firefox ≥ 6. ' +\n",
       "              'Firefox 4 and 5 are also supported but you ' +\n",
       "              'have to enable WebSockets in about:config.');\n",
       "    };\n",
       "}\n",
       "\n",
       "mpl.figure = function(figure_id, websocket, ondownload, parent_element) {\n",
       "    this.id = figure_id;\n",
       "\n",
       "    this.ws = websocket;\n",
       "\n",
       "    this.supports_binary = (this.ws.binaryType != undefined);\n",
       "\n",
       "    if (!this.supports_binary) {\n",
       "        var warnings = document.getElementById(\"mpl-warnings\");\n",
       "        if (warnings) {\n",
       "            warnings.style.display = 'block';\n",
       "            warnings.textContent = (\n",
       "                \"This browser does not support binary websocket messages. \" +\n",
       "                    \"Performance may be slow.\");\n",
       "        }\n",
       "    }\n",
       "\n",
       "    this.imageObj = new Image();\n",
       "\n",
       "    this.context = undefined;\n",
       "    this.message = undefined;\n",
       "    this.canvas = undefined;\n",
       "    this.rubberband_canvas = undefined;\n",
       "    this.rubberband_context = undefined;\n",
       "    this.format_dropdown = undefined;\n",
       "\n",
       "    this.image_mode = 'full';\n",
       "\n",
       "    this.root = $('<div/>');\n",
       "    this._root_extra_style(this.root)\n",
       "    this.root.attr('style', 'display: inline-block');\n",
       "\n",
       "    $(parent_element).append(this.root);\n",
       "\n",
       "    this._init_header(this);\n",
       "    this._init_canvas(this);\n",
       "    this._init_toolbar(this);\n",
       "\n",
       "    var fig = this;\n",
       "\n",
       "    this.waiting = false;\n",
       "\n",
       "    this.ws.onopen =  function () {\n",
       "            fig.send_message(\"supports_binary\", {value: fig.supports_binary});\n",
       "            fig.send_message(\"send_image_mode\", {});\n",
       "            if (mpl.ratio != 1) {\n",
       "                fig.send_message(\"set_dpi_ratio\", {'dpi_ratio': mpl.ratio});\n",
       "            }\n",
       "            fig.send_message(\"refresh\", {});\n",
       "        }\n",
       "\n",
       "    this.imageObj.onload = function() {\n",
       "            if (fig.image_mode == 'full') {\n",
       "                // Full images could contain transparency (where diff images\n",
       "                // almost always do), so we need to clear the canvas so that\n",
       "                // there is no ghosting.\n",
       "                fig.context.clearRect(0, 0, fig.canvas.width, fig.canvas.height);\n",
       "            }\n",
       "            fig.context.drawImage(fig.imageObj, 0, 0);\n",
       "        };\n",
       "\n",
       "    this.imageObj.onunload = function() {\n",
       "        fig.ws.close();\n",
       "    }\n",
       "\n",
       "    this.ws.onmessage = this._make_on_message_function(this);\n",
       "\n",
       "    this.ondownload = ondownload;\n",
       "}\n",
       "\n",
       "mpl.figure.prototype._init_header = function() {\n",
       "    var titlebar = $(\n",
       "        '<div class=\"ui-dialog-titlebar ui-widget-header ui-corner-all ' +\n",
       "        'ui-helper-clearfix\"/>');\n",
       "    var titletext = $(\n",
       "        '<div class=\"ui-dialog-title\" style=\"width: 100%; ' +\n",
       "        'text-align: center; padding: 3px;\"/>');\n",
       "    titlebar.append(titletext)\n",
       "    this.root.append(titlebar);\n",
       "    this.header = titletext[0];\n",
       "}\n",
       "\n",
       "\n",
       "\n",
       "mpl.figure.prototype._canvas_extra_style = function(canvas_div) {\n",
       "\n",
       "}\n",
       "\n",
       "\n",
       "mpl.figure.prototype._root_extra_style = function(canvas_div) {\n",
       "\n",
       "}\n",
       "\n",
       "mpl.figure.prototype._init_canvas = function() {\n",
       "    var fig = this;\n",
       "\n",
       "    var canvas_div = $('<div/>');\n",
       "\n",
       "    canvas_div.attr('style', 'position: relative; clear: both; outline: 0');\n",
       "\n",
       "    function canvas_keyboard_event(event) {\n",
       "        return fig.key_event(event, event['data']);\n",
       "    }\n",
       "\n",
       "    canvas_div.keydown('key_press', canvas_keyboard_event);\n",
       "    canvas_div.keyup('key_release', canvas_keyboard_event);\n",
       "    this.canvas_div = canvas_div\n",
       "    this._canvas_extra_style(canvas_div)\n",
       "    this.root.append(canvas_div);\n",
       "\n",
       "    var canvas = $('<canvas/>');\n",
       "    canvas.addClass('mpl-canvas');\n",
       "    canvas.attr('style', \"left: 0; top: 0; z-index: 0; outline: 0\")\n",
       "\n",
       "    this.canvas = canvas[0];\n",
       "    this.context = canvas[0].getContext(\"2d\");\n",
       "\n",
       "    var backingStore = this.context.backingStorePixelRatio ||\n",
       "\tthis.context.webkitBackingStorePixelRatio ||\n",
       "\tthis.context.mozBackingStorePixelRatio ||\n",
       "\tthis.context.msBackingStorePixelRatio ||\n",
       "\tthis.context.oBackingStorePixelRatio ||\n",
       "\tthis.context.backingStorePixelRatio || 1;\n",
       "\n",
       "    mpl.ratio = (window.devicePixelRatio || 1) / backingStore;\n",
       "\n",
       "    var rubberband = $('<canvas/>');\n",
       "    rubberband.attr('style', \"position: absolute; left: 0; top: 0; z-index: 1;\")\n",
       "\n",
       "    var pass_mouse_events = true;\n",
       "\n",
       "    canvas_div.resizable({\n",
       "        start: function(event, ui) {\n",
       "            pass_mouse_events = false;\n",
       "        },\n",
       "        resize: function(event, ui) {\n",
       "            fig.request_resize(ui.size.width, ui.size.height);\n",
       "        },\n",
       "        stop: function(event, ui) {\n",
       "            pass_mouse_events = true;\n",
       "            fig.request_resize(ui.size.width, ui.size.height);\n",
       "        },\n",
       "    });\n",
       "\n",
       "    function mouse_event_fn(event) {\n",
       "        if (pass_mouse_events)\n",
       "            return fig.mouse_event(event, event['data']);\n",
       "    }\n",
       "\n",
       "    rubberband.mousedown('button_press', mouse_event_fn);\n",
       "    rubberband.mouseup('button_release', mouse_event_fn);\n",
       "    // Throttle sequential mouse events to 1 every 20ms.\n",
       "    rubberband.mousemove('motion_notify', mouse_event_fn);\n",
       "\n",
       "    rubberband.mouseenter('figure_enter', mouse_event_fn);\n",
       "    rubberband.mouseleave('figure_leave', mouse_event_fn);\n",
       "\n",
       "    canvas_div.on(\"wheel\", function (event) {\n",
       "        event = event.originalEvent;\n",
       "        event['data'] = 'scroll'\n",
       "        if (event.deltaY < 0) {\n",
       "            event.step = 1;\n",
       "        } else {\n",
       "            event.step = -1;\n",
       "        }\n",
       "        mouse_event_fn(event);\n",
       "    });\n",
       "\n",
       "    canvas_div.append(canvas);\n",
       "    canvas_div.append(rubberband);\n",
       "\n",
       "    this.rubberband = rubberband;\n",
       "    this.rubberband_canvas = rubberband[0];\n",
       "    this.rubberband_context = rubberband[0].getContext(\"2d\");\n",
       "    this.rubberband_context.strokeStyle = \"#000000\";\n",
       "\n",
       "    this._resize_canvas = function(width, height) {\n",
       "        // Keep the size of the canvas, canvas container, and rubber band\n",
       "        // canvas in synch.\n",
       "        canvas_div.css('width', width)\n",
       "        canvas_div.css('height', height)\n",
       "\n",
       "        canvas.attr('width', width * mpl.ratio);\n",
       "        canvas.attr('height', height * mpl.ratio);\n",
       "        canvas.attr('style', 'width: ' + width + 'px; height: ' + height + 'px;');\n",
       "\n",
       "        rubberband.attr('width', width);\n",
       "        rubberband.attr('height', height);\n",
       "    }\n",
       "\n",
       "    // Set the figure to an initial 600x600px, this will subsequently be updated\n",
       "    // upon first draw.\n",
       "    this._resize_canvas(600, 600);\n",
       "\n",
       "    // Disable right mouse context menu.\n",
       "    $(this.rubberband_canvas).bind(\"contextmenu\",function(e){\n",
       "        return false;\n",
       "    });\n",
       "\n",
       "    function set_focus () {\n",
       "        canvas.focus();\n",
       "        canvas_div.focus();\n",
       "    }\n",
       "\n",
       "    window.setTimeout(set_focus, 100);\n",
       "}\n",
       "\n",
       "mpl.figure.prototype._init_toolbar = function() {\n",
       "    var fig = this;\n",
       "\n",
       "    var nav_element = $('<div/>')\n",
       "    nav_element.attr('style', 'width: 100%');\n",
       "    this.root.append(nav_element);\n",
       "\n",
       "    // Define a callback function for later on.\n",
       "    function toolbar_event(event) {\n",
       "        return fig.toolbar_button_onclick(event['data']);\n",
       "    }\n",
       "    function toolbar_mouse_event(event) {\n",
       "        return fig.toolbar_button_onmouseover(event['data']);\n",
       "    }\n",
       "\n",
       "    for(var toolbar_ind in mpl.toolbar_items) {\n",
       "        var name = mpl.toolbar_items[toolbar_ind][0];\n",
       "        var tooltip = mpl.toolbar_items[toolbar_ind][1];\n",
       "        var image = mpl.toolbar_items[toolbar_ind][2];\n",
       "        var method_name = mpl.toolbar_items[toolbar_ind][3];\n",
       "\n",
       "        if (!name) {\n",
       "            // put a spacer in here.\n",
       "            continue;\n",
       "        }\n",
       "        var button = $('<button/>');\n",
       "        button.addClass('ui-button ui-widget ui-state-default ui-corner-all ' +\n",
       "                        'ui-button-icon-only');\n",
       "        button.attr('role', 'button');\n",
       "        button.attr('aria-disabled', 'false');\n",
       "        button.click(method_name, toolbar_event);\n",
       "        button.mouseover(tooltip, toolbar_mouse_event);\n",
       "\n",
       "        var icon_img = $('<span/>');\n",
       "        icon_img.addClass('ui-button-icon-primary ui-icon');\n",
       "        icon_img.addClass(image);\n",
       "        icon_img.addClass('ui-corner-all');\n",
       "\n",
       "        var tooltip_span = $('<span/>');\n",
       "        tooltip_span.addClass('ui-button-text');\n",
       "        tooltip_span.html(tooltip);\n",
       "\n",
       "        button.append(icon_img);\n",
       "        button.append(tooltip_span);\n",
       "\n",
       "        nav_element.append(button);\n",
       "    }\n",
       "\n",
       "    var fmt_picker_span = $('<span/>');\n",
       "\n",
       "    var fmt_picker = $('<select/>');\n",
       "    fmt_picker.addClass('mpl-toolbar-option ui-widget ui-widget-content');\n",
       "    fmt_picker_span.append(fmt_picker);\n",
       "    nav_element.append(fmt_picker_span);\n",
       "    this.format_dropdown = fmt_picker[0];\n",
       "\n",
       "    for (var ind in mpl.extensions) {\n",
       "        var fmt = mpl.extensions[ind];\n",
       "        var option = $(\n",
       "            '<option/>', {selected: fmt === mpl.default_extension}).html(fmt);\n",
       "        fmt_picker.append(option)\n",
       "    }\n",
       "\n",
       "    // Add hover states to the ui-buttons\n",
       "    $( \".ui-button\" ).hover(\n",
       "        function() { $(this).addClass(\"ui-state-hover\");},\n",
       "        function() { $(this).removeClass(\"ui-state-hover\");}\n",
       "    );\n",
       "\n",
       "    var status_bar = $('<span class=\"mpl-message\"/>');\n",
       "    nav_element.append(status_bar);\n",
       "    this.message = status_bar[0];\n",
       "}\n",
       "\n",
       "mpl.figure.prototype.request_resize = function(x_pixels, y_pixels) {\n",
       "    // Request matplotlib to resize the figure. Matplotlib will then trigger a resize in the client,\n",
       "    // which will in turn request a refresh of the image.\n",
       "    this.send_message('resize', {'width': x_pixels, 'height': y_pixels});\n",
       "}\n",
       "\n",
       "mpl.figure.prototype.send_message = function(type, properties) {\n",
       "    properties['type'] = type;\n",
       "    properties['figure_id'] = this.id;\n",
       "    this.ws.send(JSON.stringify(properties));\n",
       "}\n",
       "\n",
       "mpl.figure.prototype.send_draw_message = function() {\n",
       "    if (!this.waiting) {\n",
       "        this.waiting = true;\n",
       "        this.ws.send(JSON.stringify({type: \"draw\", figure_id: this.id}));\n",
       "    }\n",
       "}\n",
       "\n",
       "\n",
       "mpl.figure.prototype.handle_save = function(fig, msg) {\n",
       "    var format_dropdown = fig.format_dropdown;\n",
       "    var format = format_dropdown.options[format_dropdown.selectedIndex].value;\n",
       "    fig.ondownload(fig, format);\n",
       "}\n",
       "\n",
       "\n",
       "mpl.figure.prototype.handle_resize = function(fig, msg) {\n",
       "    var size = msg['size'];\n",
       "    if (size[0] != fig.canvas.width || size[1] != fig.canvas.height) {\n",
       "        fig._resize_canvas(size[0], size[1]);\n",
       "        fig.send_message(\"refresh\", {});\n",
       "    };\n",
       "}\n",
       "\n",
       "mpl.figure.prototype.handle_rubberband = function(fig, msg) {\n",
       "    var x0 = msg['x0'] / mpl.ratio;\n",
       "    var y0 = (fig.canvas.height - msg['y0']) / mpl.ratio;\n",
       "    var x1 = msg['x1'] / mpl.ratio;\n",
       "    var y1 = (fig.canvas.height - msg['y1']) / mpl.ratio;\n",
       "    x0 = Math.floor(x0) + 0.5;\n",
       "    y0 = Math.floor(y0) + 0.5;\n",
       "    x1 = Math.floor(x1) + 0.5;\n",
       "    y1 = Math.floor(y1) + 0.5;\n",
       "    var min_x = Math.min(x0, x1);\n",
       "    var min_y = Math.min(y0, y1);\n",
       "    var width = Math.abs(x1 - x0);\n",
       "    var height = Math.abs(y1 - y0);\n",
       "\n",
       "    fig.rubberband_context.clearRect(\n",
       "        0, 0, fig.canvas.width, fig.canvas.height);\n",
       "\n",
       "    fig.rubberband_context.strokeRect(min_x, min_y, width, height);\n",
       "}\n",
       "\n",
       "mpl.figure.prototype.handle_figure_label = function(fig, msg) {\n",
       "    // Updates the figure title.\n",
       "    fig.header.textContent = msg['label'];\n",
       "}\n",
       "\n",
       "mpl.figure.prototype.handle_cursor = function(fig, msg) {\n",
       "    var cursor = msg['cursor'];\n",
       "    switch(cursor)\n",
       "    {\n",
       "    case 0:\n",
       "        cursor = 'pointer';\n",
       "        break;\n",
       "    case 1:\n",
       "        cursor = 'default';\n",
       "        break;\n",
       "    case 2:\n",
       "        cursor = 'crosshair';\n",
       "        break;\n",
       "    case 3:\n",
       "        cursor = 'move';\n",
       "        break;\n",
       "    }\n",
       "    fig.rubberband_canvas.style.cursor = cursor;\n",
       "}\n",
       "\n",
       "mpl.figure.prototype.handle_message = function(fig, msg) {\n",
       "    fig.message.textContent = msg['message'];\n",
       "}\n",
       "\n",
       "mpl.figure.prototype.handle_draw = function(fig, msg) {\n",
       "    // Request the server to send over a new figure.\n",
       "    fig.send_draw_message();\n",
       "}\n",
       "\n",
       "mpl.figure.prototype.handle_image_mode = function(fig, msg) {\n",
       "    fig.image_mode = msg['mode'];\n",
       "}\n",
       "\n",
       "mpl.figure.prototype.updated_canvas_event = function() {\n",
       "    // Called whenever the canvas gets updated.\n",
       "    this.send_message(\"ack\", {});\n",
       "}\n",
       "\n",
       "// A function to construct a web socket function for onmessage handling.\n",
       "// Called in the figure constructor.\n",
       "mpl.figure.prototype._make_on_message_function = function(fig) {\n",
       "    return function socket_on_message(evt) {\n",
       "        if (evt.data instanceof Blob) {\n",
       "            /* FIXME: We get \"Resource interpreted as Image but\n",
       "             * transferred with MIME type text/plain:\" errors on\n",
       "             * Chrome.  But how to set the MIME type?  It doesn't seem\n",
       "             * to be part of the websocket stream */\n",
       "            evt.data.type = \"image/png\";\n",
       "\n",
       "            /* Free the memory for the previous frames */\n",
       "            if (fig.imageObj.src) {\n",
       "                (window.URL || window.webkitURL).revokeObjectURL(\n",
       "                    fig.imageObj.src);\n",
       "            }\n",
       "\n",
       "            fig.imageObj.src = (window.URL || window.webkitURL).createObjectURL(\n",
       "                evt.data);\n",
       "            fig.updated_canvas_event();\n",
       "            fig.waiting = false;\n",
       "            return;\n",
       "        }\n",
       "        else if (typeof evt.data === 'string' && evt.data.slice(0, 21) == \"data:image/png;base64\") {\n",
       "            fig.imageObj.src = evt.data;\n",
       "            fig.updated_canvas_event();\n",
       "            fig.waiting = false;\n",
       "            return;\n",
       "        }\n",
       "\n",
       "        var msg = JSON.parse(evt.data);\n",
       "        var msg_type = msg['type'];\n",
       "\n",
       "        // Call the  \"handle_{type}\" callback, which takes\n",
       "        // the figure and JSON message as its only arguments.\n",
       "        try {\n",
       "            var callback = fig[\"handle_\" + msg_type];\n",
       "        } catch (e) {\n",
       "            console.log(\"No handler for the '\" + msg_type + \"' message type: \", msg);\n",
       "            return;\n",
       "        }\n",
       "\n",
       "        if (callback) {\n",
       "            try {\n",
       "                // console.log(\"Handling '\" + msg_type + \"' message: \", msg);\n",
       "                callback(fig, msg);\n",
       "            } catch (e) {\n",
       "                console.log(\"Exception inside the 'handler_\" + msg_type + \"' callback:\", e, e.stack, msg);\n",
       "            }\n",
       "        }\n",
       "    };\n",
       "}\n",
       "\n",
       "// from http://stackoverflow.com/questions/1114465/getting-mouse-location-in-canvas\n",
       "mpl.findpos = function(e) {\n",
       "    //this section is from http://www.quirksmode.org/js/events_properties.html\n",
       "    var targ;\n",
       "    if (!e)\n",
       "        e = window.event;\n",
       "    if (e.target)\n",
       "        targ = e.target;\n",
       "    else if (e.srcElement)\n",
       "        targ = e.srcElement;\n",
       "    if (targ.nodeType == 3) // defeat Safari bug\n",
       "        targ = targ.parentNode;\n",
       "\n",
       "    // jQuery normalizes the pageX and pageY\n",
       "    // pageX,Y are the mouse positions relative to the document\n",
       "    // offset() returns the position of the element relative to the document\n",
       "    var x = e.pageX - $(targ).offset().left;\n",
       "    var y = e.pageY - $(targ).offset().top;\n",
       "\n",
       "    return {\"x\": x, \"y\": y};\n",
       "};\n",
       "\n",
       "/*\n",
       " * return a copy of an object with only non-object keys\n",
       " * we need this to avoid circular references\n",
       " * http://stackoverflow.com/a/24161582/3208463\n",
       " */\n",
       "function simpleKeys (original) {\n",
       "  return Object.keys(original).reduce(function (obj, key) {\n",
       "    if (typeof original[key] !== 'object')\n",
       "        obj[key] = original[key]\n",
       "    return obj;\n",
       "  }, {});\n",
       "}\n",
       "\n",
       "mpl.figure.prototype.mouse_event = function(event, name) {\n",
       "    var canvas_pos = mpl.findpos(event)\n",
       "\n",
       "    if (name === 'button_press')\n",
       "    {\n",
       "        this.canvas.focus();\n",
       "        this.canvas_div.focus();\n",
       "    }\n",
       "\n",
       "    var x = canvas_pos.x * mpl.ratio;\n",
       "    var y = canvas_pos.y * mpl.ratio;\n",
       "\n",
       "    this.send_message(name, {x: x, y: y, button: event.button,\n",
       "                             step: event.step,\n",
       "                             guiEvent: simpleKeys(event)});\n",
       "\n",
       "    /* This prevents the web browser from automatically changing to\n",
       "     * the text insertion cursor when the button is pressed.  We want\n",
       "     * to control all of the cursor setting manually through the\n",
       "     * 'cursor' event from matplotlib */\n",
       "    event.preventDefault();\n",
       "    return false;\n",
       "}\n",
       "\n",
       "mpl.figure.prototype._key_event_extra = function(event, name) {\n",
       "    // Handle any extra behaviour associated with a key event\n",
       "}\n",
       "\n",
       "mpl.figure.prototype.key_event = function(event, name) {\n",
       "\n",
       "    // Prevent repeat events\n",
       "    if (name == 'key_press')\n",
       "    {\n",
       "        if (event.which === this._key)\n",
       "            return;\n",
       "        else\n",
       "            this._key = event.which;\n",
       "    }\n",
       "    if (name == 'key_release')\n",
       "        this._key = null;\n",
       "\n",
       "    var value = '';\n",
       "    if (event.ctrlKey && event.which != 17)\n",
       "        value += \"ctrl+\";\n",
       "    if (event.altKey && event.which != 18)\n",
       "        value += \"alt+\";\n",
       "    if (event.shiftKey && event.which != 16)\n",
       "        value += \"shift+\";\n",
       "\n",
       "    value += 'k';\n",
       "    value += event.which.toString();\n",
       "\n",
       "    this._key_event_extra(event, name);\n",
       "\n",
       "    this.send_message(name, {key: value,\n",
       "                             guiEvent: simpleKeys(event)});\n",
       "    return false;\n",
       "}\n",
       "\n",
       "mpl.figure.prototype.toolbar_button_onclick = function(name) {\n",
       "    if (name == 'download') {\n",
       "        this.handle_save(this, null);\n",
       "    } else {\n",
       "        this.send_message(\"toolbar_button\", {name: name});\n",
       "    }\n",
       "};\n",
       "\n",
       "mpl.figure.prototype.toolbar_button_onmouseover = function(tooltip) {\n",
       "    this.message.textContent = tooltip;\n",
       "};\n",
       "mpl.toolbar_items = [[\"Home\", \"Reset original view\", \"fa fa-home icon-home\", \"home\"], [\"Back\", \"Back to  previous view\", \"fa fa-arrow-left icon-arrow-left\", \"back\"], [\"Forward\", \"Forward to next view\", \"fa fa-arrow-right icon-arrow-right\", \"forward\"], [\"\", \"\", \"\", \"\"], [\"Pan\", \"Pan axes with left mouse, zoom with right\", \"fa fa-arrows icon-move\", \"pan\"], [\"Zoom\", \"Zoom to rectangle\", \"fa fa-square-o icon-check-empty\", \"zoom\"], [\"\", \"\", \"\", \"\"], [\"Download\", \"Download plot\", \"fa fa-floppy-o icon-save\", \"download\"]];\n",
       "\n",
       "mpl.extensions = [\"eps\", \"jpeg\", \"pdf\", \"png\", \"ps\", \"raw\", \"svg\", \"tif\"];\n",
       "\n",
       "mpl.default_extension = \"png\";var comm_websocket_adapter = function(comm) {\n",
       "    // Create a \"websocket\"-like object which calls the given IPython comm\n",
       "    // object with the appropriate methods. Currently this is a non binary\n",
       "    // socket, so there is still some room for performance tuning.\n",
       "    var ws = {};\n",
       "\n",
       "    ws.close = function() {\n",
       "        comm.close()\n",
       "    };\n",
       "    ws.send = function(m) {\n",
       "        //console.log('sending', m);\n",
       "        comm.send(m);\n",
       "    };\n",
       "    // Register the callback with on_msg.\n",
       "    comm.on_msg(function(msg) {\n",
       "        //console.log('receiving', msg['content']['data'], msg);\n",
       "        // Pass the mpl event to the overridden (by mpl) onmessage function.\n",
       "        ws.onmessage(msg['content']['data'])\n",
       "    });\n",
       "    return ws;\n",
       "}\n",
       "\n",
       "mpl.mpl_figure_comm = function(comm, msg) {\n",
       "    // This is the function which gets called when the mpl process\n",
       "    // starts-up an IPython Comm through the \"matplotlib\" channel.\n",
       "\n",
       "    var id = msg.content.data.id;\n",
       "    // Get hold of the div created by the display call when the Comm\n",
       "    // socket was opened in Python.\n",
       "    var element = $(\"#\" + id);\n",
       "    var ws_proxy = comm_websocket_adapter(comm)\n",
       "\n",
       "    function ondownload(figure, format) {\n",
       "        window.open(figure.imageObj.src);\n",
       "    }\n",
       "\n",
       "    var fig = new mpl.figure(id, ws_proxy,\n",
       "                           ondownload,\n",
       "                           element.get(0));\n",
       "\n",
       "    // Call onopen now - mpl needs it, as it is assuming we've passed it a real\n",
       "    // web socket which is closed, not our websocket->open comm proxy.\n",
       "    ws_proxy.onopen();\n",
       "\n",
       "    fig.parent_element = element.get(0);\n",
       "    fig.cell_info = mpl.find_output_cell(\"<div id='\" + id + \"'></div>\");\n",
       "    if (!fig.cell_info) {\n",
       "        console.error(\"Failed to find cell for figure\", id, fig);\n",
       "        return;\n",
       "    }\n",
       "\n",
       "    var output_index = fig.cell_info[2]\n",
       "    var cell = fig.cell_info[0];\n",
       "\n",
       "};\n",
       "\n",
       "mpl.figure.prototype.handle_close = function(fig, msg) {\n",
       "    var width = fig.canvas.width/mpl.ratio\n",
       "    fig.root.unbind('remove')\n",
       "\n",
       "    // Update the output cell to use the data from the current canvas.\n",
       "    fig.push_to_output();\n",
       "    var dataURL = fig.canvas.toDataURL();\n",
       "    // Re-enable the keyboard manager in IPython - without this line, in FF,\n",
       "    // the notebook keyboard shortcuts fail.\n",
       "    IPython.keyboard_manager.enable()\n",
       "    $(fig.parent_element).html('<img src=\"' + dataURL + '\" width=\"' + width + '\">');\n",
       "    fig.close_ws(fig, msg);\n",
       "}\n",
       "\n",
       "mpl.figure.prototype.close_ws = function(fig, msg){\n",
       "    fig.send_message('closing', msg);\n",
       "    // fig.ws.close()\n",
       "}\n",
       "\n",
       "mpl.figure.prototype.push_to_output = function(remove_interactive) {\n",
       "    // Turn the data on the canvas into data in the output cell.\n",
       "    var width = this.canvas.width/mpl.ratio\n",
       "    var dataURL = this.canvas.toDataURL();\n",
       "    this.cell_info[1]['text/html'] = '<img src=\"' + dataURL + '\" width=\"' + width + '\">';\n",
       "}\n",
       "\n",
       "mpl.figure.prototype.updated_canvas_event = function() {\n",
       "    // Tell IPython that the notebook contents must change.\n",
       "    IPython.notebook.set_dirty(true);\n",
       "    this.send_message(\"ack\", {});\n",
       "    var fig = this;\n",
       "    // Wait a second, then push the new image to the DOM so\n",
       "    // that it is saved nicely (might be nice to debounce this).\n",
       "    setTimeout(function () { fig.push_to_output() }, 1000);\n",
       "}\n",
       "\n",
       "mpl.figure.prototype._init_toolbar = function() {\n",
       "    var fig = this;\n",
       "\n",
       "    var nav_element = $('<div/>')\n",
       "    nav_element.attr('style', 'width: 100%');\n",
       "    this.root.append(nav_element);\n",
       "\n",
       "    // Define a callback function for later on.\n",
       "    function toolbar_event(event) {\n",
       "        return fig.toolbar_button_onclick(event['data']);\n",
       "    }\n",
       "    function toolbar_mouse_event(event) {\n",
       "        return fig.toolbar_button_onmouseover(event['data']);\n",
       "    }\n",
       "\n",
       "    for(var toolbar_ind in mpl.toolbar_items){\n",
       "        var name = mpl.toolbar_items[toolbar_ind][0];\n",
       "        var tooltip = mpl.toolbar_items[toolbar_ind][1];\n",
       "        var image = mpl.toolbar_items[toolbar_ind][2];\n",
       "        var method_name = mpl.toolbar_items[toolbar_ind][3];\n",
       "\n",
       "        if (!name) { continue; };\n",
       "\n",
       "        var button = $('<button class=\"btn btn-default\" href=\"#\" title=\"' + name + '\"><i class=\"fa ' + image + ' fa-lg\"></i></button>');\n",
       "        button.click(method_name, toolbar_event);\n",
       "        button.mouseover(tooltip, toolbar_mouse_event);\n",
       "        nav_element.append(button);\n",
       "    }\n",
       "\n",
       "    // Add the status bar.\n",
       "    var status_bar = $('<span class=\"mpl-message\" style=\"text-align:right; float: right;\"/>');\n",
       "    nav_element.append(status_bar);\n",
       "    this.message = status_bar[0];\n",
       "\n",
       "    // Add the close button to the window.\n",
       "    var buttongrp = $('<div class=\"btn-group inline pull-right\"></div>');\n",
       "    var button = $('<button class=\"btn btn-mini btn-primary\" href=\"#\" title=\"Stop Interaction\"><i class=\"fa fa-power-off icon-remove icon-large\"></i></button>');\n",
       "    button.click(function (evt) { fig.handle_close(fig, {}); } );\n",
       "    button.mouseover('Stop Interaction', toolbar_mouse_event);\n",
       "    buttongrp.append(button);\n",
       "    var titlebar = this.root.find($('.ui-dialog-titlebar'));\n",
       "    titlebar.prepend(buttongrp);\n",
       "}\n",
       "\n",
       "mpl.figure.prototype._root_extra_style = function(el){\n",
       "    var fig = this\n",
       "    el.on(\"remove\", function(){\n",
       "\tfig.close_ws(fig, {});\n",
       "    });\n",
       "}\n",
       "\n",
       "mpl.figure.prototype._canvas_extra_style = function(el){\n",
       "    // this is important to make the div 'focusable\n",
       "    el.attr('tabindex', 0)\n",
       "    // reach out to IPython and tell the keyboard manager to turn it's self\n",
       "    // off when our div gets focus\n",
       "\n",
       "    // location in version 3\n",
       "    if (IPython.notebook.keyboard_manager) {\n",
       "        IPython.notebook.keyboard_manager.register_events(el);\n",
       "    }\n",
       "    else {\n",
       "        // location in version 2\n",
       "        IPython.keyboard_manager.register_events(el);\n",
       "    }\n",
       "\n",
       "}\n",
       "\n",
       "mpl.figure.prototype._key_event_extra = function(event, name) {\n",
       "    var manager = IPython.notebook.keyboard_manager;\n",
       "    if (!manager)\n",
       "        manager = IPython.keyboard_manager;\n",
       "\n",
       "    // Check for shift+enter\n",
       "    if (event.shiftKey && event.which == 13) {\n",
       "        this.canvas_div.blur();\n",
       "        event.shiftKey = false;\n",
       "        // Send a \"J\" for go to next cell\n",
       "        event.which = 74;\n",
       "        event.keyCode = 74;\n",
       "        manager.command_mode();\n",
       "        manager.handle_keydown(event);\n",
       "    }\n",
       "}\n",
       "\n",
       "mpl.figure.prototype.handle_save = function(fig, msg) {\n",
       "    fig.ondownload(fig, null);\n",
       "}\n",
       "\n",
       "\n",
       "mpl.find_output_cell = function(html_output) {\n",
       "    // Return the cell and output element which can be found *uniquely* in the notebook.\n",
       "    // Note - this is a bit hacky, but it is done because the \"notebook_saving.Notebook\"\n",
       "    // IPython event is triggered only after the cells have been serialised, which for\n",
       "    // our purposes (turning an active figure into a static one), is too late.\n",
       "    var cells = IPython.notebook.get_cells();\n",
       "    var ncells = cells.length;\n",
       "    for (var i=0; i<ncells; i++) {\n",
       "        var cell = cells[i];\n",
       "        if (cell.cell_type === 'code'){\n",
       "            for (var j=0; j<cell.output_area.outputs.length; j++) {\n",
       "                var data = cell.output_area.outputs[j];\n",
       "                if (data.data) {\n",
       "                    // IPython >= 3 moved mimebundle to data attribute of output\n",
       "                    data = data.data;\n",
       "                }\n",
       "                if (data['text/html'] == html_output) {\n",
       "                    return [cell, data, j];\n",
       "                }\n",
       "            }\n",
       "        }\n",
       "    }\n",
       "}\n",
       "\n",
       "// Register the function which deals with the matplotlib target/channel.\n",
       "// The kernel may be null if the page has been refreshed.\n",
       "if (IPython.notebook.kernel != null) {\n",
       "    IPython.notebook.kernel.comm_manager.register_target('matplotlib', mpl.mpl_figure_comm);\n",
       "}\n"
      ],
      "text/plain": [
       "<IPython.core.display.Javascript object>"
      ]
     },
     "metadata": {},
     "output_type": "display_data"
    },
    {
     "data": {
      "text/html": [
       "<img src=\"data:image/png;base64,iVBORw0KGgoAAAANSUhEUgAAAoAAAAHgCAYAAAA10dzkAAAgAElEQVR4Xu2deaiXVfuvb93kr+HNrKhOppWIjUIzklEUZQYnsIhsotIiwzplk9mMgmkDpOePSq1QsZGggUYjQq2M5nqjaIbQNIoGXzuUmu3Devb73e4pn2etZ1jDfX3hx4/evab7+tzbfe31HXa/9vb2duEBAQhAAAIQgAAEIKCGQD8EUE3WFAoBCEAAAhCAAAQyAgggjQABCEAAAhCAAASUEUAAlQVOuRCAAAQgAAEIQAABpAcgAAEIQAACEICAMgIIoLLAKRcCEIAABCAAAQgggPQABCAAAQhAAAIQUEYAAVQWOOVCAAIQgAAEIAABBJAegAAEIAABCEAAAsoIIIDKAqdcCEAAAhCAAAQggADSAxCAAAQgAAEIQEAZAQRQWeCUCwEIQAACEIAABBBAegACEIAABCAAAQgoI4AAKgucciEAAQhAAAIQgAACSA9AAAIQgAAEIAABZQQQQGWBUy4EIAABCEAAAhBAAOkBCEAAAhCAAAQgoIwAAqgscMqFAAQgAAEIQAACCCA9AAEIQAACEIAABJQRQACVBU65EIAABCAAAQhAAAGkByAAAQhAAAIQgIAyAgigssApFwIQgAAEIAABCCCA9AAEIAABCEAAAhBQRgABVBY45UIAAhCAAAQgAAEEkB6AAAQgAAEIQAACyggggMoCp1wIQAACEIAABCCAANIDEIAABCAAAQhAQBkBBFBZ4JQLAQhAAAIQgAAEEEB6AAIQgAAEIAABCCgjgAAqC5xyIQABCEAAAhCAAAJID0AAAhCAAAQgAAFlBBBAZYFTLgQgAAEIQAACEEAA6QEIQAACEIAABCCgjAACqCxwyoUABCAAAQhAAAIIID0AAQhAAAIQgAAElBFAAJUFTrkQgAAEIAABCEAAAaQHIAABCEAAAhCAgDICCKCywCkXAhCAAAQgAAEIIID0AAQgAAEIQAACEFBGAAFUFjjlQgACEIAABCAAAQSQHoAABCAAAQhAAALKCCCAygKnXAhAAAIQgAAEIIAA0gMQgAAEIAABCEBAGQEEUFnglAsBCEAAAhCAAAQQQHoAAhCAAAQgAAEIKCOAACoLnHIhAAEIQAACEIAAAkgPQAACEIAABCAAAWUEEEBlgVMuBCAAAQhAAAIQQADpAQhAAAIQgAAEIKCMAAKoLHDKhQAEIAABCEAAAgggPQABCEAAAhCAAASUEUAAlQVOuRCAAAQgAAEIQAABpAcgAAEIQAACEICAMgIIoLLAKRcCEIAABCAAAQgggPQABCAAAQhAAAIQUEYAAVQWeM9y77vvPrn77rtl7dq1cvDBB8vcuXPl2GOPVU6F8iEAAQhAAAJpE0AA0853q9U98cQTcv7554uRwGOOOUbmz58vDz74oHz22Wey9957KyZD6RCAAAQgAIG0CSCAaee71epGjRolhx9+uNx///2d4w488EA57bTTZPbs2Vud+/fff8uaNWtkxx13lH79+immSOkQgAAE4iTQ3t4u69evl8GDB0v//v3jLIJTOxNAAJ3RxT1x48aNsv3228uTTz4pp59+emcxU6ZMkY8++kiWL1++1QJXr14tQ4cOjRsCp4cABCAAAVm1apUMGTIEEsoIIIDKAm+Va27v9tprL3nzzTdl9OjRnRRmzZolixcvli+++KIbmQ0bNoj5v9Zj3bp12dPE575wrgzYYYAuiv9LV7l1V/t/D1i01S2uufjibl/fvHlz3UcKcv1tttmm27k2nbdpy3/Tk9Vn9kP1S4a24sb/t1Ee/d+Pym+//SY77bRTaMfjPDUTQABrBhzq8i0BXLlypRx99NGdx7z99ttlyZIl8vnnn3c7+vTp02XGjBm9ypmwbIIM+JcyAdwz1FTjPNf8vRZs9eCXTZ6MAIpILwGc2EUA6cnqm39t9UuGtuLG3zfKouMXifmFfuDAgaEdj/PUTAABrBlwqMvbPgXc8wbwP//5T/YUMAIYasIRnavHD9r5R8zvdvhLL7002GJ6SlmTB93UVQB7bowQlo8CASzPkBWCJoAABh1PvYczbwI54ogjsncBtx4HHXSQjBs3LvdNIEYAzVMGCGC9GalYHQF0ihkBdMJWfBICWJwVI6MkgABGGVs1h259DMy8efOyp4EXLFggDzzwgHz66aeyzz77bHUTBLCaDFhFRBBApzZAAJ2wFZ+EABZnxcgoCSCAUcZW3aHN7d9dd92VfRD0yJEjZc6cOXLcccflboAA5iJiQFECCGBRUt3GIYBO2IpPQgCLs2JklAQQwChj839oBNB/BsmcIEcAe9Zp+5pAn6/TqzMjBLBOur1vpmvezcvyvAnEC/ZgNkUAg4kiroMggHHlFfRpEUCneBBAJ2zFJ3EDWJwVI6MkgABGGZv/QyOA/jNI5gQIoFOUCKATtuKTEMDirBgZJQEEMMrY/B8aAfSfQTInQACdokQAnbAVn4QAFmfFyCgJIIBRxub/0Aig/wySOUFPATxy6x8M/X8uvzyZ0ssUggCWoVdgLgJYABJDYiaAAMacnsezI4Ae4ae2NQLolCgC6ISt+CQEsDgrRkZJAAGMMjb/h0YA/WeQzAkQQKcoEUAnbMUnIYDFWTEySgIIYJSx+T80Aug/g2ROgAA6RYkAOmErPgkBLM6KkVESQACjjM3/oRFA/xkkcwIE0ClKBNAJW/FJCGBxVoyMkgACGGVs/g+NAPrPIJkTIIBOUSKATtiKT0IAi7NiZJQEEMAoY/N/aATQfwbJnAABdIoSAXTCVnwSAlicFSOjJIAARhmb/0MjgP4zSOYECKBTlEkKoALpcgq7pkn8KbiawEayLAIYSVChHRMBDC2RiM+DADqFhwA6YWNSFwIIoO52QAB15+9cPQLojI6JPQkggE49gQA6YWMSAkgP/JcAAkgrOBFAAJ2wMakvAgigU18ggE7YmIQA0gMIID1QhoBqAewJbs8yJJkrCKBTE1QqgLz2zimD2CfxFHDsCZY7PzeA5fipnY0AdokeASz3fYAAOvFDAJ2wMYkbQHqAG0B6oAwBBBABLNM/3eYigE4oEUAnbExCAOkBBJAeKEMAAUQAy/QPAlieHgJYnqH2FXgKWHcH8BSw7vydq0cAEUDn5uk50fL1Z20PtVW2dcwLbb54c8zH5+wBEEAAAwjB4xEQQI/wY94aAUQAK+tfBNAJJQLohI1JPAVMD/AUMD1QhgACiACW6Z+tPQWcty43gB2EEMC8TuHreQS4AcwjlPbXuQFMO9/aqkMAEcDKmosbQCeUCKATNiZxA0gPcANID5QhgAAigGX6hxvA8vQQwPIMta/ADaDuDuAGUHf+ztUjgAigc/P0nMgNoBNKBNAJG5O4AaQHuAGkB8oQQAARwDL9ww1geXoIYHmG2lfgBlB3B3ADqDt/5+oRQATQuXm4AawEHQJYCUbViyCAquMXBFB3/s7VI4AIoHPzmImWT/t23Yt3AXfQQABLdSCTRQQB1N0GCKDu/J2rRwARQOfmQQBLoWtNRgArwah6EQRQdfzcAOqO3716BBABdO8ebgBLsfvvZASwCoq610AAdefPDaDu/J2rRwARQOfm4QawFDpuACvBxyI8Bay+BxBA9S3gBgABjFAAS7zuzq1L6pnFawA7uHIDWE9/aVqVG0BNafeuFQHUnb9z9QggAujcPCUnIoAIYMkWYvp/CSCAulsBAdSdv3P1CCAC6Nw8JScigAhgyRZiOgJID4jwJhC6wI0AAlhQABN52tWtS+qZhQAigPV0lr5VuQHUl3nXirkB1J2/c/UIIALo3DwlJyKACGDJFmI6N4D0ADeA9IArAQQQAXTtnbLzEEAEsGwPMb+DADeAujuBG0Dd+TtXjwAigM7NU3IiAogAlmwhpnMDSA9wA0gPuBJAAF3JMa80gQWlV/jHBdra2upbvOKV+RiYioEqXI4bQIWhdymZG0Dd+TtXjwA6o2NiWQIIYEYQASzbSMxHAHX3AAKoO3/n6hFAZ3RMLEsAAUQAy/YQ8zMCCKDuRkAAdefvXD0C6IyOiWUJIIAIYNkeYj4CSA/wOYD0gBsBBNCNG7MqIFCjAFZwuuaWmNTcVuyUJgFuANPMtWhV3AAWJcW4bgQQQBrCGwEEsAM9AuitBVPZGAFMJUm3OhBAN27qZyGA6lvAHwAEEAH0131J7YwAJhWndTEIoDUyJhgCCCB94I0AAogAemu+tDZGANPK07YaBNCWGOMzAgggjeCNAAKIAHprvrQ2RgDTytO2GgTQlhjjEUB6wC8BBBAB9NuByeyOACYTpVMhCKATNiZxA0gPeCOAACKA3povrY0RwLTytK0GAbQlxnhuAOkBvwQQQATQbwcmszsCmEyUToUggE7YmMQNID3gjQACiAB6a760NkYA08rTthoE0JYY47kBpAf8EkAAEUC/HZjM7ghgMlE6FYIAOmFjEjeA9IA3AgggAuit+dLaGAFMK0/bahBAW2KM5waQHvBLAAFEAP12YDK7I4DJROlUCALohI1J3ADSA94IIIAIoLfmS2tjBDCtPG2rQQBtiTGeG0B6wC8BBBAB9NuByeyOACYTpVMhCKATNiZxA0gPeCOAACKA3povrY0RwLTytK0GAbQlxnhuAOkBvwQQQATQbwcmszsCmEyUToUggE7YmMQNID3QGAGEr2/UkxpLgI0SJYAAJhpswbIQwIKgGNadAAJIRzRGAAFEABtrNl0bIYC68u5ZLQKoO3/n6hFAZ3RMtCWAACKAtj3D+EIEEMBCmJIdhAAmG229hSGA9fJl9S0Etlm4DTj6ILBp4ia4QKAUAQSwFL7oJyOA0UfopwAE0A93jbsigH2njgBq/G6otmYEsFqesa2GAMaWWCDnRQADCULBMRBABFBBm3spEQH0gj2YTRHAYKKI6yAIYFx5xXxaBBABjLl/Qz47AhhyOvWfDQGsn3GSOyCAScYaZFEIIAIYZGMmcCgEMIEQS5SAAJaAp3kqAqg5/WZrRwARwGY7Ts9uCKCerPuqFAFMMP/Zs2fLU089JZ9//rlst912Mnr0aLnzzjtl//3376x2w4YNct1118ljjz0mf/zxh5x44oly3333yZAhQwoRQQALYWJQBQQQQASwgjZiiT4IIIC62wIBTDD/U045Rc4++2w56qij5K+//pKbb75ZPvnkE/nss89khx12yCqePHmyPPfcc7Jo0SLZdddd5dprr5VffvlF3n//fWlra8ulggDmImJARQQQQASwolZimR4EEEDdLYEAKsj/p59+kt13312WL18uxx13nKxbt0522203WbJkiZx11lkZgTVr1sjQoUPlxRdflLFjx+ZSQQBzETGgIgIIIAJYUSuxDAJID3QhgAAqaIevv/5aRowYkd0Cjhw5Ul577bXsKV9z47fzzjt3EjjkkEPktNNOkxkzZuRSQQBzETGgIgIIIAJYUSuxDAJIDyCAenqgvb1dxo0bJ7/++qu8/vrrWeGPPvqoTJw4UczrALs+Tj75ZBk2bJjMnz+/FyAztut4I4DmxnDCsgky4F8D9ACl0sYJIIAIYONNp2RDngJWEvQ/lMkNYOL5X3755fLCCy/IG2+80fkGj38SwDFjxsjw4cNl3rx5vahMnz69z5tBBDDxBgqgPAQQAQygDZM8AgKYZKyFi0IAC6OKb+AVV1whzzzzjKxYsSK72Ws9XJ4C5gYwvvxTOTECiACm0suh1YEAhpZIs+dBAJvl3chu5mlfI39PP/20LFu2LHv9X9dH600gDz/8sIwfPz770tq1a7MbQt4E0khEbGJBAAFEAC3ahaEWBBBAC1gJDkUAEwz1sssuy17n9+yzz3b77L+ddtop+1xA8zAfA/P8889nHwOzyy67ZJ8J+PPPP/MxMAn2Q+wlIYAIYOw9HOr5EcBQk2nmXAhgM5wb3aVfv3597rdw4UKZMGFC9rU///xTpk6dmoli1w+CNm/sKPLgXcBFKDGmCgIIIAJYRR+xRm8CCKDurkAAdefvXD0C6IyOiZYEEEAE0LJlGF6QAAJYEFSiwxDARIOtuywEsG7CrN8igAAigHw31EMAAayHayyrIoCxJBXYORHAwAJJ+DgIIAKYcHt7LQ0B9Irf++YIoPcI4jwAAhhnbjGeGgFEAGPs2xjOjADGkFJ9Z0QA62Ob9MoIYNLxBlVc20NtQZ2n6GH69+9fdKjTuE0TNznNYxIEWgQQQN29gADqzt+5egTQGR0TLQkggNwAWrYMwwsSQAALgkp0GAKYaLB1l4UA1k2Y9VsEEEAEkO+GeggggPVwjWVVBDCWpAI7JwIYWCAJHydWAaw7ks0Xb657C9ZPnAACmHjAOeUhgLrzd64eAXRGx0RLAghg38AQQMtGYngvAgig7qZAAHXn71w9AuiMjomWBBBABNCyZRhekAACWBBUosMQwESDrbssBLBuwqzfIoAAIoB8N9RDAAGsh2ssqyKAsSQV2DkRwMACSfg4CCACmHB7ey0NAfSK3/vmCKD3COI8AAIYZ24xnhoBRABj7NsYzowAxpBSfWdEAOtjm/TKCGDS8QZVHAKIAAbVkAkdBgFMKEyHUhBAB2hMEUEA6YKmCCCACGBTvaZtHwRQW+Ld60UAdefvXD0C6IyOiZYEEEAE0LJlGF6QAAJYEFSiwxDARIOtuywEsG7CrN8igAAigHw31EMAAayHayyrIoCxJBXYORHAwAJJ+DgIIAKYcHt7LQ0B9Irf++YIoPcI4jwAAhhnbjGeGgFEAGPs2xjOjADGkFJ9Z0QA62Ob9MoIYNLxBlUcAogABtWQCR0GAUwoTIdSEEAHaEzhXcD0QHMEEEAEsLlu07UTAqgr757VIoC683eunhtAZ3RMtCSAACKAli3D8IIEEMCCoBIdhgAmGmzdZSGAdRNm/RYBBBAB5LuhHgIIYD1cY1kVAYwlqcDOiQAGFkjCx0EAEcCE29traQigV/zeN0cAvUcQ5wEQwDhzi/HUCCACGGPfxnBmBDCGlOo7IwJYH9ukV0YAk443qOIQQAQwqIZM6DAIYEJhOpSCADpAYwrvAqYHmiOAACKAzXWbrp0QQF1596wWAdSdv3P13AA6o2OiLYEFthOUjJ+kpE7KrI0AAlgb2igWRgCjiCm8QyKA4WWS7IkQwL6jRQCTbfmmCkMAmyId5j4IYJi5BH8qBDD4iNI5IAKIAKbTzUFVggAGFUfjh0EAG0eexoYIYBo5RlEFAogARtGo8R0SAYwvsypPjABWSVPRWgigorB9l4oAIoA+enBPy03XWo4PYDgCGEAIHo+AAHqEH/PWCGDM6UV2dgQQAfTRsgigD+rs2SABBLBB2ClthQCmlGbgtSCACKCPFkUAfVBnzwYJIIANwk5pKwQwpTQDrwUB1CuAthLms5V5CtgnffZ2IIAAOkBjCh8ETQ80SAABRAAbbDfnrRBAZ3RM9EMAAfTDPfpduQGMPsJ4CkAAEcAYuhUBjCElztiFAAJIOzgRQACdsDHJhQACiAC69E3TcxDApomzX0kCCGBJgFqnI4Bak/dQNwLYvADG9No7Dy3Z55YIYChJcI6CBBDAgqAY1p0AAkhHNEYAAUQAG2u2EhshgCXgMdUHAQTQB/UE9kQAEwgxlhIQQAQwhl5FAGNIiTN2IYAA0g5OBBBAJ2xMciGAACKALn3T9BwEsGni7FeSAAJYEqDW6Qig1uQ91I0AVi+AvMav+kZGAKtnyoq1EkAAa8Wb7uIIYLrZBlcZAogABteUfRwIAYwhJc7IU8D0QFkCCGBZgswvTAABRAALN4vHgQigR/hs7UKAG0AXaswRBJAmaIwAAogANtZsJTZCAEvAY6oPAgigD+oJ7IkAJhBiJCVss3CbSE5a7zE3TdxU3Qa8BrA6lq2VEMDqmbJirQQQwFrxprs4AphutqFVhgB2JIIAhtaZPc6DAAYeEMfrSQABpCecCCCATtiY5EAAAUQAHdqm+SkIYPPM2bEUAQSwFD69kxFAvdk3XTkCiAA23XNO+yGATtiY5I8AAuiPfdQ7I4BRx+f/8BavQdtmFq8B5Clg/y2bewIEMBcRA8IigACGlUc0p0EAo4kqzIMigNa58BpAa2TNTkAAm+XNbqUJIIClEepcAAHUmXtlVSOA1igRQGtkzU5AAJvlzW6lCSCApRHqXAAB1Jl7ZVUjgNYoEUBrZM1OQACb5c1upQkggKUR6lwAAYwwdwvpCqk6XgPYkQYCGFJX9nEWBDDwgDheTwIIID3hRAABdMLmdxIC6Jd/yd0RwJIA656OANZNmPUrJoAAVgxUy3IIYIRJI4ARhrblyAhg4PEhgIEHxPG4AaQHKiGAAFaCsdlFEMBmeVe8GwJYMdCql0MAqybKejUT4AawZsCpLo8AFkw2UukqWF0jw3gNYAdmBLCRdnPfBAF0Z8dMLwQQQC/Y498UASyYIQJYENQ/D0MAEcDSTdTEAghgE5TZo0ICCGCFMDUthQAWTBsBLAgKAcwDxQ1gHiHPX0cAPQfA9rYEEEBbYozPCCCABRsBASwICgHMA4UA5hHy/HUE0HMAbG9LAAG0JcZ4BNCmBxBAG1p9juUp4A4sCGDpVqp3AQSwXr6sXjkBBLBypDoW5AawYM4IYEFQ3ADmgUIA8wh5/joC6DkAtrclgADaEmM8N4A2PYAA2tDiBnArtBDA0q1U7wIIYL18Wb1yAghg5Uh1LMgNYMGcEcCCoLgBzANVqQD23Iw+zcOf/3UEMJ8RI4IigAAGFUc8h0EAC2bFD9aCoBDAPFAIYB4hz19HAD0HwPa2BBBAW2IRjp89e7bcdNNNMmXKFJk7d25WwYYNG+S6666Txx57TP744w858cQT5b777pMhQ4YUqhABLIRJBAEsCAoBzAOFAOYR8vx1BNBzAGxvSwABtCUW2fh3331Xxo8fLwMHDpQTTjihUwAnT54szz33nCxatEh23XVXufbaa+WXX36R999/X9ra2nKrRABzEXUMQAALgkIA80AhgHmEPH8dAfQcANvbEkAAbYlFNP7333+Xww8/PLvZmzlzphx66KGZAK5bt0522203WbJkiZx11llZRWvWrJGhQ4fKiy++KGPHjs2tEgHMRYQAFkSUN6xtZv4vJHlrpPD1zRdvrq8MflEpzxYBLM+QFRolgAA2irvZzS688ELZZZddZM6cOXL88cd3CuBrr72WPeVrbvx23nnnzkMdcsghctppp8mMGTNyD4oA5iJCAAsiyhuGAHYQQgDzOsXz1xFAzwGwvS0BBNCWWCTjH3/88ezW77333pNtt922mwA++uijMnHixOx1gF0fJ598sgwbNkzmz5/fq0oztut4I4DmxnDCsgky4F8DIqHi4ZjcrJSGjgAigKWbqIkFEMAmKLNHhQQQwAphhrLUqlWr5Mgjj5RXXnlFzK2eeXS9AfwnARwzZowMHz5c5s2b16uU6dOn93kziADmpI4Alv62QAARwNJN1MQCCGATlNmjQgIIYIUwQ1nqmWeekdNPP73bmzk2b94s/fr1k/79+8vSpUvlpJNOsnoKmBtAx3QRQEdwW6YhgAhg6SZqYgEEsAnK7FEhAQSwQpihLLV+/Xr57rvvuh3HPOV7wAEHyLRp07Knbs2bQB5++OHsHcLmsXbt2uwjYHgTSMUpIoClgSKACGDpJmpiAQSwCcrsUSEBBLBCmCEv1fUpYHNO8zEwzz//fPYxMOaNIuYzAX/++Wc+BqbqEBHA0kQRQASwdBM1sQAC2ARl9qiQAAJYIcyQl+opgH/++adMnTpVzOsBu34QtLkdLPLgXcBFKPE5gAUpbXUYAogAVtFHta+BANaOmA2qJYAAVstTzWoIYMGouQEsCOqfhyGACGDpJmpiAQSwCcrsUSEBBLBCmJqWQgALpo0AFgSFAOaB4nMA8wh5/joC6DkAtrclgADaEmN8RgABLNgICGBBUAhgHigEMI+Q568jgJ4DYHtbAgigLTHGI4A2PYAA2tDqcyxPAXdgQQBLt1K9CyCA9fJl9coJIICVI9WxIDeABXNGAAuC4gYwDxQCmEcosK9HIIQbf98oi45flP19+IEDBwYGkOPUTQABrJtwousjgAWDRQALgkIA80AhgHmEAvs6AhhYIBynJwEEkJ5wIoAAFsSGABYEhQDmgUIA8wgF9nUEMLBAOA4CSA9UQgABLIgRASwICgHMA4UA5hEK7OsIYGCBcBwEkB6ohAAC6IgRIbQGx5tAOpAhgNat43cCAuiXP7vnEuAp4FxEDOiLAALo2BcIoDU4BBABtG6aECYggCGkwBm2QgABpD2cCCCATthEEEBrcAggAmjdNCFMQABDSIEzIID0QNUEEEBHogigPbgZ9lOSnDGpxqroy+rhIoDVM2XFSglwA1gpTj2LIYCOWfOD1h4cAtjBDAG07x2fMxBAn/TZuwABBLAAJIb0JoAAOnYFAmgPDgFEAO27xv8MBNB/BpxgqwQQQBrEiQAC6ISN1wC6YEMAEUCXvvE9BwH0nQD75xBAAGkRJwIIoBM2BNAFGwKIALr0je85CKDvBNgfAaQH6iCAADpS5Slge3AIIAJo3zX+ZyCA/jPgBDwFTA9UTwABdGSKANqDQwARQPuu8T8DAfSfASdAAOmB6gkggI5MEUB7cAggAmjfNf5nIID+M+AECCA9UD0BBNCRKQJoDw4BRADtu8b/DATQfwacAAGkB6ongAA6MkUA7cEhgAigfdf4n4EA+s+AEyCA9ED1BBBAR6YIoD04BBABtO8a/zMQQP8ZcAIEkB6ongAC6MgUAbQHhwAigPZd438GAug/A06AANID1RNAAB2ZIoD24BBABNC+a/zPQAD9Z8AJEEB6oHoCCKAjUwTQHhwCiADad43/GQig/ww4AQJID1RPAAF0ZIoA2oNDABFA+67xPwMB9J8BJ0AA6YHqCSCAjkwRQHtwCCACaN81/mcggP4z4AQIID1QPQEE0JEpAmgPDgFEAO27xv8MBNB/BpwAAaQHqieAADoyRarRu70AACAASURBVADtwSGACKB91/ifgQD6z4ATIID0QPUEEEBHpgigPTgEEAG07xr/MxBA/xlwAgSQHqieAALoyBQBtAeHACKA9l3jfwYC6D8DToAA0gPVE0AAHZkigNbgtpm1jdWcTZs2WY2PZvCkGk9KX1YPFwGsnikrVkqgX3t7e3ulK7KYCgIIoGPM/KC1BocA/hcZAmjdO14nIIBe8bN5PgEEMJ8RI/oggAA6tgUCaA0OAUQArZsmhAkIYAgpcIatEEAAaQ8nAgigEzYRBNAaHAKIAFo3TQgTEMAQUuAMCCA9UDUBBNCRKAJoDc5WAK03iGTCpok1vraRvqy+CxDA6pmyYqUEuAGsFKeexRBAx6z5QWsNDgHsQIYAWreO3wkIoF/+7J5LAAHMRcSAvggggI59gQBag0MAEUDrpglhAgIYQgqcYSsEEEDaw4kAAuiEjdcAOmBDABsQwJ658IuKQ6f2mIIAlmfICrUSQABrxZvu4gigY7b8YLUGhwAigNZNE8IEBDCEFDgDN4D0QNUEEEBHogigNTgEEAG0bpoQJiCAIaTAGRBAeqBqAgigI1EE0BocAogAWjdNCBMQwBBS4AwIID1QNQEE0JEoAmgNDgFEAK2bJoQJCGAIKXAGBJAeqJoAAuhIFAG0BocAIoDWTRPCBAQwhBQ4AwJID1RNAAF0JIoAWoNDABFA66YJYQICGEIKnAEBpAeqJoAAOhJFAK3BIYAIoHXThDABAQwhBc6AANIDVRNAAB2JIoDW4BBABNC6aUKYgACGkAJnQADpgaoJIICORBFAa3AIIAJo3TQhTEAAQ0iBMyCA9EDVBBBAR6IIoDU4BBABtG6aECYggCGkwBkQQHqgagIIoCNRBNAaHAKIAFo3TQgTEMAQUuAMCCA9UDUBBNCRKAJoDQ4BRACtmyaECQhgCClwBgSQHqiaAALoSBQBtAaHACKA1k0TwgQEMIQUOAMCSA9UTQABdCSKAFqDQwARQOumCWECAhhCCpwBAaQHqiaAADoSRQCtwSGACKB104QwAQEMIQXOgADSA1UTQAAdiSKA1uDaZrZZz0lxwuaLNzdXFn3am3UEQmfbIBt/3yiLjl8k69atk4EDB9pOZ3zkBPq1t7e3R14Dx/dAAAF0hM4PVmtwCGAHMgTQunWqnYAAVsuT1bwTQAC9RxDnARBAx9wQQGtwCCACaN00dUxAAOugypoeCSCAHuHHvDUC6JgeAmgNDgFEAK2bpo4JCGAdVFnTIwEE0CP8mLdGACtKDyHMBYkAKhbABKUrt+EbHMBrABuEHeBWCGCAocRwJASwopQQwFyQCCACmNskDHAigAA6YUtmEgKYTJTNFoIAVsQbAcwFiQAigLlNwgAnAgigE7ZkJiGAyUTZbCEIYEW8EcBckAggApjbJAxwIoAAOmFLZhICmEyUzRaCAFbEGwHMBYkAehDA3FQYkAIBBDCFFN1rQADd2ameiQBWFD8CmAsSAUQAc5uEAU4EEEAnbMlMQgCTibLZQhDAingjgLkgEUAEMLdJGOBEAAF0wpbMJAQwmSibLQQBrIg3ApgLEgFEAHObhAFOBBBAJ2zJTEIAk4my2UIQwIp4I4C5IBFABDC3SRjgRAABdMKWzCQEMJkouxfy/fffy7Rp0+Sll16SP/74Q/bbbz956KGH5IgjjsgGmj8BPWPGDFmwYIH8+uuvMmrUKLn33nvl4IMPLkQEASyEKX8QApjLCAFEAHObhAFOBBBAJ2zJTEIAk4lySyFG6A477DA54YQTZPLkybL77rvLN998I/vuu68MHz48G3jnnXfK7bffLosWLcrkcObMmbJixQr54osvZMcdd8ylggDmIio2AAHM5YQAIoC5TcIAJwIIoBO2ZCYhgMlEuaWQG264Qd588015/fXX+6zO3P4NHjxYrrrqquyW0Dw2bNgge+yxRyaGl156aS4VBDAXUbEBCGAuJwQQAcxtEgY4EUAAnbAlMwkBTCbKLYUcdNBBMnbsWFm9erUsX75c9tprL7nsssvkkksuyQZ9++232U3gBx98kN0Uth7jxo2TQYMGyeLFi3OpIIC5iIoNQABzOSGACGBukzDAiQAC6IQtmUkIYDJRbilk2223zf7jmmuukTPPPFPeeeed7LZv/vz5csEFF8jKlSvlmGOOEfM6QXMT2HpMmjRJvvvuO1m6dGkvKuaG0Pxf62EEcOjQoTJh2QQZ8K8BCVJsqCQEMBc0AogA5jYJA5wIIIBO2JKZhAAmE+WWQgYMGCBHHnlkJnqtx5VXXinvvvuuvPXWW50CuGbNGtlzzy0GYm4IV61aJS+//HIvKtOnT8/eNNLzgQCWbCAEMBcgAogA5jYJA5wIIIBO2JKZhAAmE+WWQvbZZx8ZM2aMPPjgg53/4/3335+90cPc+rk8BcwNYE2NolUA11rwXGAxtuKhbW1tFa/ovtzmize7T2YmBPoggADqbgsEMMH8zz333Owmr+ubQK6++mp5++23s9u/1ptAzP92/fXXZwQ2btyYvVuYN4E03BAIYD5wBDBjhADmtwoj7AgggHa8UhuNAKaWqEj2VO/o0aOzp2zHjx+fvQbQPL1rPvPvvPPOyyo2ojd79mxZuHChjBgxQmbNmiXLli3jY2Ca7gcEMJ84AogA5ncJIxwIIIAO0BKaggAmFGbXUp5//nm58cYb5auvvpJhw4ZlbwhpvQvYjGt9ELR5Y0jXD4IeOXJkISK8C7gQpvxBCGA+IwQQAczvEkY4EEAAHaAlNAUBTCjMJktBACui7VMAbV6HV1G5Tst4FECn89Y1aVJdC7OuVgIIoNbkO+pGAHXn71w9AuiMrvtEBDAfJALYwQgBzO8VRlgRQACtcCU3GAFMLtJmCkIAK+KMAOaDRAARwPwuYYQDAQTQAVpCUxDAhMJsshQEsCLaCGA+SAQQAczvEkY4EEAAHaAlNAUBTCjMJktBAJukrXwvBBABVP4tUFf5CGBdZONYFwGMI6fgTokABhdJugdCABHAdLvba2UIoFf83jdHAL1HEOcBEMA4c4vy1AggAhhl44Z/aAQw/IzqPCECWCfdhNdGABMON7TSEEAEMLSeTOQ8CGAiQTqWgQA6gtM+DQHU3gEN1o8AIoANtpumrRBATWn3rhUB1J2/c/UIoDM6JtoSQAARQNueYXwhAghgIUzJDkIAk4223sIQwHr5snoXAgggAsg3RC0EEMBasEazKAIYTVRhHRQBDCuPpE+DACKASTe4v+IQQH/sQ9gZAQwhhQjPgABGGFqsR0YAEcBYezfwcyOAgQdU8/EQwJoBp7o8AphqsgHWhQAigAG2ZQpHQgBTSNG9BgTQnZ3qmQig6vibLR4BRACb7Tg1uyGAaqLus1AEUHf+ztUjgM7omGhLAAFEAG17hvGFCCCAhTAlOwgBTDbaegtDAOvly+pdCCCACCDfELUQQABrwRrNoghgNFGFdVAEMKw8kj4NAogAJt3g/opDAP2xD2FnBDCEFCI8AwIYYWixHhkBRABj7d3Az40ABh5QzcdDAGsGnOryCGCqyQZYFwKIAAbYlikcCQFMIUX3GhBAd3aqZyKAquNvtngEEAFstuPU7IYAqom6z0IRQN35O1ePADqjY6ItAQQQAbTtGcYXIoAAFsKU7CAEMNlo6y0MAayXL6t3IYAAIoB8Q9RCAAGsBWs0iyKA0UQV1kERwLDySPo0NQrgpAXlFl8waVJz6Bvcqrmi2MknAQTQJ33/eyOA/jOI8gQIYJSxxXnoco621ZoRwDhbglNXQwABrIZjrKsggLEm5/ncCKDnADRtjwDyFLCmfm+wVgSwQdgBboUABhhKDEdCAGNIKZEzIoAIYCKtHFoZCGBoiTR7HgSwWd7J7IYAJhNl+IXUKIALerwGcFLOa/psx1cKl9cAVoqTxUQQQN1dgADqzt+5egTQGR0TbQkggNwA2vYM4wsRQAALYUp2EAKYbLT1FoYA1suX1bsQQAARQL4haiGAANaCNZpFEcBoogrroAhgWHkkfRoEEAFMusH9FYcA+mMfws4IYAgpRHgGBDDC0GI9co0CGBUSXgMYVVwxHBYBjCGl+s6IANbHNumVEcCk4w2rOASQG8CwOjKZ0yCAyUTpVAgC6ISNSQggPdAYAQQQAWys2XRthADqyrtntQig7vydq0cAndEx0ZYAAogA2vYM4wsRQAALYUp2EAKYbLT1FoYA1suX1bsQaFAA8/40XKN/+7dnE/AaQL4tKiaAAFYMNLLlEMDIAgvluAhgKEkoOAcCyA2ggjb3USIC6IN6OHsigOFkEdVJEMCo4or7sAggAhh3Bwd7egQw2GgaORgC2Ajm9DZBANPLNNiKEEAEMNjmjPtgCGDc+ZU9PQJYlqDS+Qig0uB9lI0AIoA++k7BngiggpC3UiICqDt/5+oRQGd0TLQlgAAigLY9w/hCBBDAQpiSHYQAJhttvYUhgPXyZfUuBBBABJBviFoIIIC1YI1mUQQwmqjCOigCGFYeSZ8GAUQAk25wf8UhgP7Yh7AzAhhCChGeAQGMMLRYj4wAIoCx9m7g50YAAw+o5uMhgDUDTnV5BDDVZAOsCwFEAANsyxSOhACmkKJ7DQigOzvVMxFA1fE3WzwCiAA223FqdkMA1UTdZ6EIoO78natHAJ3RMdGWQI0CuGBB98XfyznbkT2+PmlSg3+frcGtbCNifJwEEMA4c6vq1AhgVSSVrYMAKgvcZ7kIIDeAPvsv4b0RwITDLVAaAlgAEkN6E0AA6YrGCCCACGBjzaZrIwRQV949q0UAdefvXD0C6IyOibYEEEAE0LZnGF+IAAJYCFOygxDAZKOttzAEsF6+rN6FQI0C2JPzpB6vCez59QVNvuav1+HoCghUSwABrJZnbKshgLElFsh5EcBAgtBwDASQG0ANfe6hRgTQA/SAtkQAAwojpqMggDGlFflZEUAEMPIWDvX4CGCoyTRzLgSwGc7J7YIAJhdpuAUhgAhguN0Z9ckQwKjjK314BLA0Qp0LIIA6c2+k6gaFr5F6qtqEzwGsiiTr/JcAAqi7FRBA3fk7V48AOqNjYh4BBLBvQghgXufwdUsCCKAlsMSGI4CJBdpUOQhgU6QV7oMAIoAK295HyQigD+rh7IkAhpNFVCdBAKOKK67DIoAIYFwdG+1pEcBoo6vk4AhgJRj1LYIA6su8sYoRQASwsWbTvRECqDt/BFB3/s7VI4DO6JiYRwABRADzeoSvV0IAAawEY7SLIIDRRuf34AigX/5J744AIoBJN3g4xSGA4WTh4yQIoA/qCeyJACYQYqglIIAIYKi9mdi5EMDEArUsBwG0BMbwDgIIIJ1QGwEEEAGsrblYuCsBBFB3PyCAuvN3rh4BdEbHxDwCCCACmNcjfL0SAghgJRijXQQBjDY6vwdHAP3yT3p3BBABTLrBwykOAQwnCx8nQQB9UE9gTwQwgRBDLQEBRABD7c3EzoUAJhaoZTkIoCUwhncQQADphNoIIIAIYG3NxcJdCSCAuvsBAUww/7/++kumT58ujzzyiPzwww+y5557yoQJE+SWW26R/v37ZxW3t7fLjBkzZMGCBfLrr7/KqFGj5N5775WDDz64EBEEsBAmBrkQQAARQJe+YY41AQTQGllSExDApOLsKOb222+XOXPmyOLFizOhe++992TixIkyc+ZMmTJlSjbmzjvvzMYtWrRI9ttvv+xrK1askC+++EJ23HHHXCoIYC4iBrgSQAARQNfeYZ4VAQTQCldygxHA5CIVOfXUU2WPPfaQhx56qLO6M844Q7bffntZsmRJdvs3ePBgueqqq2TatGnZmA0bNmRzjBheeumluVQQwFxEDHAlgAAigK69wzwrAgigFa7kBiOAyUUqcscdd8i8efPklVdeyW73Pv74Yzn55JNl7ty5cs4558i3334rw4cPlw8++EAOO+ywTgLjxo2TQYMGZTeHeQ8EMI8QX3cmgAAigM7Nw0QbAgigDa30xiKA6WWa3fDddNNN2W1eW1ubbN68OXu698Ybb8yqXblypRxzzDHy/fffZzeBrcekSZPku+++k6VLl/aiYm4Izf+1HkYAhw4dKhOWTZAB/xqQIEVK8kYAAUQAvTWfro0RQF1596wWAUww/8cff1ymTp0qd999d/YawI8++ih7uveee+6RCy+8sFMA16xZk71BpPW45JJLZNWqVfLyyy/3omLeVGLeNNLzgQAm2EC+S0IAEUDfPahkfwRQSdD/UCYCmGD+5mbuhhtukMsvv7yzOvMmj4cfflg+//xzp6eAuQFMsFFCLQkBRABD7c3EzoUAJhaoZTkIoCWwGIbvuuuu2bt6J0+e3Hnc2bNny8KFC+XLL7/sfBPI1VdfLddff302ZuPGjbL77rvzJpAYAk79jAggAph6jwdSHwIYSBCejoEAegJf57bmM/9effVVmT9/fvYU8Icffijm9X0XXXRRJnjmYf5/SwpHjBghs2bNkmXLlvExMHUGw9rFCCCACGCxTmFUSQIIYEmAkU9HACMPsK/jr1+/Xm699VZ5+umn5ccff8ze6GHe/XvbbbfJgAEdb9hofRC0kcSuHwQ9cuTIQkR4F3AhTAxyIYAAIoAufcMcawIIoDWypCYggEnF2VwxCGBzrNXthAAigCE2/Zb3y1V/urXVL1lkRQSwCKV0xyCA6WZba2UIYK14dS+OACKAIX4HIIAhpsKZShBAAEvA0zwVAdScfs21I4AIYM0t5rQ8AuiEjUnhEkAAw80m6JMhgEHHE/fhEEAEMMQORgBDTIUzlSCAAJaAp3kqAqg5/ZprRwARwBaBOqWr5ja2Wp7XAFrhYnA1BBDAajiqWwUBVBd5cwUjgAggAtjI9xtvAmkEc7CbIIDBRhP2wRDAsPOJ+nQIIAKIADbyLYwANoI52E0QwGCjCftgCGDY+UR9OgQQAUQAG/kWRgAbwRzsJghgsNGEfbCWAIZ9Sk4HAQhAAAJ5BNatWycDBw7MG8bXEyOAACYWaFPlIIBNkWYfCEAAAvUSQADr5Rvq6ghgqMkEfi4EMPCAOB4EIACBggQQwIKgEhuGACYWaFPlIIBNkWYfCEAAAvUSQADr5Rvq6ghgqMkEfi4EMPCAOB4EIACBggQQwIKgEhuGACYWaFPlIIBNkWYfCEAAAvUSQADr5Rvq6ghgqMkEfi4EMPCAOB4EIACBggQQwIKgEhuGACYWaFPlIIBNkWafXALtuSPcB/Rzn8pMCMRCAAGMJalqz4kAVstTzWoIoJqowy8UAQw/I04YNAEEMOh4ajscAlgb2rQXRgDTzjeq6hDAqOLisOERQADDy6SJEyGATVBOcA8EMMFQYy0JAYw1Oc4dCAEEMJAgGj4GAtgw8FS2QwBTSTKBOhDABEKkBJ8EEECf9P3tjQD6Yx/1zghg1PGldXgEMK08qaZxAghg48iD2BABDCKG+A6BAMaXWbInRgCTjZbCmiGAADbDObRdEMDQEonkPAhgJEFpOCYCqCFlaqyRAAJYI9yAl0YAAw4n5KMhgCGno+xsCKCywCm3agIIYNVE41gPAYwjp+BOiQAGF4neAyGAerOn8koIIICVYIxuEQQwusjCODACGEYOnEJEEEDaAAKlCCCApfBFOxkBjDY6vwdHAP3yZ/cuBBBA2gECpQgggKXwRTsZAYw2Or8HdxHAG2+8sfPQs2fP7lZAe3v3n+LXXXddt6+PHDmy239/9tln3f77pJNO6vbfY8eO9QuI3ZsjgAA2x5qdkiSAACYZa25RCGAuIgb0RQABpC+CIYAABhMFB4mTAAIYZ25lT40AliWodD4CqDT4EMtGAENMhTNFRAABjCisCo+KAFYIU9NSCKCmtAOvFQEMPCCOFzoBBDD0hOo5HwJYD9fkV3URwG+++aaTy/Dhw7sx6vkawKFDh3b7+i677NLtv//97393+++lS5d2+29eA5h8C24pEAFUFDal1kEAAayDavhrIoDhZxTkCRHAIGPReSgEUGfuVF0ZAQSwMpRRLYQARhVXOIdFAMPJQv1JEED1LQCAcgQQwHL8Yp2NAMaanOdzI4CeA2B7ngKmByBQEQEEsCKQkS2DAEYWWCjHLSKAo0eP7nbclStXdv53z8/x++CDD7qNPe+887Zaar9+/bp9ndcAhtIZnAMCEIiNAAIYW2LVnBcBrIajulUQQHWRUzAEIJAoAQQw0WBzykIAdeZeumoEsDRCFoAABCAQBAEEMIgYGj8EAtg48jQ2RADTyJEqIAABCCCAOnsAAdSZe+mqiwhg6U1YAAIQgAAEaieAANaOOMgNEMAgYwn/UAhg+BlxQghAAAJFCCCARSilNwYBTC/TRipCABvBzCYQgAAEaieAANaOOMgNEMAgYwn/UDELYM8/O9eTds+PmGkyjSPE/VON35fuH43T5LnZCwIQiJcAAhhvdmVOjgCWoad4LgJYT/gIYD1cWRUCEPhnAgigzu5AAHXmXrpqBLA0wj4XQADr4cqqEIAAAkgPdCeAANIRTgQQQCdsuZMQwFxEDIAABComwA1gxUAjWQ4BjCSo0I4ZswCGxpLzQAACEPBJAAH0Sd/f3gigP/ZR74wARh0fh4cABCDQSQAB1NkMCKDO3EtXjQCWRsgCEIAABIIggAAGEUPjh0AAG0eexoYIYBo5UgUEIAABBFBnDyCAOnMvXTUCWBohC0AAAhAIggACGEQMjR8CAWwceRobIoBp5EgVEIAABBBAnT2AAOrMvXTVCGBphCwAAQhAIAgCCGAQMTR+CASwceRpbGj+wRg0aFAaxVAFBCAAAcUEfvvtN9lpp50UE9BZOgKoM/fSVa9evVqGDh1aeh0WgAAEIAABvwRWrVolQ4YM8XsIdm+cAALYOPI0Nvz7779lzZo10t7eLnvvvbeYf0AGDhyYRnE1V2GePjfyDLPioGFWnFVrJMxglkfA/Pu9fv16GTx4sPTv3z9vOF9PjAACmFigTZfTei0gryEpTh5mxVl1lRnzFBV9VpwdfVacFX1mz4oZ8RNAAOPP0GsF/JCxxw8zmNkTsJ9Bn8HMngAzNBFAADWlXUOt/JCxhwozmNkTsJ9Bn8HMngAzNBFAADWlXUOtGzZskNmzZ8uNN94o//M//1PDDuktCTP7TGEGM3sC9jPoM3tmzIiXAAIYb3acHAIQgAAEIAABCDgRQACdsDEJAhCAAAQgAAEIxEsAAYw3O04OAQhAAAIQgAAEnAgggE7YmAQBCEAAAhCAAATiJYAAxpsdJ4cABCAAAQhAAAJOBBBAJ2xMahG477775O6775a1a9fKwQcfLHPnzpVjjz1WPSDzzuinnnpKPv/8c9luu+1k9OjRcuedd8r+++/fyca84/C6666Txx57TP744w858cQTxfDkTzJ1IDIMb7rpJpkyZUrWV+YBs97fWt9//71MmzZNXnrppayP9ttvP3nooYfkiCOOyAabv/YwY8YMWbBggfz6668yatQouffee7PvV42Pv/76S6ZPny6PPPKI/PDDD7LnnnvKhAkT5JZbbun8axgw09gZ+mpGAPVlXlnFTzzxhJx//vmZtBxzzDEyf/58efDBB+Wzzz7L/jyc5scpp5wiZ599thx11FFifuDcfPPN8sknn2RsdthhhwzN5MmT5bnnnpNFixbJrrvuKtdee6388ssv8v7770tbW5tmfPLuu+/K+PHjsz8veMIJJ3QKIMy6t4URusMOOyxjZNjsvvvu8s0338i+++4rw4cPzwabXzxuv/32rM+MHM6cOVNWrFghX3zxhey4447q+sywmDNnjixevDiT4Pfee08mTpyYcTG/bMBMXUuoLRgBVBt9+cLNTcLhhx8u999/f+diBx54oJx22mnZ7Q2PLQR++umn7Ifz8uXL5bjjjsv+pNluu+0mS5YskbPOOisbaP62svkbwS+++KKMHTtWLb7ff/896yvzi4X5oXzooYdmAgiz3i1xww03yJtvvimvv/56n/1ibrLM33m96qqrsltC8zC3qHvssUcmhpdeeqm6Pjv11FOz+s0taetxxhlnyPbbb599P8JMXUuoLRgBVBt9ucI3btyY/YP55JNPyumnn965mPkN+qOPPspEh8cWAl9//bWMGDEiuwUcOXKkvPbaa9lTvubGb+edd+4ceMghh2QCbZ6y0/q48MILZZdddsluaY4//vhOAYRZ74446KCDsl8WVq9enX3P7bXXXnLZZZfJJZdckg3+9ttvs5vADz74ILspbD3GjRsngwYNym7BtD3uuOMOmTdvnrzyyivZjejHH38sJ598cvZLxjnnnAMzbQ2huF4EUHH4ZUo3t1Xmh425fTCvb2s9Zs2alf1QMU8v8eggYG4UzA9c83Rd66bm0UcfzZ52MrcxXR/mB9GwYcOyp9M1Ph5//PHs1s88Lbftttt2E0CY9e4Iw8g8rrnmGjnzzDPlnXfeyW77TP9ccMEFsnLlyuzlGeZ1guYmsPWYNGmSfPfdd7J06VJ1bWa+H81rS80NqHmpxebNm7OnyM1fMzIPmKlrCbUFI4Bqoy9XeEsAzT+WRx99dOdi5h9S8zSKefMDjw4Cl19+ubzwwgvyxhtvdL7B459kZsyYMdmNjbmh0PZYtWqVHHnkkdnNjLkJNY+uN4Aw690RAwYMyJiZ78PW48orr8xeQ/nWW291yoz5fjVvdmg9zA2h4f3yyy9razMxv2RMnTo1e/OaeQ2gecbCSPM999wj5va5JYAwU9ca6gpGANVFXk3BPAVcjOMVV1whzzzzTPaie3Oz13rwdGZvfoaTeTlB1zfAmNuZfv36Ze/ONLdVJ510Ek+bd0G3zz77iPmlwbz5qvUwr8k1t6jm1o+ngHv3mXmdrXntpPnFrPUwvB5++OHsF1eYFfu3jVHxE0AA48/QWwXmTSDmoybMi/VbD/OaJPN0p/Y3gZinmYz8Pf3007Js2bLs9X9dH603NJgfOubdruZhPkrHfASMve6OQQAAA5RJREFU1jeBrF+/PntasuvDPE1+wAEHZG9gMD+4zRtnYLaF0Lnnnpvd5HV9E8jVV18tb7/9dnaT1XpDg/nfrr/++myi+eXNvCFJ65tAzDvujfCZd023Hubfq4ULF8qXX34JM28/Udi4aQIIYNPEE9qv9TEw5ulK8zSw+ZyxBx54QD799FMxNxOaH+aF+OYpy2effbbbZ//ttNNO2ecCmof5AfT8889nH89h3vRgPhPw559/5mNgujRO16eAYdb7O8o81Wteg2veNGR+kTCvATRP75rvxfPOOy+bYESvJTjmFxHzOl3zS4nWj4Exn/n36quvZq+TNE8Bf/jhh2JeE3nRRRdlrGCm+V9uXbUjgLryrrxac/t31113ZbdX5t2t5p2b5mNOtD/M05Z9Pcwtg/kBZB5//vln9lokI4pdPwja3HTx6CDQUwBh1rszzC8R5g0MX331VfYyA/OGkNa7gM3o1ocaG+Hp+kHQ5vtV48PcNN96663Z7fyPP/6YvTnGvPv3tttuE/OaSphp7AqdNSOAOnOnaghAAAIQgAAEFBNAABWHT+kQgAAEIAABCOgkgADqzJ2qIQABCEAAAhBQTAABVBw+pUMAAhCAAAQgoJMAAqgzd6qGAAQgAAEIQEAxAQRQcfiUDgEIQAACEICATgIIoM7cqRoCEIAABCAAAcUEEEDF4VM6BCAAAQhAAAI6CSCAOnOnaghAAAIQgAAEFBNAABWHT+kQgAAEIAABCOgkgADqzJ2qIQABCEAAAhBQTAABVBw+pUMAAhCAAAQgoJMAAqgzd6qGAAQgAAEIQEAxAQRQcfiUDgEIQAACEICATgIIoM7cqRoCEIAABCAAAcUEEEDF4VM6BCAAAQhAAAI6CSCAOnOnaghAAAIQgAAEFBNAABWHT+kQgAAEIAABCOgkgADqzJ2qIQABCEAAAhBQTAABVBw+pUMAAhCAAAQgoJMAAqgzd6qGAAQgAAEIQEAxAQRQcfiUDgEIQAACEICATgIIoM7cqRoCEIAABCAAAcUEEEDF4VM6BCAAAQhAAAI6CSCAOnOnaghAAAIQgAAEFBNAABWHT+kQgAAEIAABCOgkgADqzJ2qIQABCEAAAhBQTAABVBw+pUMAAhCAAAQgoJMAAqgzd6qGAAQgAAEIQEAxAQRQcfiUDgEIQAACEICATgIIoM7cqRoCEIAABCAAAcUEEEDF4VM6BCAAAQhAAAI6Cfx/EJ9EfeUBBzoAAAAASUVORK5CYII=\" width=\"640\">"
      ],
      "text/plain": [
       "<IPython.core.display.HTML object>"
      ]
     },
     "metadata": {},
     "output_type": "display_data"
    },
    {
     "data": {
      "text/plain": [
       "<matplotlib.image.AxesImage at 0x2c735e420b8>"
      ]
     },
     "execution_count": 50,
     "metadata": {},
     "output_type": "execute_result"
    }
   ],
   "source": [
    "plt.imshow(obs1)"
   ]
  },
  {
   "cell_type": "markdown",
   "metadata": {},
   "source": [
    "### Mountain Car"
   ]
  },
  {
   "cell_type": "code",
   "execution_count": 2,
   "metadata": {},
   "outputs": [
    {
     "name": "stdout",
     "output_type": "stream",
     "text": [
      "\u001b[33mWARN: gym.spaces.Box autodetected dtype as <class 'numpy.float32'>. Please provide explicit dtype.\u001b[0m\n"
     ]
    }
   ],
   "source": [
    "env = gym.make('MountainCar-v0')           # Choose a game to create environment\n",
    "env.reset()                             # Reset game\n",
    "for _ in range(200):\n",
    "    env.render()                        # Render game\n",
    "    env.step(env.action_space.sample()) # Play a step chosen out of action_space\n",
    "    \n",
    "env.close()                           # close envirenment"
   ]
  },
  {
   "cell_type": "markdown",
   "metadata": {},
   "source": [
    "How many actions we have?"
   ]
  },
  {
   "cell_type": "code",
   "execution_count": 4,
   "metadata": {},
   "outputs": [
    {
     "data": {
      "text/plain": [
       "3"
      ]
     },
     "execution_count": 4,
     "metadata": {},
     "output_type": "execute_result"
    }
   ],
   "source": [
    "env.action_space.n"
   ]
  },
  {
   "cell_type": "markdown",
   "metadata": {},
   "source": [
    "After playing with these actions a bit I can say that:\n",
    "\n",
    "* 0 - move left\n",
    "* 1 - stay idle\n",
    "* 2 - move right"
   ]
  },
  {
   "cell_type": "markdown",
   "metadata": {},
   "source": [
    "What is the shape of the observation?"
   ]
  },
  {
   "cell_type": "code",
   "execution_count": 26,
   "metadata": {},
   "outputs": [
    {
     "name": "stdout",
     "output_type": "stream",
     "text": [
      "Box(2,)\n",
      "[0.6  0.07]\n",
      "[-1.2  -0.07]\n"
     ]
    }
   ],
   "source": [
    "print(env.observation_space)\n",
    "print(env.observation_space.high)\n",
    "print(env.observation_space.low)"
   ]
  },
  {
   "cell_type": "code",
   "execution_count": 29,
   "metadata": {
    "scrolled": true
   },
   "outputs": [
    {
     "name": "stdout",
     "output_type": "stream",
     "text": [
      "\u001b[33mWARN: gym.spaces.Box autodetected dtype as <class 'numpy.float32'>. Please provide explicit dtype.\u001b[0m\n"
     ]
    }
   ],
   "source": [
    "ep_obs = []\n",
    "env = gym.make('MountainCar-v0')           # Choose a game to create environment\n",
    "env.reset()                             # Reset game\n",
    "for i in range(200):\n",
    "    env.render()                        # Render game\n",
    "    obs, reward, done, info = env.step(1) # Play a step chosen out of action_space\n",
    "    ep_obs.append(obs)\n",
    "    \n",
    "env.close()                           # close envirenment"
   ]
  },
  {
   "cell_type": "markdown",
   "metadata": {},
   "source": [
    "So it seems like the obseration just represent the car location and velocity $(x,v_x)$, you can see that by plotting the observation components over the steps in the episode:"
   ]
  },
  {
   "cell_type": "code",
   "execution_count": 30,
   "metadata": {},
   "outputs": [
    {
     "data": {
      "image/png": "[encoded data removed]",
      "text/plain": [
       "<Figure size 432x288 with 2 Axes>"
      ]
     },
     "metadata": {},
     "output_type": "display_data"
    }
   ],
   "source": [
    "plt.figure()\n",
    "plt.subplot(1,2,1)\n",
    "plt.plot(np.vstack(ep_obs)[:,0])\n",
    "\n",
    "plt.subplot(1,2,2)\n",
    "plt.plot(np.vstack(ep_obs)[:,1])\n",
    "plt.tight_layout()"
   ]
  },
  {
   "cell_type": "markdown",
   "metadata": {},
   "source": [
    "The right graph is the derivative of the left"
   ]
  },
  {
   "cell_type": "markdown",
   "metadata": {},
   "source": [
    "### Lunar Lander"
   ]
  },
  {
   "cell_type": "code",
   "execution_count": 32,
   "metadata": {},
   "outputs": [],
   "source": [
    "env = gym.make('LunarLander-v2')           # Choose a game to create environment\n",
    "env.reset()                             # Reset game\n",
    "for _ in range(200):\n",
    "    env.render()                        # Render game\n",
    "    env.step(env.action_space.sample()) # Play a step chosen out of action_space\n",
    "    \n",
    "env.close()                           # close envirenment"
   ]
  },
  {
   "cell_type": "code",
   "execution_count": 36,
   "metadata": {},
   "outputs": [
    {
     "name": "stdout",
     "output_type": "stream",
     "text": [
      "Box(8,)\n",
      "[inf inf inf inf inf inf inf inf]\n",
      "[-inf -inf -inf -inf -inf -inf -inf -inf]\n"
     ]
    }
   ],
   "source": [
    "print(env.observation_space)\n",
    "print(env.observation_space.high)\n",
    "print(env.observation_space.low)"
   ]
  },
  {
   "cell_type": "code",
   "execution_count": 37,
   "metadata": {},
   "outputs": [
    {
     "name": "stdout",
     "output_type": "stream",
     "text": [
      "Discrete(4)\n"
     ]
    }
   ],
   "source": [
    "print(env.action_space)"
   ]
  },
  {
   "cell_type": "code",
   "execution_count": 45,
   "metadata": {},
   "outputs": [],
   "source": [
    "env = gym.make('LunarLander-v2')           # Choose a game to create environment\n",
    "env.reset()                             # Reset game\n",
    "for _ in range(200):\n",
    "    env.render()                        # Render game\n",
    "    env.step(1) # Play a step chosen out of action_space\n",
    "    \n",
    "env.close()                           # close envirenment"
   ]
  },
  {
   "cell_type": "markdown",
   "metadata": {},
   "source": [
    "Actions:\n",
    "\n",
    "* 0 - Do nothing\n",
    "* 1 - Left\n",
    "* 2 - Up\n",
    "* 3 - Right"
   ]
  },
  {
   "cell_type": "markdown",
   "metadata": {},
   "source": [
    "### Bipedal Walker"
   ]
  },
  {
   "cell_type": "code",
   "execution_count": 4,
   "metadata": {},
   "outputs": [
    {
     "name": "stdout",
     "output_type": "stream",
     "text": [
      "\u001b[33mWARN: gym.spaces.Box autodetected dtype as <class 'numpy.float32'>. Please provide explicit dtype.\u001b[0m\n",
      "\u001b[33mWARN: gym.spaces.Box autodetected dtype as <class 'numpy.float32'>. Please provide explicit dtype.\u001b[0m\n"
     ]
    }
   ],
   "source": [
    "env = gym.make('BipedalWalker-v2')           # Choose a game to create environment\n",
    "env.reset()                             # Reset game\n",
    "for _ in range(200):\n",
    "    env.render()                        # Render game\n",
    "    env.step(env.action_space.sample()) # Play a step chosen out of action_space\n",
    "    \n",
    "env.close()"
   ]
  },
  {
   "cell_type": "code",
   "execution_count": 7,
   "metadata": {},
   "outputs": [
    {
     "name": "stdout",
     "output_type": "stream",
     "text": [
      "Box(4,)\n",
      "[1. 1. 1. 1.]\n",
      "[-1. -1. -1. -1.]\n"
     ]
    }
   ],
   "source": [
    "print(env.action_space)\n",
    "print(env.action_space.high)\n",
    "print(env.action_space.low)"
   ]
  },
  {
   "cell_type": "code",
   "execution_count": 8,
   "metadata": {},
   "outputs": [
    {
     "name": "stdout",
     "output_type": "stream",
     "text": [
      "Box(24,)\n",
      "[inf inf inf inf inf inf inf inf inf inf inf inf inf inf inf inf inf inf\n",
      " inf inf inf inf inf inf]\n",
      "[-inf -inf -inf -inf -inf -inf -inf -inf -inf -inf -inf -inf -inf -inf\n",
      " -inf -inf -inf -inf -inf -inf -inf -inf -inf -inf]\n"
     ]
    }
   ],
   "source": [
    "print(env.observation_space)\n",
    "print(env.observation_space.high)\n",
    "print(env.observation_space.low)"
   ]
  },
  {
   "cell_type": "code",
   "execution_count": 15,
   "metadata": {},
   "outputs": [
    {
     "data": {
      "text/plain": [
       "array([-0.6379167 ,  0.5274937 , -0.8773089 , -0.07447754], dtype=float32)"
      ]
     },
     "execution_count": 15,
     "metadata": {},
     "output_type": "execute_result"
    }
   ],
   "source": [
    "env.action_space.sample()"
   ]
  },
  {
   "cell_type": "markdown",
   "metadata": {},
   "source": [
    "### Acrobot"
   ]
  },
  {
   "cell_type": "code",
   "execution_count": 16,
   "metadata": {},
   "outputs": [
    {
     "name": "stdout",
     "output_type": "stream",
     "text": [
      "\u001b[33mWARN: gym.spaces.Box autodetected dtype as <class 'numpy.float32'>. Please provide explicit dtype.\u001b[0m\n"
     ]
    }
   ],
   "source": [
    "env = gym.make('Acrobot-v1')           # Choose a game to create environment\n",
    "env.reset()                             # Reset game\n",
    "for _ in range(200):\n",
    "    env.render()                        # Render game\n",
    "    env.step(env.action_space.sample()) # Play a step chosen out of action_space\n",
    "    \n",
    "env.close()"
   ]
  },
  {
   "cell_type": "code",
   "execution_count": 17,
   "metadata": {},
   "outputs": [
    {
     "name": "stdout",
     "output_type": "stream",
     "text": [
      "Discrete(3)\n"
     ]
    }
   ],
   "source": [
    "print(env.action_space)"
   ]
  },
  {
   "cell_type": "code",
   "execution_count": 18,
   "metadata": {},
   "outputs": [
    {
     "name": "stdout",
     "output_type": "stream",
     "text": [
      "Box(6,)\n",
      "[ 1.        1.        1.        1.       12.566371 28.274334]\n",
      "[ -1.        -1.        -1.        -1.       -12.566371 -28.274334]\n"
     ]
    }
   ],
   "source": [
    "print(env.observation_space)\n",
    "print(env.observation_space.high)\n",
    "print(env.observation_space.low)"
   ]
  },
  {
   "cell_type": "code",
   "execution_count": 21,
   "metadata": {},
   "outputs": [
    {
     "name": "stdout",
     "output_type": "stream",
     "text": [
      "\u001b[33mWARN: gym.spaces.Box autodetected dtype as <class 'numpy.float32'>. Please provide explicit dtype.\u001b[0m\n"
     ]
    }
   ],
   "source": [
    "env = gym.make('Acrobot-v1')           # Choose a game to create environment\n",
    "env.reset()                             # Reset game\n",
    "for _ in range(200):\n",
    "    env.render()                        # Render game\n",
    "    env.step(2) # Play a step chosen out of action_space\n",
    "    \n",
    "env.close()"
   ]
  },
  {
   "cell_type": "code",
   "execution_count": null,
   "metadata": {},
   "outputs": [],
   "source": []
  }
 ],
 "metadata": {
  "kernelspec": {
   "display_name": "Python 3",
   "language": "python",
   "name": "python3"
  },
  "language_info": {
   "codemirror_mode": {
    "name": "ipython",
    "version": 3
   },
   "file_extension": ".py",
   "mimetype": "text/x-python",
   "name": "python",
   "nbconvert_exporter": "python",
   "pygments_lexer": "ipython3",
   "version": "3.6.5"
  }
 },
 "nbformat": 4,
 "nbformat_minor": 2
}
