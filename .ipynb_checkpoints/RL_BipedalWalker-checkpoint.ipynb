{
 "cells": [
  {
   "cell_type": "markdown",
   "metadata": {},
   "source": [
    "# Reinforcement Learning for Bipedal Walker game"
   ]
  },
  {
   "cell_type": "markdown",
   "metadata": {},
   "source": [
    "Import libraries:"
   ]
  },
  {
   "cell_type": "code",
   "execution_count": 1,
   "metadata": {},
   "outputs": [
    {
     "name": "stderr",
     "output_type": "stream",
     "text": [
      "c:\\python36\\lib\\site-packages\\h5py\\__init__.py:36: FutureWarning: Conversion of the second argument of issubdtype from `float` to `np.floating` is deprecated. In future, it will be treated as `np.float64 == np.dtype(float).type`.\n",
      "  from ._conv import register_converters as _register_converters\n"
     ]
    }
   ],
   "source": [
    "import numpy as np\n",
    "import tensorflow as tf\n",
    "import gym\n",
    "import matplotlib.pyplot as plt\n",
    "% matplotlib notebook"
   ]
  },
  {
   "cell_type": "markdown",
   "metadata": {},
   "source": [
    "### Defining hyperparameters:"
   ]
  },
  {
   "cell_type": "markdown",
   "metadata": {},
   "source": [
    "Here we define all the hyperparameters for the model, this will allow as to easily iterate and find the values that give best results."
   ]
  },
  {
   "cell_type": "code",
   "execution_count": 2,
   "metadata": {},
   "outputs": [
    {
     "name": "stdout",
     "output_type": "stream",
     "text": [
      "\u001b[33mWARN: gym.spaces.Box autodetected dtype as <class 'numpy.float32'>. Please provide explicit dtype.\u001b[0m\n",
      "\u001b[33mWARN: gym.spaces.Box autodetected dtype as <class 'numpy.float32'>. Please provide explicit dtype.\u001b[0m\n"
     ]
    }
   ],
   "source": [
    "num_episodes = 200      # Number of episodes for training\n",
    "learning_rate = 0.001\n",
    "gamma = 0.99           # Discount factor for reward\n",
    "num_Hidden = 50       # number of nodes in the hidden layer\n",
    "\n",
    "env = gym.make('BipedalWalker-v2')    # Choose a game and create an environment\n",
    "env._max_episode_steps = 50000\n",
    "# env = env.unwrapped              # The wrapper limits the number of steps in an episode, let's get rid of it\n",
    "obs_dim = env.reset().shape      # obervation dimension\n",
    "num_actions = len(env.action_space.high) # number of actions (this works only for continuous action space, which is the case here)"
   ]
  },
  {
   "cell_type": "markdown",
   "metadata": {},
   "source": [
    "### Define functions"
   ]
  },
  {
   "cell_type": "markdown",
   "metadata": {},
   "source": [
    "**Discount reward function**: We we'll train our agent based on the reward gained for his actions. For each action we'll define the episode reward as the total reward gained in all the next steps of the current episode. Since a reward gained further away in the future has less correlation to the present action, we will give it less weight by discounting future rewards.\n",
    "\n",
    "The formula for the discounted rewards is given by:\n",
    "\n",
    "$$ R_t = \\sum_k \\gamma^k r_{t+k} $$\n",
    "\n",
    "Where $r_t$ is the reward gained in the step $t$ and $\\gamma \\in [0,1]$ is a hyperparameter called the discount factor.\n",
    "Here we define a function that takes a vector of rewards in consequent steps and returns the discounted reward vector:"
   ]
  },
  {
   "cell_type": "code",
   "execution_count": 3,
   "metadata": {},
   "outputs": [],
   "source": [
    "def discount_rewards(r):\n",
    "    '''Takes a 1D rewards (one episode) and discounts it and also standardize\n",
    "    the rewards to be unit normal (helps control the gradient estimator variance)'''\n",
    "    \n",
    "    # Discounting\n",
    "    dis_r = np.zeros_like(r)\n",
    "    running_sum = 0\n",
    "    for t in reversed(range(len(r))):\n",
    "        running_sum = gamma*running_sum + r[t]\n",
    "        dis_r[t] = running_sum\n",
    "    \n",
    "    # Normailzing\n",
    "    dis_r = (dis_r - np.mean(dis_r))/np.std(dis_r)\n",
    "        \n",
    "    return dis_r"
   ]
  },
  {
   "cell_type": "markdown",
   "metadata": {},
   "source": [
    "### Build model"
   ]
  },
  {
   "cell_type": "markdown",
   "metadata": {},
   "source": [
    "This game takes a continuous range of values for each action. In the Gym library language, the action space is a Box instead of Discrete"
   ]
  },
  {
   "cell_type": "code",
   "execution_count": 4,
   "metadata": {
    "scrolled": true
   },
   "outputs": [
    {
     "name": "stdout",
     "output_type": "stream",
     "text": [
      "Box(4,)\n",
      "[1. 1. 1. 1.]\n",
      "[-1. -1. -1. -1.]\n"
     ]
    }
   ],
   "source": [
    "print(env.action_space)\n",
    "print(env.action_space.high)\n",
    "print(env.action_space.low)"
   ]
  },
  {
   "cell_type": "markdown",
   "metadata": {},
   "source": [
    "In this case, each action is a vector of length 4 where every element value is in the [-1,1] domain. We will use Gaussian policy to train this model. Our NN would output the 4 mean values and 4 std values for each element of the action vector, and then use them to generate actions in each step."
   ]
  },
  {
   "cell_type": "markdown",
   "metadata": {},
   "source": [
    "To keep order in our model, we use name scopes which basically group the layers of our model in a simple to follow way. Eventually, when using [TensorBoard](https://www.tensorflow.org/guide/summaries_and_tensorboard) for visualizing the model, the graph is more readable and makes it easy to understand the model and find errors."
   ]
  },
  {
   "cell_type": "code",
   "execution_count": 5,
   "metadata": {},
   "outputs": [],
   "source": [
    "'''Create placeholders for inputs'''\n",
    "# A place holder for input observations\n",
    "input_ = tf.placeholder(tf.float32, shape = (None, obs_dim[0]), name = \"input\")\n",
    "# A place holder for actions in a full episode\n",
    "actions = tf.placeholder(tf.float32, shape = (None, num_actions), name = \"actions\")\n",
    "# A place holder for discounted rewards in a full episode\n",
    "dis_rewards = tf.placeholder(tf.float32, shape = (None, ), name = \"dis_rewards\")\n",
    "\n",
    "'''Fully connected layers'''\n",
    "# A network channel for predicting the mean values of the action PDF\n",
    "with tf.name_scope(\"Mean_channel\"):\n",
    "    Mfc1 = tf.layers.dense(inputs = input_, units = num_Hidden ,activation = tf.nn.relu, name = \"Mfc1\" )\n",
    "    Mfc2 = tf.layers.dense(inputs = Mfc1, units = num_actions ,activation = None, name = \"Mfc2\")\n",
    "\n",
    "    # A network channel for predicting the std values of the action PDF\n",
    "with tf.name_scope(\"Std_channel\"):\n",
    "    Sfc1 = tf.layers.dense(inputs = input_, units = num_Hidden ,activation = tf.nn.relu, name = \"Sfc1\" )\n",
    "    # We use a softplus activation for the last layer to ensure positive std value\n",
    "    Sfc2 = tf.layers.dense(inputs = input_, units = num_actions ,activation = tf.nn.softplus, name = \"Sfc2\" )\n",
    "    \n",
    "    \n",
    "with tf.name_scope(\"Action_PDF\"):\n",
    "    # Use the predicted mean and std for creating a probabilty distribution for actions\n",
    "    action_prob_dist = tf.contrib.distributions.Normal(loc = Mfc2, scale = Sfc2 + 1e-6, name = \"Normal_PDF\")\n",
    "    sample_action = action_prob_dist.sample([1], name = \"sample_action\")\n",
    "\n",
    "with tf.name_scope(\"Loss\"):\n",
    "    '''Define loss'''\n",
    "    # compute negative log probability using our PDF and sum over the actions in every time step\n",
    "    negative_logprob = - tf.reduce_sum(action_prob_dist.log_prob(actions), axis = 1)\n",
    "    # Modulate the loss based on our discounted reward - this is where reinforcment learning happens,\n",
    "    # we favor actions that produced high reward\n",
    "    mul = negative_logprob * dis_rewards\n",
    "    loss = tf.reduce_mean(negative_logprob * dis_rewards)\n",
    "\n",
    "with tf.name_scope(\"Training\"):\n",
    "    '''Define optimizer'''\n",
    "    training_opt = tf.train.AdamOptimizer(learning_rate).minimize(loss)\n",
    "\n",
    "'''Define saver for saving and restoring model'''\n",
    "saver = tf.train.Saver()"
   ]
  },
  {
   "cell_type": "markdown",
   "metadata": {},
   "source": [
    "Define a writer for saving summaries to TensorBoard:"
   ]
  },
  {
   "cell_type": "code",
   "execution_count": 6,
   "metadata": {},
   "outputs": [],
   "source": [
    "# writer = tf.summary.FileWriter(\"./tensorboard/1/\")"
   ]
  },
  {
   "cell_type": "markdown",
   "metadata": {},
   "source": [
    "### Train model"
   ]
  },
  {
   "cell_type": "markdown",
   "metadata": {},
   "source": [
    "Now that we have a model ready, we can start training it.\n",
    "\n",
    "Our goal is to achieve a model that uses the current observation to create the best probability distribution function (PDF) for the next action to be taken. This is **not a deterministic model** - the agent has a fine probability to take any action after receiving an observation, with larger probability to take favorable actions.\n",
    "\n",
    "To achieve that, in each step, we use our model to generate a PDF of actions, draw an action out of it and take the next step.\n",
    "When we reach the end of the episode, we compute the episode loss by feeding the observation, action and discounted rewards vectors (which we kept track of). Our optimizer minimizes the loss which makes favorable (unfavorable) actions more probable (less probable) due to the multiplicative factor of the discounted reward. By repeating these steps to each episode, our agent gradually improves its PDF and becomes a better player!"
   ]
  },
  {
   "cell_type": "code",
   "execution_count": null,
   "metadata": {
    "scrolled": true
   },
   "outputs": [
    {
     "name": "stdout",
     "output_type": "stream",
     "text": [
      "-------------------------------------------------\n",
      "Episode 0\n",
      "Episode ended after 50000 steps\n",
      "Accumulated reward in this episode -2962.9108671746994\n",
      "Mean reward so far -2962.91\n",
      "Maximal reward so far -2962.9108671746994\n",
      "-------------------------------------------------\n",
      "Episode 1\n",
      "Episode ended after 50000 steps\n",
      "Accumulated reward in this episode -2954.6218837342385\n",
      "Mean reward so far -2958.77\n",
      "Maximal reward so far -2954.6218837342385\n",
      "-------------------------------------------------\n",
      "Episode 2\n",
      "Episode ended after 67 steps\n",
      "Accumulated reward in this episode -106.39148850632397\n",
      "Mean reward so far -2007.97\n",
      "Maximal reward so far -106.39148850632397\n",
      "-------------------------------------------------\n",
      "Episode 3\n",
      "Episode ended after 50000 steps\n",
      "Accumulated reward in this episode -2828.5206061317895\n",
      "Mean reward so far -2213.11\n",
      "Maximal reward so far -106.39148850632397\n",
      "-------------------------------------------------\n",
      "Episode 4\n",
      "Episode ended after 50000 steps\n",
      "Accumulated reward in this episode -2798.123709958685\n",
      "Mean reward so far -2330.11\n",
      "Maximal reward so far -106.39148850632397\n",
      "-------------------------------------------------\n",
      "Episode 5\n",
      "Episode ended after 63 steps\n",
      "Accumulated reward in this episode -105.94566453777627\n",
      "Mean reward so far -1959.42\n",
      "Maximal reward so far -105.94566453777627\n",
      "-------------------------------------------------\n",
      "Episode 6\n",
      "Episode ended after 172 steps\n",
      "Accumulated reward in this episode -127.57405801705457\n",
      "Mean reward so far -1697.73\n",
      "Maximal reward so far -105.94566453777627\n",
      "-------------------------------------------------\n",
      "Episode 7\n",
      "Episode ended after 86 steps\n",
      "Accumulated reward in this episode -117.10054303789263\n",
      "Mean reward so far -1500.15\n",
      "Maximal reward so far -105.94566453777627\n",
      "-------------------------------------------------\n",
      "Episode 8\n",
      "Episode ended after 46763 steps\n",
      "Accumulated reward in this episode -2558.6975516309044\n",
      "Mean reward so far -1617.77\n",
      "Maximal reward so far -105.94566453777627\n",
      "-------------------------------------------------\n",
      "Episode 9\n",
      "Episode ended after 46554 steps\n",
      "Accumulated reward in this episode -2559.7893276070185\n",
      "Mean reward so far -1711.97\n",
      "Maximal reward so far -105.94566453777627\n",
      "-------------------------------------------------\n",
      "Episode 10\n",
      "Episode ended after 39904 steps\n",
      "Accumulated reward in this episode -2139.0581862149224\n",
      "Mean reward so far -1750.79\n",
      "Maximal reward so far -105.94566453777627\n",
      "-------------------------------------------------\n",
      "Episode 11\n",
      "Episode ended after 36270 steps\n",
      "Accumulated reward in this episode -1917.8108750859574\n",
      "Mean reward so far -1764.71\n",
      "Maximal reward so far -105.94566453777627\n",
      "-------------------------------------------------\n",
      "Episode 12\n",
      "Episode ended after 33771 steps\n",
      "Accumulated reward in this episode -1766.772470512744\n",
      "Mean reward so far -1764.87\n",
      "Maximal reward so far -105.94566453777627\n",
      "-------------------------------------------------\n",
      "Episode 13\n",
      "Episode ended after 32374 steps\n",
      "Accumulated reward in this episode -1678.4403004328076\n",
      "Mean reward so far -1758.70\n",
      "Maximal reward so far -105.94566453777627\n",
      "-------------------------------------------------\n",
      "Episode 14\n",
      "Episode ended after 28172 steps\n",
      "Accumulated reward in this episode -1418.124021909628\n",
      "Mean reward so far -1735.99\n",
      "Maximal reward so far -105.94566453777627\n",
      "-------------------------------------------------\n",
      "Episode 15\n",
      "Episode ended after 28795 steps\n",
      "Accumulated reward in this episode -1459.4453234663297\n",
      "Mean reward so far -1718.71\n",
      "Maximal reward so far -105.94566453777627\n",
      "-------------------------------------------------\n",
      "Episode 16\n",
      "Episode ended after 82 steps\n",
      "Accumulated reward in this episode -114.11250507802579\n",
      "Mean reward so far -1624.32\n",
      "Maximal reward so far -105.94566453777627\n",
      "-------------------------------------------------\n",
      "Episode 17\n",
      "Episode ended after 28438 steps\n",
      "Accumulated reward in this episode -1445.9200707219813\n",
      "Mean reward so far -1614.41\n",
      "Maximal reward so far -105.94566453777627\n",
      "-------------------------------------------------\n",
      "Episode 18\n",
      "Episode ended after 28207 steps\n",
      "Accumulated reward in this episode -1437.4398172754265\n",
      "Mean reward so far -1605.09\n",
      "Maximal reward so far -105.94566453777627\n",
      "-------------------------------------------------\n",
      "Episode 19\n",
      "Episode ended after 27123 steps\n",
      "Accumulated reward in this episode -1375.0724700418573\n",
      "Mean reward so far -1593.59\n",
      "Maximal reward so far -105.94566453777627\n",
      "-------------------------------------------------\n",
      "Episode 20\n",
      "Episode ended after 26142 steps\n",
      "Accumulated reward in this episode -1309.1150727303195\n",
      "Mean reward so far -1580.05\n",
      "Maximal reward so far -105.94566453777627\n",
      "-------------------------------------------------\n",
      "Episode 21\n",
      "Episode ended after 79 steps\n",
      "Accumulated reward in this episode -116.96799922013035\n",
      "Mean reward so far -1513.54\n",
      "Maximal reward so far -105.94566453777627\n",
      "-------------------------------------------------\n",
      "Episode 22\n",
      "Episode ended after 22351 steps\n",
      "Accumulated reward in this episode -1068.7727099576525\n",
      "Mean reward so far -1494.21\n",
      "Maximal reward so far -105.94566453777627\n",
      "-------------------------------------------------\n",
      "Episode 23\n",
      "Episode ended after 22885 steps\n",
      "Accumulated reward in this episode -1100.0647360228054\n",
      "Mean reward so far -1477.78\n",
      "Maximal reward so far -105.94566453777627\n",
      "-------------------------------------------------\n",
      "Episode 24\n",
      "Episode ended after 21432 steps\n",
      "Accumulated reward in this episode -1017.5051891587365\n",
      "Mean reward so far -1459.37\n",
      "Maximal reward so far -105.94566453777627\n",
      "-------------------------------------------------\n",
      "Episode 25\n",
      "Episode ended after 20633 steps\n",
      "Accumulated reward in this episode -964.7710366445654\n",
      "Mean reward so far -1440.35\n",
      "Maximal reward so far -105.94566453777627\n",
      "-------------------------------------------------\n",
      "Episode 26\n",
      "Episode ended after 65 steps\n",
      "Accumulated reward in this episode -111.08961652286165\n",
      "Mean reward so far -1391.12\n",
      "Maximal reward so far -105.94566453777627\n",
      "-------------------------------------------------\n",
      "Episode 27\n",
      "Episode ended after 19286 steps\n",
      "Accumulated reward in this episode -888.4505122136827\n",
      "Mean reward so far -1373.16\n",
      "Maximal reward so far -105.94566453777627\n",
      "-------------------------------------------------\n",
      "Episode 28\n",
      "Episode ended after 62 steps\n",
      "Accumulated reward in this episode -109.69583760119664\n",
      "Mean reward so far -1329.60\n",
      "Maximal reward so far -105.94566453777627\n",
      "-------------------------------------------------\n",
      "Episode 29\n",
      "Episode ended after 18612 steps\n",
      "Accumulated reward in this episode -849.1651259967026\n",
      "Mean reward so far -1313.58\n",
      "Maximal reward so far -105.94566453777627\n",
      "-------------------------------------------------\n",
      "Episode 30\n",
      "Episode ended after 100 steps\n",
      "Accumulated reward in this episode -116.73421463536533\n",
      "Mean reward so far -1274.97\n",
      "Maximal reward so far -105.94566453777627\n",
      "-------------------------------------------------\n",
      "Episode 31\n",
      "Episode ended after 57 steps\n",
      "Accumulated reward in this episode -104.71981831804911\n",
      "Mean reward so far -1238.40\n",
      "Maximal reward so far -104.71981831804911\n",
      "-------------------------------------------------\n",
      "Episode 32\n",
      "Episode ended after 15766 steps\n",
      "Accumulated reward in this episode -675.4777971574\n",
      "Mean reward so far -1221.35\n",
      "Maximal reward so far -104.71981831804911\n",
      "-------------------------------------------------\n",
      "Episode 33\n",
      "Episode ended after 69 steps\n",
      "Accumulated reward in this episode -113.63942101012915\n",
      "Mean reward so far -1188.77\n",
      "Maximal reward so far -104.71981831804911\n",
      "-------------------------------------------------\n",
      "Episode 34\n",
      "Episode ended after 94 steps\n",
      "Accumulated reward in this episode -112.83673546435374\n",
      "Mean reward so far -1158.03\n",
      "Maximal reward so far -104.71981831804911\n",
      "-------------------------------------------------\n",
      "Episode 35\n",
      "Episode ended after 15047 steps\n",
      "Accumulated reward in this episode -624.4789566695965\n",
      "Mean reward so far -1143.20\n",
      "Maximal reward so far -104.71981831804911\n",
      "-------------------------------------------------\n",
      "Episode 36\n",
      "Episode ended after 16218 steps\n",
      "Accumulated reward in this episode -705.2154449890021\n",
      "Mean reward so far -1131.37\n",
      "Maximal reward so far -104.71981831804911\n",
      "-------------------------------------------------\n",
      "Episode 37\n",
      "Episode ended after 81 steps\n",
      "Accumulated reward in this episode -117.73368253761157\n",
      "Mean reward so far -1104.69\n",
      "Maximal reward so far -104.71981831804911\n",
      "-------------------------------------------------\n",
      "Episode 38\n",
      "Episode ended after 64 steps\n",
      "Accumulated reward in this episode -113.16882538761759\n",
      "Mean reward so far -1079.27\n",
      "Maximal reward so far -104.71981831804911\n"
     ]
    },
    {
     "name": "stdout",
     "output_type": "stream",
     "text": [
      "-------------------------------------------------\n",
      "Episode 39\n",
      "Episode ended after 165 steps\n",
      "Accumulated reward in this episode -122.74227502662563\n",
      "Mean reward so far -1055.36\n",
      "Maximal reward so far -104.71981831804911\n",
      "-------------------------------------------------\n",
      "Episode 40\n",
      "Episode ended after 85 steps\n",
      "Accumulated reward in this episode -111.92400034121673\n",
      "Mean reward so far -1032.34\n",
      "Maximal reward so far -104.71981831804911\n",
      "-------------------------------------------------\n",
      "Episode 41\n",
      "Episode ended after 248 steps\n",
      "Accumulated reward in this episode -134.98154072078813\n",
      "Mean reward so far -1010.98\n",
      "Maximal reward so far -104.71981831804911\n",
      "-------------------------------------------------\n",
      "Episode 42\n",
      "Episode ended after 79 steps\n",
      "Accumulated reward in this episode -118.40333996261904\n",
      "Mean reward so far -990.22\n",
      "Maximal reward so far -104.71981831804911\n",
      "-------------------------------------------------\n",
      "Episode 43\n",
      "Episode ended after 50000 steps\n",
      "Accumulated reward in this episode -3044.908025784916\n",
      "Mean reward so far -1036.92\n",
      "Maximal reward so far -104.71981831804911\n",
      "-------------------------------------------------\n",
      "Episode 44\n",
      "Episode ended after 82 steps\n",
      "Accumulated reward in this episode -114.2745953074824\n",
      "Mean reward so far -1016.42\n",
      "Maximal reward so far -104.71981831804911\n",
      "-------------------------------------------------\n",
      "Episode 45\n",
      "Episode ended after 66 steps\n",
      "Accumulated reward in this episode -115.43028817959875\n",
      "Mean reward so far -996.83\n",
      "Maximal reward so far -104.71981831804911\n",
      "-------------------------------------------------\n",
      "Episode 46\n",
      "Episode ended after 50000 steps\n",
      "Accumulated reward in this episode -3071.702788627382\n",
      "Mean reward so far -1040.98\n",
      "Maximal reward so far -104.71981831804911\n"
     ]
    }
   ],
   "source": [
    "ep_action, ep_obs, ep_reward = [], [], []  # Allocate space for episode actions, observations and rewards\n",
    "tot_ep_reward = [] # Total episode reward\n",
    "mean_reward = []\n",
    "\n",
    "''' Run TF session '''\n",
    "with tf.Session() as sess:\n",
    "    sess.run(tf.global_variables_initializer())\n",
    "\n",
    "    ''' Run episodes '''\n",
    "    for ep in range(num_episodes): \n",
    "        obs = env.reset()  # Reset and save first observation\n",
    "        ep_obs.append(obs) # append observation\n",
    "\n",
    "        ''' Run steps '''\n",
    "        while True:\n",
    "            # Propagate forward to compute action probability distribution and sample an action out of it\n",
    "            action = np.squeeze(sess.run(sample_action, feed_dict = {input_ : obs.reshape((1,obs_dim[0]))}))\n",
    "            # clip action values to fit into the allowed box\n",
    "            action = np.clip(action, env.action_space.low[0], env.action_space.high[0])\n",
    "            \n",
    "            obs, reward, done, info = env.step(action)  # Take action and save observation, reward and done boolean\n",
    "            \n",
    "            ep_action.append(action)     # append action\n",
    "            ep_obs.append(obs)           # append observation\n",
    "            ep_reward.append(reward)     # append reward\n",
    "\n",
    "            if done: \n",
    "                # Stack vertically episode parameters to one np.array\n",
    "                ep_action = np.vstack(ep_action)\n",
    "                ep_obs = np.vstack(ep_obs)\n",
    "                ep_reward = np.hstack(ep_reward)\n",
    "\n",
    "                # Discount rewards\n",
    "                dis_rewards_arr = discount_rewards(ep_reward)\n",
    "                n = sess.run(negative_logprob, feed_dict = {input_ : ep_obs[:-1], actions : ep_action})\n",
    "                m = sess.run(mul, feed_dict = {input_ : ep_obs[:-1], actions : ep_action, dis_rewards : dis_rewards_arr})\n",
    "                mu = sess.run(Mfc2, feed_dict = {input_ : ep_obs[:-1]})\n",
    "                sig = sess.run(Sfc2, feed_dict = {input_ : ep_obs[:-1]})\n",
    "                # Compute loss and optimize\n",
    "                sess.run([loss, training_opt],\n",
    "                         feed_dict = {input_ : ep_obs[:-1], actions : ep_action, dis_rewards : dis_rewards_arr})\n",
    "                \n",
    "                tot_ep_reward.append(np.sum(ep_reward))  # Compute total reward for episode\n",
    "                mean_reward.append(np.mean(tot_ep_reward))\n",
    "                \n",
    "                 # print info\n",
    "                print(\"-------------------------------------------------\")\n",
    "                print(\"Episode {}\".format(ep))\n",
    "                print(\"Episode ended after {} steps\".format(ep_action.shape[0]))\n",
    "                print(\"Accumulated reward in this episode {}\".format(tot_ep_reward[ep]))\n",
    "                print(\"Mean reward so far {:0.2f}\".format(np.mean(tot_ep_reward)))\n",
    "                print(\"Maximal reward so far {}\".format(np.max(tot_ep_reward)))\n",
    "                \n",
    "                ep_action, ep_obs, ep_reward = [], [], []  # Clear episode values for next episode\n",
    "                      \n",
    "                break\n",
    "                \n",
    "    saver.save(sess, \"models/BipedalWalker/model.ckpt\") # save model for later\n",
    "#     writer.add_graph(sess.graph) # Save graph for displaying with TensorBoard\n",
    "env.close()"
   ]
  },
  {
   "cell_type": "markdown",
   "metadata": {},
   "source": [
    "### Assess model performance"
   ]
  },
  {
   "cell_type": "markdown",
   "metadata": {},
   "source": [
    "In order to get a sense of how good our model is, and to see if our agent improves in the training process, we can plot the mean rewards gained in one episode over the episode number. This value would grow as our agent becomes more skilled and gains more rewards in each episode."
   ]
  },
  {
   "cell_type": "code",
   "execution_count": null,
   "metadata": {},
   "outputs": [],
   "source": [
    "plt.figure(figsize=(8,4))\n",
    "plt.plot(mean_reward)\n",
    "plt.xlabel(\"episode\", fontsize=14)\n",
    "plt.ylabel(\"mean reward\", fontsize = 14)\n",
    "plt.title(\"Mean episode rewards over episode number\", fontsize = 16)\n",
    "plt.grid()"
   ]
  },
  {
   "cell_type": "markdown",
   "metadata": {},
   "source": [
    "### Watch the agent play an episode"
   ]
  },
  {
   "cell_type": "markdown",
   "metadata": {},
   "source": [
    "This is the fun part!\n",
    "Now we get to see how good our agent really is by watching it play an episode."
   ]
  },
  {
   "cell_type": "code",
   "execution_count": null,
   "metadata": {},
   "outputs": [],
   "source": [
    "ep_reward = []\n",
    "env = gym.make('BipedalWalker-v2')\n",
    "# env._max_episode_steps = 1000\n",
    "# env = gym.wrappers.Monitor(env, \"recording/LunarLander\")\n",
    "with tf.Session() as sess:\n",
    "    saver.restore(sess, \"models/BipedalWalker/model.ckpt\") # load model\n",
    "    obs = env.reset() # Reset env and save observation\n",
    "    t = 0\n",
    "    while True:\n",
    "        env.render() # Render game\n",
    "        # Use our model to create a probability distribution of actions based on observation\n",
    "        action = np.squeeze(sess.run(sample_action, feed_dict = {input_ : obs.reshape((1,obs_dim[0]))}))\n",
    "        action = np.clip(action,-1, 1) # clip action values to fit into the allowed box\n",
    "        obs, reward, done, info = env.step(action)\n",
    "        ep_reward.append(reward)\n",
    "        t = t+1\n",
    "        if done:\n",
    "            print(\"Game ended after {} steps\".format(t+1))\n",
    "            print(\"Total reward earned in this episode: {:0.2f}\".format(sum(ep_reward)))\n",
    "            break\n",
    "env.close()"
   ]
  },
  {
   "cell_type": "markdown",
   "metadata": {},
   "source": [
    "### Test the trained model performance"
   ]
  },
  {
   "cell_type": "code",
   "execution_count": null,
   "metadata": {},
   "outputs": [],
   "source": [
    "num_ep = 10\n",
    "ep_reward = []\n",
    "batch_reward = []\n",
    "env = gym.make('BipedalWalker-v2')\n",
    "env._max_episode_steps = 1000\n",
    "with tf.Session() as sess:\n",
    "    saver.restore(sess, \"models/BipedalWalker/model.ckpt\") # load model\n",
    "    for ep in range(num_ep):\n",
    "        obs = env.reset() # Reset env and save observation\n",
    "        t = 0\n",
    "        while True:\n",
    "            # Use our model to create a probability distribution of actions based on observation\n",
    "            apd = np.squeeze(sess.run(action_prob_dist, feed_dict={input_ : obs.reshape((1,obs_dim[0]))}))\n",
    "            # Choose an action out of the PDF and take action\n",
    "            action = np.random.choice(np.arange(num_actions), p = apd)\n",
    "            obs, reward, done, info = env.step(action)\n",
    "            ep_reward.append(reward)\n",
    "            t = t+1\n",
    "            if done:\n",
    "                print(\"-------------------------------------------\")\n",
    "                print(\"Game ended after {} steps\".format(t+1))\n",
    "                print(\"Total reward earned in this episode: {:0.2f}\".format(sum(ep_reward)))\n",
    "                batch_reward.append(sum(ep_reward))\n",
    "                ep_reward = []\n",
    "                break\n",
    "print(\"===================================================\")\n",
    "print(\"Average reward in batch is {:0.2f}\".format(np.mean(batch_reward)))"
   ]
  },
  {
   "cell_type": "code",
   "execution_count": null,
   "metadata": {},
   "outputs": [],
   "source": []
  }
 ],
 "metadata": {
  "kernelspec": {
   "display_name": "Python 3",
   "language": "python",
   "name": "python3"
  },
  "language_info": {
   "codemirror_mode": {
    "name": "ipython",
    "version": 3
   },
   "file_extension": ".py",
   "mimetype": "text/x-python",
   "name": "python",
   "nbconvert_exporter": "python",
   "pygments_lexer": "ipython3",
   "version": "3.6.5"
  }
 },
 "nbformat": 4,
 "nbformat_minor": 2
}
