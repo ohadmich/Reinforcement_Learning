{
 "cells": [
  {
   "cell_type": "markdown",
   "metadata": {},
   "source": [
    "# Reinforcement Learning for Bipedal Walker game"
   ]
  },
  {
   "cell_type": "markdown",
   "metadata": {},
   "source": [
    "Import libraries:"
   ]
  },
  {
   "cell_type": "code",
   "execution_count": 1,
   "metadata": {},
   "outputs": [
    {
     "name": "stderr",
     "output_type": "stream",
     "text": [
      "c:\\python36\\lib\\site-packages\\h5py\\__init__.py:36: FutureWarning: Conversion of the second argument of issubdtype from `float` to `np.floating` is deprecated. In future, it will be treated as `np.float64 == np.dtype(float).type`.\n",
      "  from ._conv import register_converters as _register_converters\n"
     ]
    }
   ],
   "source": [
    "import numpy as np\n",
    "import tensorflow as tf\n",
    "import gym\n",
    "import matplotlib.pyplot as plt\n",
    "% matplotlib notebook"
   ]
  },
  {
   "cell_type": "markdown",
   "metadata": {},
   "source": [
    "### Defining hyperparameters:"
   ]
  },
  {
   "cell_type": "markdown",
   "metadata": {},
   "source": [
    "Here we define all the hyperparameters for the model, this will allow as to easily iterate and find the values that give best results."
   ]
  },
  {
   "cell_type": "code",
   "execution_count": 2,
   "metadata": {},
   "outputs": [
    {
     "name": "stdout",
     "output_type": "stream",
     "text": [
      "\u001b[33mWARN: gym.spaces.Box autodetected dtype as <class 'numpy.float32'>. Please provide explicit dtype.\u001b[0m\n",
      "\u001b[33mWARN: gym.spaces.Box autodetected dtype as <class 'numpy.float32'>. Please provide explicit dtype.\u001b[0m\n"
     ]
    }
   ],
   "source": [
    "num_episodes = 50      # Number of episodes for training\n",
    "learning_rate = 0.001\n",
    "gamma = 0.99           # Discount factor for reward\n",
    "num_Hidden = 200       # number of nodes in the hidden layer\n",
    "\n",
    "env = gym.make('BipedalWalker-v2')    # Choose a game and create an environment\n",
    "env._max_episode_steps = 50000\n",
    "# env = env.unwrapped              # The wrapper limits the number of steps in an episode, let's get rid of it\n",
    "obs_dim = env.reset().shape      # obervation dimension\n",
    "num_actions = len(env.action_space.high) # number of actions (this works only for continuous action space, which is the case here)"
   ]
  },
  {
   "cell_type": "markdown",
   "metadata": {},
   "source": [
    "### Define functions"
   ]
  },
  {
   "cell_type": "markdown",
   "metadata": {},
   "source": [
    "**Discount reward function**: We we'll train our agent based on the reward gained for his actions. For each action we'll define the episode reward as the total reward gained in all the next steps of the current episode. Since a reward gained further away in the future has less correlation to the present action, we will give it less weight by discounting future rewards.\n",
    "\n",
    "The formula for the discounted rewards is given by:\n",
    "\n",
    "$$ R_t = \\sum_k \\gamma^k r_{t+k} $$\n",
    "\n",
    "Where $r_t$ is the reward gained in the step $t$ and $\\gamma \\in [0,1]$ is a hyperparameter called the discount factor.\n",
    "Here we define a function that takes a vector of rewards in consequent steps and returns the discounted reward vector:"
   ]
  },
  {
   "cell_type": "code",
   "execution_count": 3,
   "metadata": {},
   "outputs": [],
   "source": [
    "def discount_rewards(r):\n",
    "    '''Takes a 1D rewards (one episode) and discounts it and also standardize\n",
    "    the rewards to be unit normal (helps control the gradient estimator variance)'''\n",
    "    \n",
    "    # Discounting\n",
    "    dis_r = np.zeros_like(r)\n",
    "    running_sum = 0\n",
    "    for t in reversed(range(len(r))):\n",
    "        running_sum = gamma*running_sum + r[t]\n",
    "        dis_r[t] = running_sum\n",
    "    \n",
    "    # Normailzing\n",
    "    dis_r = (dis_r - np.mean(dis_r))/np.std(dis_r)\n",
    "        \n",
    "    return dis_r"
   ]
  },
  {
   "cell_type": "markdown",
   "metadata": {},
   "source": [
    "### Build model"
   ]
  },
  {
   "cell_type": "markdown",
   "metadata": {},
   "source": [
    "This game takes a continuous range of values for each action. In the Gym library language, the action space is a Box instead of Discrete"
   ]
  },
  {
   "cell_type": "code",
   "execution_count": 4,
   "metadata": {
    "scrolled": true
   },
   "outputs": [
    {
     "name": "stdout",
     "output_type": "stream",
     "text": [
      "Box(4,)\n",
      "[1. 1. 1. 1.]\n",
      "[-1. -1. -1. -1.]\n"
     ]
    }
   ],
   "source": [
    "print(env.action_space)\n",
    "print(env.action_space.high)\n",
    "print(env.action_space.low)"
   ]
  },
  {
   "cell_type": "markdown",
   "metadata": {},
   "source": [
    "In this case, each action is a vector of length 4 where every element value is in the [-1,1] domain. We will use Gaussian policy to train this model. Our NN would output the 4 mean values and 4 std values for each element of the action vector, and then use them to generate actions in each step."
   ]
  },
  {
   "cell_type": "markdown",
   "metadata": {},
   "source": [
    "To keep order in our model, we use name scopes which basically group the layers of our model in a simple to follow way. Eventually, when using [TensorBoard](https://www.tensorflow.org/guide/summaries_and_tensorboard) for visualizing the model, the graph is more readable and makes it easy to understand the model and find errors."
   ]
  },
  {
   "cell_type": "code",
   "execution_count": 5,
   "metadata": {},
   "outputs": [],
   "source": [
    "'''Create placeholders for inputs'''\n",
    "# A place holder for input observations\n",
    "input_ = tf.placeholder(tf.float32, shape = (None, obs_dim[0]), name = \"input\")\n",
    "# A place holder for actions in a full episode\n",
    "actions = tf.placeholder(tf.float32, shape = (None, num_actions), name = \"actions\")\n",
    "# A place holder for discounted rewards in a full episode\n",
    "dis_rewards = tf.placeholder(tf.float32, shape = (None, ), name = \"dis_rewards\")\n",
    "\n",
    "'''Fully connected layers'''\n",
    "# A network channel for predicting the mean values of the action PDF\n",
    "with tf.name_scope(\"Mean_channel\"):\n",
    "    Mfc1 = tf.layers.dense(inputs = input_, units = num_Hidden ,activation = tf.nn.relu, name = \"Mfc1\" )\n",
    "    Mfc2 = tf.layers.dense(inputs = Mfc1, units = num_actions ,activation = None, name = \"Mfc2\")\n",
    "\n",
    "    # A network channel for predicting the std values of the action PDF\n",
    "with tf.name_scope(\"Std_channel\"):\n",
    "    Sfc1 = tf.layers.dense(inputs = input_, units = num_Hidden ,activation = tf.nn.relu, name = \"Sfc1\" )\n",
    "    # We use a softplus activation for the last layer to ensure positive std value\n",
    "    Sfc2 = tf.layers.dense(inputs = input_, units = num_actions ,activation = tf.nn.softplus, name = \"Sfc2\" )\n",
    "    \n",
    "    \n",
    "with tf.name_scope(\"Action_PDF\"):\n",
    "    # Use the predicted mean and std for creating a probabilty distribution for actions\n",
    "    action_prob_dist = tf.contrib.distributions.Normal(loc = Mfc2, scale = Sfc2 + 1e-6, name = \"Normal_PDF\")\n",
    "    sample_action = action_prob_dist.sample([1], name = \"sample_action\")\n",
    "\n",
    "with tf.name_scope(\"Loss\"):\n",
    "    '''Define loss'''\n",
    "    # compute negative log probability using our PDF and sum over the actions in every time step\n",
    "    negative_logprob = - tf.reduce_sum(action_prob_dist.log_prob(actions), axis = 1)\n",
    "    # Modulate the loss based on our discounted reward - this is where reinforcment learning happens,\n",
    "    # we favor actions that produced high reward\n",
    "    loss = tf.reduce_mean(negative_logprob * dis_rewards, name = \"loss\")\n",
    "\n",
    "with tf.name_scope(\"Training\"):\n",
    "    '''Define optimizer'''\n",
    "    training_opt = tf.train.AdamOptimizer(learning_rate).minimize(loss)\n",
    "\n",
    "'''Define saver for saving and restoring model'''\n",
    "saver = tf.train.Saver()"
   ]
  },
  {
   "cell_type": "markdown",
   "metadata": {},
   "source": [
    "Define a writer for saving summaries to TensorBoard:"
   ]
  },
  {
   "cell_type": "code",
   "execution_count": 6,
   "metadata": {},
   "outputs": [],
   "source": [
    "# writer = tf.summary.FileWriter(\"./tensorboard/1/\")"
   ]
  },
  {
   "cell_type": "markdown",
   "metadata": {},
   "source": [
    "### Train model"
   ]
  },
  {
   "cell_type": "markdown",
   "metadata": {},
   "source": [
    "Now that we have a model ready, we can start training it.\n",
    "\n",
    "Our goal is to achieve a model that uses the current observation to create the best probability distribution function (PDF) for the next action to be taken. This is **not a deterministic model** - the agent has a fine probability to take any action after receiving an observation, with larger probability to take favorable actions.\n",
    "\n",
    "To achieve that, in each step, we use our model to generate a PDF of actions, draw an action out of it and take the next step.\n",
    "When we reach the end of the episode, we compute the episode loss by feeding the observation, action and discounted rewards vectors (which we kept track of). Our optimizer minimizes the loss which makes favorable (unfavorable) actions more probable (less probable) due to the multiplicative factor of the discounted reward. By repeating these steps to each episode, our agent gradually improves its PDF and becomes a better player!"
   ]
  },
  {
   "cell_type": "code",
   "execution_count": 7,
   "metadata": {
    "scrolled": true
   },
   "outputs": [
    {
     "name": "stdout",
     "output_type": "stream",
     "text": [
      "-------------------------------------------------\n",
      "Episode 0\n",
      "Episode ended after 33799 steps\n",
      "Accumulated reward in this episode -1820.8631198765765\n",
      "Mean reward so far -1820.86\n",
      "Maximal reward so far -1820.8631198765765\n",
      "-------------------------------------------------\n",
      "Episode 1\n",
      "Episode ended after 7393 steps\n",
      "Accumulated reward in this episode -534.0043292721473\n",
      "Mean reward so far -1177.43\n",
      "Maximal reward so far -534.0043292721473\n",
      "-------------------------------------------------\n",
      "Episode 2\n",
      "Episode ended after 74 steps\n",
      "Accumulated reward in this episode -102.45286335722854\n",
      "Mean reward so far -819.11\n",
      "Maximal reward so far -102.45286335722854\n",
      "-------------------------------------------------\n",
      "Episode 3\n",
      "Episode ended after 68 steps\n",
      "Accumulated reward in this episode -110.77057908886547\n",
      "Mean reward so far -642.02\n",
      "Maximal reward so far -102.45286335722854\n",
      "-------------------------------------------------\n",
      "Episode 4\n",
      "Episode ended after 78 steps\n",
      "Accumulated reward in this episode -103.32520841661841\n",
      "Mean reward so far -534.28\n",
      "Maximal reward so far -102.45286335722854\n",
      "-------------------------------------------------\n",
      "Episode 5\n",
      "Episode ended after 50000 steps\n",
      "Accumulated reward in this episode -2637.9487547707386\n",
      "Mean reward so far -884.89\n",
      "Maximal reward so far -102.45286335722854\n",
      "-------------------------------------------------\n",
      "Episode 6\n",
      "Episode ended after 50000 steps\n",
      "Accumulated reward in this episode -2514.2750437133004\n",
      "Mean reward so far -1117.66\n",
      "Maximal reward so far -102.45286335722854\n",
      "-------------------------------------------------\n",
      "Episode 7\n",
      "Episode ended after 126 steps\n",
      "Accumulated reward in this episode -100.56385147663703\n",
      "Mean reward so far -990.53\n",
      "Maximal reward so far -100.56385147663703\n",
      "-------------------------------------------------\n",
      "Episode 8\n",
      "Episode ended after 81 steps\n",
      "Accumulated reward in this episode -115.09187512483635\n",
      "Mean reward so far -893.26\n",
      "Maximal reward so far -100.56385147663703\n",
      "-------------------------------------------------\n",
      "Episode 9\n",
      "Episode ended after 50000 steps\n",
      "Accumulated reward in this episode -2516.014296339645\n",
      "Mean reward so far -1055.53\n",
      "Maximal reward so far -100.56385147663703\n",
      "-------------------------------------------------\n",
      "Episode 10\n",
      "Episode ended after 50000 steps\n",
      "Accumulated reward in this episode -2556.9268963848913\n",
      "Mean reward so far -1192.02\n",
      "Maximal reward so far -100.56385147663703\n",
      "-------------------------------------------------\n",
      "Episode 11\n",
      "Episode ended after 50000 steps\n",
      "Accumulated reward in this episode -2686.929781492853\n",
      "Mean reward so far -1316.60\n",
      "Maximal reward so far -100.56385147663703\n",
      "-------------------------------------------------\n",
      "Episode 12\n",
      "Episode ended after 50000 steps\n",
      "Accumulated reward in this episode -2499.548763864858\n",
      "Mean reward so far -1407.59\n",
      "Maximal reward so far -100.56385147663703\n",
      "-------------------------------------------------\n",
      "Episode 13\n",
      "Episode ended after 50000 steps\n",
      "Accumulated reward in this episode -2537.686616740369\n",
      "Mean reward so far -1488.31\n",
      "Maximal reward so far -100.56385147663703\n",
      "-------------------------------------------------\n",
      "Episode 14\n",
      "Episode ended after 46240 steps\n",
      "Accumulated reward in this episode -2241.619791881821\n",
      "Mean reward so far -1538.53\n",
      "Maximal reward so far -100.56385147663703\n",
      "-------------------------------------------------\n",
      "Episode 15\n",
      "Episode ended after 48528 steps\n",
      "Accumulated reward in this episode -2372.574476024291\n",
      "Mean reward so far -1590.66\n",
      "Maximal reward so far -100.56385147663703\n",
      "-------------------------------------------------\n",
      "Episode 16\n",
      "Episode ended after 47681 steps\n",
      "Accumulated reward in this episode -2334.267084152381\n",
      "Mean reward so far -1634.40\n",
      "Maximal reward so far -100.56385147663703\n",
      "-------------------------------------------------\n",
      "Episode 17\n",
      "Episode ended after 111 steps\n",
      "Accumulated reward in this episode -117.46639379624278\n",
      "Mean reward so far -1550.13\n",
      "Maximal reward so far -100.56385147663703\n",
      "-------------------------------------------------\n",
      "Episode 18\n",
      "Episode ended after 39219 steps\n",
      "Accumulated reward in this episode -1883.9351176713978\n",
      "Mean reward so far -1567.70\n",
      "Maximal reward so far -100.56385147663703\n",
      "-------------------------------------------------\n",
      "Episode 19\n",
      "Episode ended after 58 steps\n",
      "Accumulated reward in this episode -111.94434922267124\n",
      "Mean reward so far -1494.91\n",
      "Maximal reward so far -100.56385147663703\n",
      "-------------------------------------------------\n",
      "Episode 20\n",
      "Episode ended after 38942 steps\n",
      "Accumulated reward in this episode -1895.433880880826\n",
      "Mean reward so far -1513.98\n",
      "Maximal reward so far -100.56385147663703\n",
      "-------------------------------------------------\n",
      "Episode 21\n",
      "Episode ended after 37329 steps\n",
      "Accumulated reward in this episode -1806.1766085484098\n",
      "Mean reward so far -1527.26\n",
      "Maximal reward so far -100.56385147663703\n",
      "-------------------------------------------------\n",
      "Episode 22\n",
      "Episode ended after 41225 steps\n",
      "Accumulated reward in this episode -2031.978479731749\n",
      "Mean reward so far -1549.21\n",
      "Maximal reward so far -100.56385147663703\n",
      "-------------------------------------------------\n",
      "Episode 23\n",
      "Episode ended after 40422 steps\n",
      "Accumulated reward in this episode -1989.9145129244412\n",
      "Mean reward so far -1567.57\n",
      "Maximal reward so far -100.56385147663703\n",
      "-------------------------------------------------\n",
      "Episode 24\n",
      "Episode ended after 42744 steps\n",
      "Accumulated reward in this episode -2134.177484898894\n",
      "Mean reward so far -1590.24\n",
      "Maximal reward so far -100.56385147663703\n",
      "-------------------------------------------------\n",
      "Episode 25\n",
      "Episode ended after 42798 steps\n",
      "Accumulated reward in this episode -2138.0987742359766\n",
      "Mean reward so far -1611.31\n",
      "Maximal reward so far -100.56385147663703\n",
      "-------------------------------------------------\n",
      "Episode 26\n",
      "Episode ended after 53 steps\n",
      "Accumulated reward in this episode -114.7837390351606\n",
      "Mean reward so far -1555.88\n",
      "Maximal reward so far -100.56385147663703\n",
      "-------------------------------------------------\n",
      "Episode 27\n",
      "Episode ended after 44936 steps\n",
      "Accumulated reward in this episode -2279.64309309532\n",
      "Mean reward so far -1581.73\n",
      "Maximal reward so far -100.56385147663703\n",
      "-------------------------------------------------\n",
      "Episode 28\n",
      "Episode ended after 47 steps\n",
      "Accumulated reward in this episode -112.20938978514013\n",
      "Mean reward so far -1531.06\n",
      "Maximal reward so far -100.56385147663703\n",
      "-------------------------------------------------\n",
      "Episode 29\n",
      "Episode ended after 43229 steps\n",
      "Accumulated reward in this episode -2207.743728794108\n",
      "Mean reward so far -1553.61\n",
      "Maximal reward so far -100.56385147663703\n",
      "-------------------------------------------------\n",
      "Episode 30\n",
      "Episode ended after 48761 steps\n",
      "Accumulated reward in this episode -2545.728424366208\n",
      "Mean reward so far -1585.62\n",
      "Maximal reward so far -100.56385147663703\n",
      "-------------------------------------------------\n",
      "Episode 31\n",
      "Episode ended after 50000 steps\n",
      "Accumulated reward in this episode -2663.12936506318\n",
      "Mean reward so far -1619.29\n",
      "Maximal reward so far -100.56385147663703\n",
      "-------------------------------------------------\n",
      "Episode 32\n",
      "Episode ended after 50000 steps\n",
      "Accumulated reward in this episode -2644.101423983886\n",
      "Mean reward so far -1650.34\n",
      "Maximal reward so far -100.56385147663703\n",
      "-------------------------------------------------\n",
      "Episode 33\n",
      "Episode ended after 50000 steps\n",
      "Accumulated reward in this episode -2668.5046838046283\n",
      "Mean reward so far -1680.29\n",
      "Maximal reward so far -100.56385147663703\n",
      "-------------------------------------------------\n",
      "Episode 34\n",
      "Episode ended after 50000 steps\n",
      "Accumulated reward in this episode -2665.065891437967\n",
      "Mean reward so far -1708.43\n",
      "Maximal reward so far -100.56385147663703\n",
      "-------------------------------------------------\n",
      "Episode 35\n",
      "Episode ended after 43632 steps\n",
      "Accumulated reward in this episode -2260.349948099327\n",
      "Mean reward so far -1723.76\n",
      "Maximal reward so far -100.56385147663703\n",
      "-------------------------------------------------\n",
      "Episode 36\n",
      "Episode ended after 46150 steps\n",
      "Accumulated reward in this episode -2417.94041867151\n",
      "Mean reward so far -1742.52\n",
      "Maximal reward so far -100.56385147663703\n",
      "-------------------------------------------------\n",
      "Episode 37\n",
      "Episode ended after 50000 steps\n",
      "Accumulated reward in this episode -2692.3240174031944\n",
      "Mean reward so far -1767.51\n",
      "Maximal reward so far -100.56385147663703\n"
     ]
    },
    {
     "name": "stdout",
     "output_type": "stream",
     "text": [
      "-------------------------------------------------\n",
      "Episode 38\n",
      "Episode ended after 50000 steps\n",
      "Accumulated reward in this episode -2701.3092473988113\n",
      "Mean reward so far -1791.46\n",
      "Maximal reward so far -100.56385147663703\n",
      "-------------------------------------------------\n",
      "Episode 39\n",
      "Episode ended after 50000 steps\n",
      "Accumulated reward in this episode -2687.758348171341\n",
      "Mean reward so far -1813.86\n",
      "Maximal reward so far -100.56385147663703\n",
      "-------------------------------------------------\n",
      "Episode 40\n",
      "Episode ended after 48384 steps\n",
      "Accumulated reward in this episode -2547.5855491376847\n",
      "Mean reward so far -1831.76\n",
      "Maximal reward so far -100.56385147663703\n",
      "-------------------------------------------------\n",
      "Episode 41\n",
      "Episode ended after 50000 steps\n",
      "Accumulated reward in this episode -2907.536128515961\n",
      "Mean reward so far -1857.37\n",
      "Maximal reward so far -100.56385147663703\n",
      "-------------------------------------------------\n",
      "Episode 42\n",
      "Episode ended after 48955 steps\n",
      "Accumulated reward in this episode -2574.7354584012196\n",
      "Mean reward so far -1874.06\n",
      "Maximal reward so far -100.56385147663703\n",
      "-------------------------------------------------\n",
      "Episode 43\n",
      "Episode ended after 44207 steps\n",
      "Accumulated reward in this episode -2298.1756374708652\n",
      "Mean reward so far -1883.70\n",
      "Maximal reward so far -100.56385147663703\n",
      "-------------------------------------------------\n",
      "Episode 44\n",
      "Episode ended after 50000 steps\n",
      "Accumulated reward in this episode -2638.1123434830497\n",
      "Mean reward so far -1900.46\n",
      "Maximal reward so far -100.56385147663703\n",
      "-------------------------------------------------\n",
      "Episode 45\n",
      "Episode ended after 104 steps\n",
      "Accumulated reward in this episode -114.5087010188227\n",
      "Mean reward so far -1861.64\n",
      "Maximal reward so far -100.56385147663703\n",
      "-------------------------------------------------\n",
      "Episode 46\n",
      "Episode ended after 43 steps\n",
      "Accumulated reward in this episode -112.74627264349783\n",
      "Mean reward so far -1824.43\n",
      "Maximal reward so far -100.56385147663703\n",
      "-------------------------------------------------\n",
      "Episode 47\n",
      "Episode ended after 47858 steps\n",
      "Accumulated reward in this episode -2489.5521409036273\n",
      "Mean reward so far -1838.28\n",
      "Maximal reward so far -100.56385147663703\n",
      "-------------------------------------------------\n",
      "Episode 48\n",
      "Episode ended after 50000 steps\n",
      "Accumulated reward in this episode -2741.125798942915\n",
      "Mean reward so far -1856.71\n",
      "Maximal reward so far -100.56385147663703\n",
      "-------------------------------------------------\n",
      "Episode 49\n",
      "Episode ended after 50000 steps\n",
      "Accumulated reward in this episode -2619.9309726019014\n",
      "Mean reward so far -1871.97\n",
      "Maximal reward so far -100.56385147663703\n"
     ]
    }
   ],
   "source": [
    "ep_action, ep_obs, ep_reward = [], [], []  # Allocate space for episode actions, observations and rewards\n",
    "tot_ep_reward = [] # Total episode reward\n",
    "mean_reward = []\n",
    "\n",
    "''' Run TF session '''\n",
    "with tf.Session() as sess:\n",
    "    sess.run(tf.global_variables_initializer())\n",
    "\n",
    "    ''' Run episodes '''\n",
    "    for ep in range(num_episodes): \n",
    "        obs = env.reset()  # Reset and save first observation\n",
    "        ep_obs.append(obs) # append observation\n",
    "\n",
    "        ''' Run steps '''\n",
    "        while True:\n",
    "            # Propagate forward to compute action probability distribution and sample an action out of it\n",
    "            action = np.squeeze(sess.run(sample_action, feed_dict = {input_ : obs.reshape((1,obs_dim[0]))}))\n",
    "            # clip action values to fit into the allowed box\n",
    "            action = np.clip(action, env.action_space.low[0], env.action_space.high[0])\n",
    "            \n",
    "            obs, reward, done, info = env.step(action)  # Take action and save observation, reward and done boolean\n",
    "            \n",
    "            ep_action.append(action)     # append action\n",
    "            ep_obs.append(obs)           # append observation\n",
    "            ep_reward.append(reward)     # append reward\n",
    "\n",
    "            if done: \n",
    "                # Stack vertically episode parameters to one np.array\n",
    "                ep_action = np.vstack(ep_action)\n",
    "                ep_obs = np.vstack(ep_obs)\n",
    "                ep_reward = np.hstack(ep_reward)\n",
    "\n",
    "                # Discount rewards\n",
    "                dis_rewards_arr = discount_rewards(ep_reward)\n",
    "                # Compute loss and optimize\n",
    "                sess.run([loss, training_opt],\n",
    "                         feed_dict = {input_ : ep_obs[:-1], actions : ep_action, dis_rewards : dis_rewards_arr})\n",
    "                \n",
    "                tot_ep_reward.append(np.sum(ep_reward))  # Compute total reward for episode\n",
    "                mean_reward.append(np.mean(tot_ep_reward))\n",
    "                \n",
    "                 # print info\n",
    "                print(\"-------------------------------------------------\")\n",
    "                print(\"Episode {}\".format(ep))\n",
    "                print(\"Episode ended after {} steps\".format(ep_action.shape[0]))\n",
    "                print(\"Accumulated reward in this episode {}\".format(tot_ep_reward[ep]))\n",
    "                print(\"Mean reward so far {:0.2f}\".format(np.mean(tot_ep_reward)))\n",
    "                print(\"Maximal reward so far {}\".format(np.max(tot_ep_reward)))\n",
    "                \n",
    "                ep_action, ep_obs, ep_reward = [], [], []  # Clear episode values for next episode\n",
    "                      \n",
    "                break\n",
    "                \n",
    "    saver.save(sess, \"models/BipedalWalker/model.ckpt\") # save model for later\n",
    "#     writer.add_graph(sess.graph) # Save graph for displaying with TensorBoard\n",
    "env.close()"
   ]
  },
  {
   "cell_type": "markdown",
   "metadata": {},
   "source": [
    "### Assess model performance"
   ]
  },
  {
   "cell_type": "markdown",
   "metadata": {},
   "source": [
    "In order to get a sense of how good our model is, and to see if our agent improves in the training process, we can plot the mean rewards gained in one episode over the episode number. This value would grow as our agent becomes more skilled and gains more rewards in each episode."
   ]
  },
  {
   "cell_type": "code",
   "execution_count": 8,
   "metadata": {},
   "outputs": [
    {
     "data": {
      "image/png": "[encoded data removed]",
      "text/plain": [
       "<Figure size 576x288 with 1 Axes>"
      ]
     },
     "metadata": {},
     "output_type": "display_data"
    }
   ],
   "source": [
    "plt.figure(figsize=(8,4))\n",
    "plt.plot(mean_reward)\n",
    "plt.xlabel(\"episode\", fontsize=14)\n",
    "plt.ylabel(\"mean reward\", fontsize = 14)\n",
    "plt.title(\"Mean episode rewards over episode number\", fontsize = 16)\n",
    "plt.grid()"
   ]
  },
  {
   "cell_type": "markdown",
   "metadata": {},
   "source": [
    "### Watch the agent play an episode"
   ]
  },
  {
   "cell_type": "markdown",
   "metadata": {},
   "source": [
    "This is the fun part!\n",
    "Now we get to see how good our agent really is by watching it play an episode."
   ]
  },
  {
   "cell_type": "code",
   "execution_count": 13,
   "metadata": {},
   "outputs": [
    {
     "name": "stdout",
     "output_type": "stream",
     "text": [
      "\u001b[33mWARN: gym.spaces.Box autodetected dtype as <class 'numpy.float32'>. Please provide explicit dtype.\u001b[0m\n",
      "\u001b[33mWARN: gym.spaces.Box autodetected dtype as <class 'numpy.float32'>. Please provide explicit dtype.\u001b[0m\n",
      "INFO:tensorflow:Restoring parameters from models/BipedalWalker/model.ckpt\n",
      "Game ended after 1601 steps\n",
      "Total reward earned in this episode: -86.87\n"
     ]
    }
   ],
   "source": [
    "ep_reward = []\n",
    "env = gym.make('BipedalWalker-v2')\n",
    "# env._max_episode_steps = 1000\n",
    "# env = gym.wrappers.Monitor(env, \"recording/LunarLander\")\n",
    "with tf.Session() as sess:\n",
    "    saver.restore(sess, \"models/BipedalWalker/model.ckpt\") # load model\n",
    "    obs = env.reset() # Reset env and save observation\n",
    "    t = 0\n",
    "    while True:\n",
    "        env.render() # Render game\n",
    "        # Use our model to create a probability distribution of actions based on observation\n",
    "        action = np.squeeze(sess.run(sample_action, feed_dict = {input_ : obs.reshape((1,obs_dim[0]))}))\n",
    "        # clip action values to fit into the allowed box\n",
    "        action = np.clip(action, env.action_space.low[0], env.action_space.high[0])\n",
    "        obs, reward, done, info = env.step(action)\n",
    "        ep_reward.append(reward)\n",
    "        t = t+1\n",
    "        if done:\n",
    "            print(\"Game ended after {} steps\".format(t+1))\n",
    "            print(\"Total reward earned in this episode: {:0.2f}\".format(sum(ep_reward)))\n",
    "            break\n",
    "env.close()"
   ]
  },
  {
   "cell_type": "code",
   "execution_count": null,
   "metadata": {},
   "outputs": [],
   "source": []
  }
 ],
 "metadata": {
  "kernelspec": {
   "display_name": "Python 3",
   "language": "python",
   "name": "python3"
  },
  "language_info": {
   "codemirror_mode": {
    "name": "ipython",
    "version": 3
   },
   "file_extension": ".py",
   "mimetype": "text/x-python",
   "name": "python",
   "nbconvert_exporter": "python",
   "pygments_lexer": "ipython3",
   "version": "3.6.5"
  }
 },
 "nbformat": 4,
 "nbformat_minor": 2
}
