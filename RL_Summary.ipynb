{
 "cells": [
  {
   "cell_type": "markdown",
   "metadata": {},
   "source": [
    "# Display current agent performance"
   ]
  },
  {
   "cell_type": "markdown",
   "metadata": {},
   "source": [
    "Import libraries:"
   ]
  },
  {
   "cell_type": "code",
   "execution_count": 1,
   "metadata": {},
   "outputs": [
    {
     "name": "stderr",
     "output_type": "stream",
     "text": [
      "c:\\python36\\lib\\site-packages\\h5py\\__init__.py:36: FutureWarning: Conversion of the second argument of issubdtype from `float` to `np.floating` is deprecated. In future, it will be treated as `np.float64 == np.dtype(float).type`.\n",
      "  from ._conv import register_converters as _register_converters\n"
     ]
    }
   ],
   "source": [
    "import numpy as np\n",
    "import tensorflow as tf\n",
    "import gym\n",
    "gym.logger.set_level(40)\n",
    "import matplotlib.pyplot as plt\n",
    "% matplotlib notebook"
   ]
  },
  {
   "cell_type": "markdown",
   "metadata": {},
   "source": [
    "### Watch agents play an episode of each game"
   ]
  },
  {
   "cell_type": "markdown",
   "metadata": {},
   "source": [
    "Let's define a list of all the games for which we have a trained agent ready"
   ]
  },
  {
   "cell_type": "code",
   "execution_count": 2,
   "metadata": {},
   "outputs": [],
   "source": [
    "game_name = ['CartPole', 'MountainCar', 'LunarLander', 'Acrobot']\n",
    "version = ['v0', 'v0', 'v2', 'v1']"
   ]
  },
  {
   "cell_type": "markdown",
   "metadata": {},
   "source": [
    "Now for each game, load the trained model and run one episode. I'm adding a limit for the maximal number of steps as some of the games can have very long episodes"
   ]
  },
  {
   "cell_type": "code",
   "execution_count": 3,
   "metadata": {},
   "outputs": [
    {
     "name": "stdout",
     "output_type": "stream",
     "text": [
      "INFO:tensorflow:Restoring parameters from models/CartPole/model.ckpt\n",
      "Game ended after 1001 steps\n",
      "Total reward earned in this episode: 1000.00\n",
      "INFO:tensorflow:Restoring parameters from models/MountainCar/model.ckpt\n",
      "Game ended after 397 steps\n",
      "Total reward earned in this episode: -396.00\n",
      "INFO:tensorflow:Restoring parameters from models/LunarLander/model.ckpt\n",
      "Game ended after 286 steps\n",
      "Total reward earned in this episode: 265.83\n",
      "INFO:tensorflow:Restoring parameters from models/Acrobot/model.ckpt\n",
      "Game ended after 193 steps\n",
      "Total reward earned in this episode: -191.00\n"
     ]
    }
   ],
   "source": [
    "for i in range(len(game_name)):\n",
    "    \n",
    "    ep_reward = []\n",
    "    env = gym.make(game_name[i] + '-' + version[i]) # Create an instance of the game environment\n",
    "    env._max_episode_steps = 1000 # Limit maximal number of steps per episode\n",
    "\n",
    "    with tf.Session() as sess:\n",
    "\n",
    "        '''Load model'''\n",
    "        saver = tf.train.import_meta_graph(\"models/\" + game_name[i] + \"/model.ckpt.meta\") # import saved graph\n",
    "        saver.restore(sess, \"models/\" + game_name[i] + \"/model.ckpt\") # load model parameters\n",
    "        graph = tf.get_default_graph() # create a graph instance containing all the tensors\n",
    "        action_prob_dist = graph.get_tensor_by_name(\"Action_PDF/softamx:0\") # get the action PDF output tensor\n",
    "        input_ = graph.get_tensor_by_name(\"input:0\") # get the input tensor\n",
    "\n",
    "        '''Play an episode according to the model'''\n",
    "        obs = env.reset() # Reset env and save observation\n",
    "        t = 0\n",
    "        while True:\n",
    "            env.render() # Render game\n",
    "            # Use our model to create a probability distribution of actions based on observation\n",
    "            apd = np.squeeze(sess.run(action_prob_dist, feed_dict={input_ : obs.reshape((1,len(obs)))}))\n",
    "            # Choose an action out of the PDF and take action\n",
    "            action = np.random.choice(np.arange(len(apd)), p = apd)\n",
    "            obs, reward, done, info = env.step(action)\n",
    "            ep_reward.append(reward) # Append step reward to episode rewards list\n",
    "            t = t+1\n",
    "            if done:\n",
    "                print(\"Game ended after {} steps\".format(t+1))\n",
    "                print(\"Total reward earned in this episode: {:0.2f}\".format(sum(ep_reward)))\n",
    "                break\n",
    "    env.close()\n",
    "    tf.reset_default_graph() # Reset graph for allowing next model to be loaded"
   ]
  },
  {
   "cell_type": "markdown",
   "metadata": {},
   "source": [
    "### Evaluate agents performance"
   ]
  },
  {
   "cell_type": "markdown",
   "metadata": {},
   "source": [
    "Game solving threshold:\n",
    "* Cart Pole is solved when reward is greater than 195 over 100 cosequtive trials.\n",
    "* Lunar Lender is solved beyond 200 points\n",
    "\n",
    "\n",
    "In order to get a better sense of the agets performance we need more statisics:"
   ]
  },
  {
   "cell_type": "code",
   "execution_count": 12,
   "metadata": {},
   "outputs": [
    {
     "name": "stdout",
     "output_type": "stream",
     "text": [
      "Mean episode reward in CartPole is: 1000 ± 0\n",
      "Mean episode reward in MountainCar is: -628 ± 168\n",
      "Mean episode reward in LunarLander is: 218 ± 94\n",
      "Mean episode reward in Acrobot is: -155 ± 83\n"
     ]
    },
    {
     "data": {
      "image/png": "[encoded data removed]",
      "text/plain": [
       "<Figure size 432x288 with 1 Axes>"
      ]
     },
     "metadata": {},
     "output_type": "display_data"
    },
    {
     "data": {
      "image/png": "[encoded data removed]",
      "text/plain": [
       "<Figure size 432x288 with 1 Axes>"
      ]
     },
     "metadata": {},
     "output_type": "display_data"
    },
    {
     "data": {
      "image/png": "[encoded data removed]",
      "text/plain": [
       "<Figure size 432x288 with 1 Axes>"
      ]
     },
     "metadata": {},
     "output_type": "display_data"
    },
    {
     "data": {
      "image/png": "[encoded data removed]",
      "text/plain": [
       "<Figure size 432x288 with 1 Axes>"
      ]
     },
     "metadata": {},
     "output_type": "display_data"
    }
   ],
   "source": [
    "tf.logging.set_verbosity(tf.logging.ERROR) # Hide loading models INFO messages\n",
    "for i in range(len(game_name)):\n",
    "    sess = tf.Session()\n",
    "    \n",
    "    '''Define environment'''\n",
    "    env = gym.make(game_name[i] + '-' + version[i]) # Create an instance of the game environment\n",
    "    env._max_episode_steps = 1000 # Limit maximal number of steps per episode\n",
    "    \n",
    "    '''Load model'''\n",
    "    saver = tf.train.import_meta_graph(\"models/\" + game_name[i] + \"/model.ckpt.meta\") # import saved graph\n",
    "    saver.restore(sess, \"models/\" + game_name[i] + \"/model.ckpt\") # load model parameters\n",
    "    graph = tf.get_default_graph() # create a graph instance containing all the tensors\n",
    "    action_prob_dist = graph.get_tensor_by_name(\"Action_PDF/softamx:0\") # get the action PDF output tensor\n",
    "    input_ = graph.get_tensor_by_name(\"input:0\") # get the input tensor\n",
    "    \n",
    "    total_reward = []\n",
    "    for j in range(100):\n",
    "        ep_reward = []\n",
    "        '''Play an episode according to the model'''\n",
    "        obs = env.reset() # Reset env and save observation\n",
    "        t = 0\n",
    "        while True:\n",
    "            # Use our model to create a probability distribution of actions based on observation\n",
    "            apd = np.squeeze(sess.run(action_prob_dist, feed_dict={input_ : obs.reshape((1,len(obs)))}))\n",
    "            # Choose an action out of the PDF and take action\n",
    "            action = np.random.choice(np.arange(len(apd)), p = apd)\n",
    "            obs, reward, done, info = env.step(action)\n",
    "            ep_reward.append(reward) # Append step reward to episode rewards list\n",
    "            t = t+1\n",
    "            if done:\n",
    "                total_reward.append(np.sum(ep_reward)) # Append the total reward in this episode \n",
    "                break\n",
    "    sess.close()\n",
    "    mean_reward = int(np.mean(total_reward)) # Compute the mean reward per episode \n",
    "    std_reward = int(np.std(total_reward)) # Compute std of the reward over episodes\n",
    "    print(\"Mean episode reward in \" + game_name[i] + \" is: {:d} \".format(mean_reward) \n",
    "           + u\"\\u00B1\" + \" {:d}\".format(std_reward))\n",
    "    \n",
    "    '''Plot historagms'''\n",
    "    plt.figure()\n",
    "    plt.hist(total_reward, 100)\n",
    "    plt.title(\"Mean episode reward in \" + game_name[i] + \" is: {:d} \".format(mean_reward) \n",
    "           + u\"\\u00B1\" + \" {:d}\".format(std_reward))\n",
    "    \n",
    "    tf.reset_default_graph() # Reset graph for allowing next model to be loaded"
   ]
  },
  {
   "cell_type": "code",
   "execution_count": null,
   "metadata": {},
   "outputs": [],
   "source": []
  }
 ],
 "metadata": {
  "kernelspec": {
   "display_name": "Python 3",
   "language": "python",
   "name": "python3"
  },
  "language_info": {
   "codemirror_mode": {
    "name": "ipython",
    "version": 3
   },
   "file_extension": ".py",
   "mimetype": "text/x-python",
   "name": "python",
   "nbconvert_exporter": "python",
   "pygments_lexer": "ipython3",
   "version": "3.6.5"
  }
 },
 "nbformat": 4,
 "nbformat_minor": 2
}
